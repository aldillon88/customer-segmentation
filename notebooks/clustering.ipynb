{
 "cells": [
  {
   "cell_type": "code",
   "execution_count": 180,
   "metadata": {},
   "outputs": [],
   "source": [
    "import pandas as pd\n",
    "import numpy as np\n",
    "import plotly.express as px\n",
    "import plotly.graph_objects as go\n",
    "from plotly.subplots import make_subplots\n",
    "\n",
    "# Set the default template to 'plotly_dark' for all Plotly figures\n",
    "import plotly.io as pio\n",
    "pio.templates.default = 'plotly_dark'\n",
    "\n",
    "from sklearn.preprocessing import LabelEncoder\n",
    "from sklearn.cluster import KMeans\n",
    "from sklearn.preprocessing import StandardScaler\n",
    "from sklearn.decomposition import PCA\n",
    "from sklearn.metrics import silhouette_score"
   ]
  },
  {
   "cell_type": "code",
   "execution_count": 181,
   "metadata": {},
   "outputs": [
    {
     "data": {
      "text/html": [
       "<div>\n",
       "<style scoped>\n",
       "    .dataframe tbody tr th:only-of-type {\n",
       "        vertical-align: middle;\n",
       "    }\n",
       "\n",
       "    .dataframe tbody tr th {\n",
       "        vertical-align: top;\n",
       "    }\n",
       "\n",
       "    .dataframe thead th {\n",
       "        text-align: right;\n",
       "    }\n",
       "</style>\n",
       "<table border=\"1\" class=\"dataframe\">\n",
       "  <thead>\n",
       "    <tr style=\"text-align: right;\">\n",
       "      <th></th>\n",
       "      <th>age</th>\n",
       "      <th>gender</th>\n",
       "      <th>income</th>\n",
       "      <th>spending_score</th>\n",
       "      <th>membership_years</th>\n",
       "      <th>purchase_frequency</th>\n",
       "      <th>preferred_category</th>\n",
       "      <th>last_purchase_amount</th>\n",
       "      <th>age_range</th>\n",
       "      <th>income_level</th>\n",
       "      <th>spending_score_category</th>\n",
       "      <th>purchase_frequency_category</th>\n",
       "      <th>membership_score</th>\n",
       "    </tr>\n",
       "    <tr>\n",
       "      <th>id</th>\n",
       "      <th></th>\n",
       "      <th></th>\n",
       "      <th></th>\n",
       "      <th></th>\n",
       "      <th></th>\n",
       "      <th></th>\n",
       "      <th></th>\n",
       "      <th></th>\n",
       "      <th></th>\n",
       "      <th></th>\n",
       "      <th></th>\n",
       "      <th></th>\n",
       "      <th></th>\n",
       "    </tr>\n",
       "  </thead>\n",
       "  <tbody>\n",
       "    <tr>\n",
       "      <th>1</th>\n",
       "      <td>38</td>\n",
       "      <td>Female</td>\n",
       "      <td>99342</td>\n",
       "      <td>90</td>\n",
       "      <td>3</td>\n",
       "      <td>24</td>\n",
       "      <td>Groceries</td>\n",
       "      <td>113.53</td>\n",
       "      <td>(30, 40]</td>\n",
       "      <td>Medium</td>\n",
       "      <td>Premium</td>\n",
       "      <td>Medium</td>\n",
       "      <td>Bronze</td>\n",
       "    </tr>\n",
       "    <tr>\n",
       "      <th>2</th>\n",
       "      <td>21</td>\n",
       "      <td>Female</td>\n",
       "      <td>78852</td>\n",
       "      <td>60</td>\n",
       "      <td>2</td>\n",
       "      <td>42</td>\n",
       "      <td>Sports</td>\n",
       "      <td>41.93</td>\n",
       "      <td>(20, 30]</td>\n",
       "      <td>Medium</td>\n",
       "      <td>High</td>\n",
       "      <td>High</td>\n",
       "      <td>Bronze</td>\n",
       "    </tr>\n",
       "    <tr>\n",
       "      <th>3</th>\n",
       "      <td>60</td>\n",
       "      <td>Female</td>\n",
       "      <td>126573</td>\n",
       "      <td>30</td>\n",
       "      <td>2</td>\n",
       "      <td>28</td>\n",
       "      <td>Clothing</td>\n",
       "      <td>424.36</td>\n",
       "      <td>(50, 60]</td>\n",
       "      <td>High</td>\n",
       "      <td>Medium</td>\n",
       "      <td>Medium</td>\n",
       "      <td>Bronze</td>\n",
       "    </tr>\n",
       "    <tr>\n",
       "      <th>4</th>\n",
       "      <td>40</td>\n",
       "      <td>Other</td>\n",
       "      <td>47099</td>\n",
       "      <td>74</td>\n",
       "      <td>9</td>\n",
       "      <td>5</td>\n",
       "      <td>Home &amp; Garden</td>\n",
       "      <td>991.93</td>\n",
       "      <td>(30, 40]</td>\n",
       "      <td>Low</td>\n",
       "      <td>High</td>\n",
       "      <td>Low</td>\n",
       "      <td>Gold</td>\n",
       "    </tr>\n",
       "    <tr>\n",
       "      <th>5</th>\n",
       "      <td>65</td>\n",
       "      <td>Female</td>\n",
       "      <td>140621</td>\n",
       "      <td>21</td>\n",
       "      <td>3</td>\n",
       "      <td>25</td>\n",
       "      <td>Electronics</td>\n",
       "      <td>347.08</td>\n",
       "      <td>(60, 70]</td>\n",
       "      <td>High</td>\n",
       "      <td>Low</td>\n",
       "      <td>Medium</td>\n",
       "      <td>Bronze</td>\n",
       "    </tr>\n",
       "  </tbody>\n",
       "</table>\n",
       "</div>"
      ],
      "text/plain": [
       "    age  gender  income  spending_score  membership_years  purchase_frequency  \\\n",
       "id                                                                              \n",
       "1    38  Female   99342              90                 3                  24   \n",
       "2    21  Female   78852              60                 2                  42   \n",
       "3    60  Female  126573              30                 2                  28   \n",
       "4    40   Other   47099              74                 9                   5   \n",
       "5    65  Female  140621              21                 3                  25   \n",
       "\n",
       "   preferred_category  last_purchase_amount age_range income_level  \\\n",
       "id                                                                   \n",
       "1           Groceries                113.53  (30, 40]       Medium   \n",
       "2              Sports                 41.93  (20, 30]       Medium   \n",
       "3            Clothing                424.36  (50, 60]         High   \n",
       "4       Home & Garden                991.93  (30, 40]          Low   \n",
       "5         Electronics                347.08  (60, 70]         High   \n",
       "\n",
       "   spending_score_category purchase_frequency_category membership_score  \n",
       "id                                                                       \n",
       "1                  Premium                      Medium           Bronze  \n",
       "2                     High                        High           Bronze  \n",
       "3                   Medium                      Medium           Bronze  \n",
       "4                     High                         Low             Gold  \n",
       "5                      Low                      Medium           Bronze  "
      ]
     },
     "execution_count": 181,
     "metadata": {},
     "output_type": "execute_result"
    }
   ],
   "source": [
    "path = '../data/clean/cleaned.csv'\n",
    "df = pd.read_csv(path).set_index('id')\n",
    "df.head()"
   ]
  },
  {
   "cell_type": "code",
   "execution_count": 182,
   "metadata": {},
   "outputs": [
    {
     "data": {
      "text/plain": [
       "age                              int64\n",
       "gender                          object\n",
       "income                           int64\n",
       "spending_score                   int64\n",
       "membership_years                 int64\n",
       "purchase_frequency               int64\n",
       "preferred_category              object\n",
       "last_purchase_amount           float64\n",
       "age_range                       object\n",
       "income_level                    object\n",
       "spending_score_category         object\n",
       "purchase_frequency_category     object\n",
       "membership_score                object\n",
       "dtype: object"
      ]
     },
     "execution_count": 182,
     "metadata": {},
     "output_type": "execute_result"
    }
   ],
   "source": [
    "df.dtypes"
   ]
  },
  {
   "cell_type": "markdown",
   "metadata": {},
   "source": [
    "### Test 1: Kmeans clustering with encoded categorical features"
   ]
  },
  {
   "cell_type": "code",
   "execution_count": 183,
   "metadata": {},
   "outputs": [
    {
     "data": {
      "application/vnd.plotly.v1+json": {
       "config": {
        "plotlyServerURL": "https://plot.ly"
       },
       "data": [
        {
         "hovertemplate": "x=%{x}<br>y=%{y}<extra></extra>",
         "legendgroup": "",
         "line": {
          "color": "#636efa",
          "dash": "solid"
         },
         "marker": {
          "symbol": "circle"
         },
         "mode": "lines",
         "name": "",
         "orientation": "v",
         "showlegend": false,
         "type": "scatter",
         "x": [
          1,
          2,
          3,
          4,
          5,
          6,
          7,
          8,
          9,
          10
         ],
         "xaxis": "x",
         "y": [
          7000.000000000002,
          6242.2130834441505,
          5678.03970659694,
          5325.400807638432,
          5001.703374360797,
          4738.2477126242475,
          4406.511708038004,
          4294.523902260942,
          4061.996453593209,
          3891.2794532520306
         ],
         "yaxis": "y"
        }
       ],
       "layout": {
        "legend": {
         "tracegroupgap": 0
        },
        "margin": {
         "t": 60
        },
        "template": {
         "data": {
          "bar": [
           {
            "error_x": {
             "color": "#f2f5fa"
            },
            "error_y": {
             "color": "#f2f5fa"
            },
            "marker": {
             "line": {
              "color": "rgb(17,17,17)",
              "width": 0.5
             },
             "pattern": {
              "fillmode": "overlay",
              "size": 10,
              "solidity": 0.2
             }
            },
            "type": "bar"
           }
          ],
          "barpolar": [
           {
            "marker": {
             "line": {
              "color": "rgb(17,17,17)",
              "width": 0.5
             },
             "pattern": {
              "fillmode": "overlay",
              "size": 10,
              "solidity": 0.2
             }
            },
            "type": "barpolar"
           }
          ],
          "carpet": [
           {
            "aaxis": {
             "endlinecolor": "#A2B1C6",
             "gridcolor": "#506784",
             "linecolor": "#506784",
             "minorgridcolor": "#506784",
             "startlinecolor": "#A2B1C6"
            },
            "baxis": {
             "endlinecolor": "#A2B1C6",
             "gridcolor": "#506784",
             "linecolor": "#506784",
             "minorgridcolor": "#506784",
             "startlinecolor": "#A2B1C6"
            },
            "type": "carpet"
           }
          ],
          "choropleth": [
           {
            "colorbar": {
             "outlinewidth": 0,
             "ticks": ""
            },
            "type": "choropleth"
           }
          ],
          "contour": [
           {
            "colorbar": {
             "outlinewidth": 0,
             "ticks": ""
            },
            "colorscale": [
             [
              0,
              "#0d0887"
             ],
             [
              0.1111111111111111,
              "#46039f"
             ],
             [
              0.2222222222222222,
              "#7201a8"
             ],
             [
              0.3333333333333333,
              "#9c179e"
             ],
             [
              0.4444444444444444,
              "#bd3786"
             ],
             [
              0.5555555555555556,
              "#d8576b"
             ],
             [
              0.6666666666666666,
              "#ed7953"
             ],
             [
              0.7777777777777778,
              "#fb9f3a"
             ],
             [
              0.8888888888888888,
              "#fdca26"
             ],
             [
              1,
              "#f0f921"
             ]
            ],
            "type": "contour"
           }
          ],
          "contourcarpet": [
           {
            "colorbar": {
             "outlinewidth": 0,
             "ticks": ""
            },
            "type": "contourcarpet"
           }
          ],
          "heatmap": [
           {
            "colorbar": {
             "outlinewidth": 0,
             "ticks": ""
            },
            "colorscale": [
             [
              0,
              "#0d0887"
             ],
             [
              0.1111111111111111,
              "#46039f"
             ],
             [
              0.2222222222222222,
              "#7201a8"
             ],
             [
              0.3333333333333333,
              "#9c179e"
             ],
             [
              0.4444444444444444,
              "#bd3786"
             ],
             [
              0.5555555555555556,
              "#d8576b"
             ],
             [
              0.6666666666666666,
              "#ed7953"
             ],
             [
              0.7777777777777778,
              "#fb9f3a"
             ],
             [
              0.8888888888888888,
              "#fdca26"
             ],
             [
              1,
              "#f0f921"
             ]
            ],
            "type": "heatmap"
           }
          ],
          "heatmapgl": [
           {
            "colorbar": {
             "outlinewidth": 0,
             "ticks": ""
            },
            "colorscale": [
             [
              0,
              "#0d0887"
             ],
             [
              0.1111111111111111,
              "#46039f"
             ],
             [
              0.2222222222222222,
              "#7201a8"
             ],
             [
              0.3333333333333333,
              "#9c179e"
             ],
             [
              0.4444444444444444,
              "#bd3786"
             ],
             [
              0.5555555555555556,
              "#d8576b"
             ],
             [
              0.6666666666666666,
              "#ed7953"
             ],
             [
              0.7777777777777778,
              "#fb9f3a"
             ],
             [
              0.8888888888888888,
              "#fdca26"
             ],
             [
              1,
              "#f0f921"
             ]
            ],
            "type": "heatmapgl"
           }
          ],
          "histogram": [
           {
            "marker": {
             "pattern": {
              "fillmode": "overlay",
              "size": 10,
              "solidity": 0.2
             }
            },
            "type": "histogram"
           }
          ],
          "histogram2d": [
           {
            "colorbar": {
             "outlinewidth": 0,
             "ticks": ""
            },
            "colorscale": [
             [
              0,
              "#0d0887"
             ],
             [
              0.1111111111111111,
              "#46039f"
             ],
             [
              0.2222222222222222,
              "#7201a8"
             ],
             [
              0.3333333333333333,
              "#9c179e"
             ],
             [
              0.4444444444444444,
              "#bd3786"
             ],
             [
              0.5555555555555556,
              "#d8576b"
             ],
             [
              0.6666666666666666,
              "#ed7953"
             ],
             [
              0.7777777777777778,
              "#fb9f3a"
             ],
             [
              0.8888888888888888,
              "#fdca26"
             ],
             [
              1,
              "#f0f921"
             ]
            ],
            "type": "histogram2d"
           }
          ],
          "histogram2dcontour": [
           {
            "colorbar": {
             "outlinewidth": 0,
             "ticks": ""
            },
            "colorscale": [
             [
              0,
              "#0d0887"
             ],
             [
              0.1111111111111111,
              "#46039f"
             ],
             [
              0.2222222222222222,
              "#7201a8"
             ],
             [
              0.3333333333333333,
              "#9c179e"
             ],
             [
              0.4444444444444444,
              "#bd3786"
             ],
             [
              0.5555555555555556,
              "#d8576b"
             ],
             [
              0.6666666666666666,
              "#ed7953"
             ],
             [
              0.7777777777777778,
              "#fb9f3a"
             ],
             [
              0.8888888888888888,
              "#fdca26"
             ],
             [
              1,
              "#f0f921"
             ]
            ],
            "type": "histogram2dcontour"
           }
          ],
          "mesh3d": [
           {
            "colorbar": {
             "outlinewidth": 0,
             "ticks": ""
            },
            "type": "mesh3d"
           }
          ],
          "parcoords": [
           {
            "line": {
             "colorbar": {
              "outlinewidth": 0,
              "ticks": ""
             }
            },
            "type": "parcoords"
           }
          ],
          "pie": [
           {
            "automargin": true,
            "type": "pie"
           }
          ],
          "scatter": [
           {
            "marker": {
             "line": {
              "color": "#283442"
             }
            },
            "type": "scatter"
           }
          ],
          "scatter3d": [
           {
            "line": {
             "colorbar": {
              "outlinewidth": 0,
              "ticks": ""
             }
            },
            "marker": {
             "colorbar": {
              "outlinewidth": 0,
              "ticks": ""
             }
            },
            "type": "scatter3d"
           }
          ],
          "scattercarpet": [
           {
            "marker": {
             "colorbar": {
              "outlinewidth": 0,
              "ticks": ""
             }
            },
            "type": "scattercarpet"
           }
          ],
          "scattergeo": [
           {
            "marker": {
             "colorbar": {
              "outlinewidth": 0,
              "ticks": ""
             }
            },
            "type": "scattergeo"
           }
          ],
          "scattergl": [
           {
            "marker": {
             "line": {
              "color": "#283442"
             }
            },
            "type": "scattergl"
           }
          ],
          "scattermapbox": [
           {
            "marker": {
             "colorbar": {
              "outlinewidth": 0,
              "ticks": ""
             }
            },
            "type": "scattermapbox"
           }
          ],
          "scatterpolar": [
           {
            "marker": {
             "colorbar": {
              "outlinewidth": 0,
              "ticks": ""
             }
            },
            "type": "scatterpolar"
           }
          ],
          "scatterpolargl": [
           {
            "marker": {
             "colorbar": {
              "outlinewidth": 0,
              "ticks": ""
             }
            },
            "type": "scatterpolargl"
           }
          ],
          "scatterternary": [
           {
            "marker": {
             "colorbar": {
              "outlinewidth": 0,
              "ticks": ""
             }
            },
            "type": "scatterternary"
           }
          ],
          "surface": [
           {
            "colorbar": {
             "outlinewidth": 0,
             "ticks": ""
            },
            "colorscale": [
             [
              0,
              "#0d0887"
             ],
             [
              0.1111111111111111,
              "#46039f"
             ],
             [
              0.2222222222222222,
              "#7201a8"
             ],
             [
              0.3333333333333333,
              "#9c179e"
             ],
             [
              0.4444444444444444,
              "#bd3786"
             ],
             [
              0.5555555555555556,
              "#d8576b"
             ],
             [
              0.6666666666666666,
              "#ed7953"
             ],
             [
              0.7777777777777778,
              "#fb9f3a"
             ],
             [
              0.8888888888888888,
              "#fdca26"
             ],
             [
              1,
              "#f0f921"
             ]
            ],
            "type": "surface"
           }
          ],
          "table": [
           {
            "cells": {
             "fill": {
              "color": "#506784"
             },
             "line": {
              "color": "rgb(17,17,17)"
             }
            },
            "header": {
             "fill": {
              "color": "#2a3f5f"
             },
             "line": {
              "color": "rgb(17,17,17)"
             }
            },
            "type": "table"
           }
          ]
         },
         "layout": {
          "annotationdefaults": {
           "arrowcolor": "#f2f5fa",
           "arrowhead": 0,
           "arrowwidth": 1
          },
          "autotypenumbers": "strict",
          "coloraxis": {
           "colorbar": {
            "outlinewidth": 0,
            "ticks": ""
           }
          },
          "colorscale": {
           "diverging": [
            [
             0,
             "#8e0152"
            ],
            [
             0.1,
             "#c51b7d"
            ],
            [
             0.2,
             "#de77ae"
            ],
            [
             0.3,
             "#f1b6da"
            ],
            [
             0.4,
             "#fde0ef"
            ],
            [
             0.5,
             "#f7f7f7"
            ],
            [
             0.6,
             "#e6f5d0"
            ],
            [
             0.7,
             "#b8e186"
            ],
            [
             0.8,
             "#7fbc41"
            ],
            [
             0.9,
             "#4d9221"
            ],
            [
             1,
             "#276419"
            ]
           ],
           "sequential": [
            [
             0,
             "#0d0887"
            ],
            [
             0.1111111111111111,
             "#46039f"
            ],
            [
             0.2222222222222222,
             "#7201a8"
            ],
            [
             0.3333333333333333,
             "#9c179e"
            ],
            [
             0.4444444444444444,
             "#bd3786"
            ],
            [
             0.5555555555555556,
             "#d8576b"
            ],
            [
             0.6666666666666666,
             "#ed7953"
            ],
            [
             0.7777777777777778,
             "#fb9f3a"
            ],
            [
             0.8888888888888888,
             "#fdca26"
            ],
            [
             1,
             "#f0f921"
            ]
           ],
           "sequentialminus": [
            [
             0,
             "#0d0887"
            ],
            [
             0.1111111111111111,
             "#46039f"
            ],
            [
             0.2222222222222222,
             "#7201a8"
            ],
            [
             0.3333333333333333,
             "#9c179e"
            ],
            [
             0.4444444444444444,
             "#bd3786"
            ],
            [
             0.5555555555555556,
             "#d8576b"
            ],
            [
             0.6666666666666666,
             "#ed7953"
            ],
            [
             0.7777777777777778,
             "#fb9f3a"
            ],
            [
             0.8888888888888888,
             "#fdca26"
            ],
            [
             1,
             "#f0f921"
            ]
           ]
          },
          "colorway": [
           "#636efa",
           "#EF553B",
           "#00cc96",
           "#ab63fa",
           "#FFA15A",
           "#19d3f3",
           "#FF6692",
           "#B6E880",
           "#FF97FF",
           "#FECB52"
          ],
          "font": {
           "color": "#f2f5fa"
          },
          "geo": {
           "bgcolor": "rgb(17,17,17)",
           "lakecolor": "rgb(17,17,17)",
           "landcolor": "rgb(17,17,17)",
           "showlakes": true,
           "showland": true,
           "subunitcolor": "#506784"
          },
          "hoverlabel": {
           "align": "left"
          },
          "hovermode": "closest",
          "mapbox": {
           "style": "dark"
          },
          "paper_bgcolor": "rgb(17,17,17)",
          "plot_bgcolor": "rgb(17,17,17)",
          "polar": {
           "angularaxis": {
            "gridcolor": "#506784",
            "linecolor": "#506784",
            "ticks": ""
           },
           "bgcolor": "rgb(17,17,17)",
           "radialaxis": {
            "gridcolor": "#506784",
            "linecolor": "#506784",
            "ticks": ""
           }
          },
          "scene": {
           "xaxis": {
            "backgroundcolor": "rgb(17,17,17)",
            "gridcolor": "#506784",
            "gridwidth": 2,
            "linecolor": "#506784",
            "showbackground": true,
            "ticks": "",
            "zerolinecolor": "#C8D4E3"
           },
           "yaxis": {
            "backgroundcolor": "rgb(17,17,17)",
            "gridcolor": "#506784",
            "gridwidth": 2,
            "linecolor": "#506784",
            "showbackground": true,
            "ticks": "",
            "zerolinecolor": "#C8D4E3"
           },
           "zaxis": {
            "backgroundcolor": "rgb(17,17,17)",
            "gridcolor": "#506784",
            "gridwidth": 2,
            "linecolor": "#506784",
            "showbackground": true,
            "ticks": "",
            "zerolinecolor": "#C8D4E3"
           }
          },
          "shapedefaults": {
           "line": {
            "color": "#f2f5fa"
           }
          },
          "sliderdefaults": {
           "bgcolor": "#C8D4E3",
           "bordercolor": "rgb(17,17,17)",
           "borderwidth": 1,
           "tickwidth": 0
          },
          "ternary": {
           "aaxis": {
            "gridcolor": "#506784",
            "linecolor": "#506784",
            "ticks": ""
           },
           "baxis": {
            "gridcolor": "#506784",
            "linecolor": "#506784",
            "ticks": ""
           },
           "bgcolor": "rgb(17,17,17)",
           "caxis": {
            "gridcolor": "#506784",
            "linecolor": "#506784",
            "ticks": ""
           }
          },
          "title": {
           "x": 0.05
          },
          "updatemenudefaults": {
           "bgcolor": "#506784",
           "borderwidth": 0
          },
          "xaxis": {
           "automargin": true,
           "gridcolor": "#283442",
           "linecolor": "#506784",
           "ticks": "",
           "title": {
            "standoff": 15
           },
           "zerolinecolor": "#283442",
           "zerolinewidth": 2
          },
          "yaxis": {
           "automargin": true,
           "gridcolor": "#283442",
           "linecolor": "#506784",
           "ticks": "",
           "title": {
            "standoff": 15
           },
           "zerolinecolor": "#283442",
           "zerolinewidth": 2
          }
         }
        },
        "xaxis": {
         "anchor": "y",
         "domain": [
          0,
          1
         ],
         "title": {
          "text": "x"
         }
        },
        "yaxis": {
         "anchor": "x",
         "domain": [
          0,
          1
         ],
         "title": {
          "text": "y"
         }
        }
       }
      }
     },
     "metadata": {},
     "output_type": "display_data"
    }
   ],
   "source": [
    "# Use LabelEncoder to encode the categorical groupings\n",
    "le = LabelEncoder()\n",
    "\n",
    "feature_cols = df.select_dtypes('object').columns\n",
    "\n",
    "# Create the labeled features\n",
    "features = pd.DataFrame()\n",
    "for col in feature_cols:\n",
    "    features[f'{col}_enc'] = le.fit_transform(df[col])\n",
    "\n",
    "# Scale the features\n",
    "ss = StandardScaler()\n",
    "features_scaled = ss.fit_transform(features)\n",
    "\n",
    "# Range of k values to test\n",
    "k_values = range(1, 11)\n",
    "wcss = []\n",
    "\n",
    "# Run KMeans for each k and calculate WCSS\n",
    "for k in k_values:\n",
    "    kmeans = KMeans(n_clusters=k, random_state=0)\n",
    "    kmeans.fit(features_scaled)\n",
    "    wcss.append(kmeans.inertia_)  # Inertia is the WCSS\n",
    "\n",
    "res = np.array([k_values, wcss]).T\n",
    "\n",
    "# Plot the elbow plot\n",
    "fig = px.line(res, x=res[:,0], y=res[:,1])\n",
    "fig.show()"
   ]
  },
  {
   "cell_type": "code",
   "execution_count": 184,
   "metadata": {},
   "outputs": [
    {
     "data": {
      "text/plain": [
       "np.float64(0.12363039158859411)"
      ]
     },
     "execution_count": 184,
     "metadata": {},
     "output_type": "execute_result"
    }
   ],
   "source": [
    "# Based on the above elbow plot, the ideal number of clusters is 3 (or 4).\n",
    "kmeans = KMeans(n_clusters=7, random_state=0)\n",
    "df['cluster'] = kmeans.fit_predict(features_scaled)\n",
    "silhouette_score(features_scaled, df['cluster'])"
   ]
  },
  {
   "cell_type": "code",
   "execution_count": 185,
   "metadata": {},
   "outputs": [
    {
     "data": {
      "text/html": [
       "<div>\n",
       "<style scoped>\n",
       "    .dataframe tbody tr th:only-of-type {\n",
       "        vertical-align: middle;\n",
       "    }\n",
       "\n",
       "    .dataframe tbody tr th {\n",
       "        vertical-align: top;\n",
       "    }\n",
       "\n",
       "    .dataframe thead th {\n",
       "        text-align: right;\n",
       "    }\n",
       "</style>\n",
       "<table border=\"1\" class=\"dataframe\">\n",
       "  <thead>\n",
       "    <tr style=\"text-align: right;\">\n",
       "      <th></th>\n",
       "      <th>age</th>\n",
       "      <th>income</th>\n",
       "      <th>spending_score</th>\n",
       "      <th>membership_years</th>\n",
       "      <th>purchase_frequency</th>\n",
       "      <th>last_purchase_amount</th>\n",
       "    </tr>\n",
       "    <tr>\n",
       "      <th>cluster</th>\n",
       "      <th></th>\n",
       "      <th></th>\n",
       "      <th></th>\n",
       "      <th></th>\n",
       "      <th></th>\n",
       "      <th></th>\n",
       "    </tr>\n",
       "  </thead>\n",
       "  <tbody>\n",
       "    <tr>\n",
       "      <th>0</th>\n",
       "      <td>40.0</td>\n",
       "      <td>76966.0</td>\n",
       "      <td>45.0</td>\n",
       "      <td>6.0</td>\n",
       "      <td>24.0</td>\n",
       "      <td>450.0</td>\n",
       "    </tr>\n",
       "    <tr>\n",
       "      <th>1</th>\n",
       "      <td>47.0</td>\n",
       "      <td>79902.0</td>\n",
       "      <td>57.0</td>\n",
       "      <td>6.0</td>\n",
       "      <td>33.0</td>\n",
       "      <td>509.0</td>\n",
       "    </tr>\n",
       "    <tr>\n",
       "      <th>2</th>\n",
       "      <td>50.0</td>\n",
       "      <td>103856.0</td>\n",
       "      <td>49.0</td>\n",
       "      <td>5.0</td>\n",
       "      <td>35.0</td>\n",
       "      <td>489.0</td>\n",
       "    </tr>\n",
       "    <tr>\n",
       "      <th>3</th>\n",
       "      <td>34.0</td>\n",
       "      <td>80022.0</td>\n",
       "      <td>61.0</td>\n",
       "      <td>5.0</td>\n",
       "      <td>22.0</td>\n",
       "      <td>527.0</td>\n",
       "    </tr>\n",
       "    <tr>\n",
       "      <th>4</th>\n",
       "      <td>44.0</td>\n",
       "      <td>122032.0</td>\n",
       "      <td>50.0</td>\n",
       "      <td>5.0</td>\n",
       "      <td>21.0</td>\n",
       "      <td>465.0</td>\n",
       "    </tr>\n",
       "    <tr>\n",
       "      <th>5</th>\n",
       "      <td>52.0</td>\n",
       "      <td>75204.0</td>\n",
       "      <td>47.0</td>\n",
       "      <td>6.0</td>\n",
       "      <td>21.0</td>\n",
       "      <td>561.0</td>\n",
       "    </tr>\n",
       "    <tr>\n",
       "      <th>6</th>\n",
       "      <td>40.0</td>\n",
       "      <td>76752.0</td>\n",
       "      <td>46.0</td>\n",
       "      <td>5.0</td>\n",
       "      <td>30.0</td>\n",
       "      <td>462.0</td>\n",
       "    </tr>\n",
       "  </tbody>\n",
       "</table>\n",
       "</div>"
      ],
      "text/plain": [
       "          age    income  spending_score  membership_years  purchase_frequency  \\\n",
       "cluster                                                                         \n",
       "0        40.0   76966.0            45.0               6.0                24.0   \n",
       "1        47.0   79902.0            57.0               6.0                33.0   \n",
       "2        50.0  103856.0            49.0               5.0                35.0   \n",
       "3        34.0   80022.0            61.0               5.0                22.0   \n",
       "4        44.0  122032.0            50.0               5.0                21.0   \n",
       "5        52.0   75204.0            47.0               6.0                21.0   \n",
       "6        40.0   76752.0            46.0               5.0                30.0   \n",
       "\n",
       "         last_purchase_amount  \n",
       "cluster                        \n",
       "0                       450.0  \n",
       "1                       509.0  \n",
       "2                       489.0  \n",
       "3                       527.0  \n",
       "4                       465.0  \n",
       "5                       561.0  \n",
       "6                       462.0  "
      ]
     },
     "metadata": {},
     "output_type": "display_data"
    },
    {
     "data": {
      "text/html": [
       "<div>\n",
       "<style scoped>\n",
       "    .dataframe tbody tr th:only-of-type {\n",
       "        vertical-align: middle;\n",
       "    }\n",
       "\n",
       "    .dataframe tbody tr th {\n",
       "        vertical-align: top;\n",
       "    }\n",
       "\n",
       "    .dataframe thead th {\n",
       "        text-align: right;\n",
       "    }\n",
       "</style>\n",
       "<table border=\"1\" class=\"dataframe\">\n",
       "  <thead>\n",
       "    <tr style=\"text-align: right;\">\n",
       "      <th></th>\n",
       "      <th>gender</th>\n",
       "      <th>preferred_category</th>\n",
       "      <th>age_range</th>\n",
       "      <th>income_level</th>\n",
       "      <th>spending_score_category</th>\n",
       "      <th>purchase_frequency_category</th>\n",
       "      <th>membership_score</th>\n",
       "    </tr>\n",
       "    <tr>\n",
       "      <th>cluster</th>\n",
       "      <th></th>\n",
       "      <th></th>\n",
       "      <th></th>\n",
       "      <th></th>\n",
       "      <th></th>\n",
       "      <th></th>\n",
       "      <th></th>\n",
       "    </tr>\n",
       "  </thead>\n",
       "  <tbody>\n",
       "    <tr>\n",
       "      <th>0</th>\n",
       "      <td>Female</td>\n",
       "      <td>Sports</td>\n",
       "      <td>(40, 50]</td>\n",
       "      <td>Medium</td>\n",
       "      <td>Medium</td>\n",
       "      <td>Low</td>\n",
       "      <td>Silver</td>\n",
       "    </tr>\n",
       "    <tr>\n",
       "      <th>1</th>\n",
       "      <td>Other</td>\n",
       "      <td>Clothing</td>\n",
       "      <td>[(40, 50], (50, 60]]</td>\n",
       "      <td>Medium</td>\n",
       "      <td>Premium</td>\n",
       "      <td>High</td>\n",
       "      <td>Silver</td>\n",
       "    </tr>\n",
       "    <tr>\n",
       "      <th>2</th>\n",
       "      <td>Male</td>\n",
       "      <td>Sports</td>\n",
       "      <td>(50, 60]</td>\n",
       "      <td>High</td>\n",
       "      <td>Low</td>\n",
       "      <td>High</td>\n",
       "      <td>Bronze</td>\n",
       "    </tr>\n",
       "    <tr>\n",
       "      <th>3</th>\n",
       "      <td>Male</td>\n",
       "      <td>Groceries</td>\n",
       "      <td>(20, 30]</td>\n",
       "      <td>Medium</td>\n",
       "      <td>Premium</td>\n",
       "      <td>Medium</td>\n",
       "      <td>Bronze</td>\n",
       "    </tr>\n",
       "    <tr>\n",
       "      <th>4</th>\n",
       "      <td>Male</td>\n",
       "      <td>Electronics</td>\n",
       "      <td>(50, 60]</td>\n",
       "      <td>High</td>\n",
       "      <td>Medium</td>\n",
       "      <td>Medium</td>\n",
       "      <td>Silver</td>\n",
       "    </tr>\n",
       "    <tr>\n",
       "      <th>5</th>\n",
       "      <td>Other</td>\n",
       "      <td>Sports</td>\n",
       "      <td>(60, 70]</td>\n",
       "      <td>Medium</td>\n",
       "      <td>High</td>\n",
       "      <td>Medium</td>\n",
       "      <td>Silver</td>\n",
       "    </tr>\n",
       "    <tr>\n",
       "      <th>6</th>\n",
       "      <td>Female</td>\n",
       "      <td>Clothing</td>\n",
       "      <td>(20, 30]</td>\n",
       "      <td>Medium</td>\n",
       "      <td>High</td>\n",
       "      <td>High</td>\n",
       "      <td>Bronze</td>\n",
       "    </tr>\n",
       "  </tbody>\n",
       "</table>\n",
       "</div>"
      ],
      "text/plain": [
       "         gender preferred_category             age_range income_level  \\\n",
       "cluster                                                                 \n",
       "0        Female             Sports              (40, 50]       Medium   \n",
       "1         Other           Clothing  [(40, 50], (50, 60]]       Medium   \n",
       "2          Male             Sports              (50, 60]         High   \n",
       "3          Male          Groceries              (20, 30]       Medium   \n",
       "4          Male        Electronics              (50, 60]         High   \n",
       "5         Other             Sports              (60, 70]       Medium   \n",
       "6        Female           Clothing              (20, 30]       Medium   \n",
       "\n",
       "        spending_score_category purchase_frequency_category membership_score  \n",
       "cluster                                                                       \n",
       "0                        Medium                         Low           Silver  \n",
       "1                       Premium                        High           Silver  \n",
       "2                           Low                        High           Bronze  \n",
       "3                       Premium                      Medium           Bronze  \n",
       "4                        Medium                      Medium           Silver  \n",
       "5                          High                      Medium           Silver  \n",
       "6                          High                        High           Bronze  "
      ]
     },
     "metadata": {},
     "output_type": "display_data"
    }
   ],
   "source": [
    "display(df.groupby('cluster')[['age', 'income', 'spending_score', 'membership_years', 'purchase_frequency', 'last_purchase_amount']].mean().round(0))\n",
    "display(df.groupby('cluster')[['gender', 'preferred_category', 'age_range', 'income_level', 'spending_score_category', 'purchase_frequency_category', 'membership_score']].agg(pd.Series.mode))"
   ]
  },
  {
   "cell_type": "markdown",
   "metadata": {},
   "source": [
    "### Test 2: Kmeans clustering with numerical features"
   ]
  },
  {
   "cell_type": "code",
   "execution_count": 186,
   "metadata": {},
   "outputs": [
    {
     "data": {
      "application/vnd.plotly.v1+json": {
       "config": {
        "plotlyServerURL": "https://plot.ly"
       },
       "data": [
        {
         "hovertemplate": "x=%{x}<br>y=%{y}<extra></extra>",
         "legendgroup": "",
         "line": {
          "color": "#636efa",
          "dash": "solid"
         },
         "marker": {
          "symbol": "circle"
         },
         "mode": "lines",
         "name": "",
         "orientation": "v",
         "showlegend": false,
         "type": "scatter",
         "x": [
          1,
          2,
          3,
          4,
          5,
          6,
          7,
          8,
          9,
          10
         ],
         "xaxis": "x",
         "y": [
          7000,
          6147.918107606205,
          5596.435773909412,
          5224.765387438276,
          4869.137338632632,
          4705.821221265144,
          4414.732588736043,
          4181.360292426753,
          4048.2569098160175,
          3858.141910434169
         ],
         "yaxis": "y"
        }
       ],
       "layout": {
        "legend": {
         "tracegroupgap": 0
        },
        "margin": {
         "t": 60
        },
        "template": {
         "data": {
          "bar": [
           {
            "error_x": {
             "color": "#f2f5fa"
            },
            "error_y": {
             "color": "#f2f5fa"
            },
            "marker": {
             "line": {
              "color": "rgb(17,17,17)",
              "width": 0.5
             },
             "pattern": {
              "fillmode": "overlay",
              "size": 10,
              "solidity": 0.2
             }
            },
            "type": "bar"
           }
          ],
          "barpolar": [
           {
            "marker": {
             "line": {
              "color": "rgb(17,17,17)",
              "width": 0.5
             },
             "pattern": {
              "fillmode": "overlay",
              "size": 10,
              "solidity": 0.2
             }
            },
            "type": "barpolar"
           }
          ],
          "carpet": [
           {
            "aaxis": {
             "endlinecolor": "#A2B1C6",
             "gridcolor": "#506784",
             "linecolor": "#506784",
             "minorgridcolor": "#506784",
             "startlinecolor": "#A2B1C6"
            },
            "baxis": {
             "endlinecolor": "#A2B1C6",
             "gridcolor": "#506784",
             "linecolor": "#506784",
             "minorgridcolor": "#506784",
             "startlinecolor": "#A2B1C6"
            },
            "type": "carpet"
           }
          ],
          "choropleth": [
           {
            "colorbar": {
             "outlinewidth": 0,
             "ticks": ""
            },
            "type": "choropleth"
           }
          ],
          "contour": [
           {
            "colorbar": {
             "outlinewidth": 0,
             "ticks": ""
            },
            "colorscale": [
             [
              0,
              "#0d0887"
             ],
             [
              0.1111111111111111,
              "#46039f"
             ],
             [
              0.2222222222222222,
              "#7201a8"
             ],
             [
              0.3333333333333333,
              "#9c179e"
             ],
             [
              0.4444444444444444,
              "#bd3786"
             ],
             [
              0.5555555555555556,
              "#d8576b"
             ],
             [
              0.6666666666666666,
              "#ed7953"
             ],
             [
              0.7777777777777778,
              "#fb9f3a"
             ],
             [
              0.8888888888888888,
              "#fdca26"
             ],
             [
              1,
              "#f0f921"
             ]
            ],
            "type": "contour"
           }
          ],
          "contourcarpet": [
           {
            "colorbar": {
             "outlinewidth": 0,
             "ticks": ""
            },
            "type": "contourcarpet"
           }
          ],
          "heatmap": [
           {
            "colorbar": {
             "outlinewidth": 0,
             "ticks": ""
            },
            "colorscale": [
             [
              0,
              "#0d0887"
             ],
             [
              0.1111111111111111,
              "#46039f"
             ],
             [
              0.2222222222222222,
              "#7201a8"
             ],
             [
              0.3333333333333333,
              "#9c179e"
             ],
             [
              0.4444444444444444,
              "#bd3786"
             ],
             [
              0.5555555555555556,
              "#d8576b"
             ],
             [
              0.6666666666666666,
              "#ed7953"
             ],
             [
              0.7777777777777778,
              "#fb9f3a"
             ],
             [
              0.8888888888888888,
              "#fdca26"
             ],
             [
              1,
              "#f0f921"
             ]
            ],
            "type": "heatmap"
           }
          ],
          "heatmapgl": [
           {
            "colorbar": {
             "outlinewidth": 0,
             "ticks": ""
            },
            "colorscale": [
             [
              0,
              "#0d0887"
             ],
             [
              0.1111111111111111,
              "#46039f"
             ],
             [
              0.2222222222222222,
              "#7201a8"
             ],
             [
              0.3333333333333333,
              "#9c179e"
             ],
             [
              0.4444444444444444,
              "#bd3786"
             ],
             [
              0.5555555555555556,
              "#d8576b"
             ],
             [
              0.6666666666666666,
              "#ed7953"
             ],
             [
              0.7777777777777778,
              "#fb9f3a"
             ],
             [
              0.8888888888888888,
              "#fdca26"
             ],
             [
              1,
              "#f0f921"
             ]
            ],
            "type": "heatmapgl"
           }
          ],
          "histogram": [
           {
            "marker": {
             "pattern": {
              "fillmode": "overlay",
              "size": 10,
              "solidity": 0.2
             }
            },
            "type": "histogram"
           }
          ],
          "histogram2d": [
           {
            "colorbar": {
             "outlinewidth": 0,
             "ticks": ""
            },
            "colorscale": [
             [
              0,
              "#0d0887"
             ],
             [
              0.1111111111111111,
              "#46039f"
             ],
             [
              0.2222222222222222,
              "#7201a8"
             ],
             [
              0.3333333333333333,
              "#9c179e"
             ],
             [
              0.4444444444444444,
              "#bd3786"
             ],
             [
              0.5555555555555556,
              "#d8576b"
             ],
             [
              0.6666666666666666,
              "#ed7953"
             ],
             [
              0.7777777777777778,
              "#fb9f3a"
             ],
             [
              0.8888888888888888,
              "#fdca26"
             ],
             [
              1,
              "#f0f921"
             ]
            ],
            "type": "histogram2d"
           }
          ],
          "histogram2dcontour": [
           {
            "colorbar": {
             "outlinewidth": 0,
             "ticks": ""
            },
            "colorscale": [
             [
              0,
              "#0d0887"
             ],
             [
              0.1111111111111111,
              "#46039f"
             ],
             [
              0.2222222222222222,
              "#7201a8"
             ],
             [
              0.3333333333333333,
              "#9c179e"
             ],
             [
              0.4444444444444444,
              "#bd3786"
             ],
             [
              0.5555555555555556,
              "#d8576b"
             ],
             [
              0.6666666666666666,
              "#ed7953"
             ],
             [
              0.7777777777777778,
              "#fb9f3a"
             ],
             [
              0.8888888888888888,
              "#fdca26"
             ],
             [
              1,
              "#f0f921"
             ]
            ],
            "type": "histogram2dcontour"
           }
          ],
          "mesh3d": [
           {
            "colorbar": {
             "outlinewidth": 0,
             "ticks": ""
            },
            "type": "mesh3d"
           }
          ],
          "parcoords": [
           {
            "line": {
             "colorbar": {
              "outlinewidth": 0,
              "ticks": ""
             }
            },
            "type": "parcoords"
           }
          ],
          "pie": [
           {
            "automargin": true,
            "type": "pie"
           }
          ],
          "scatter": [
           {
            "marker": {
             "line": {
              "color": "#283442"
             }
            },
            "type": "scatter"
           }
          ],
          "scatter3d": [
           {
            "line": {
             "colorbar": {
              "outlinewidth": 0,
              "ticks": ""
             }
            },
            "marker": {
             "colorbar": {
              "outlinewidth": 0,
              "ticks": ""
             }
            },
            "type": "scatter3d"
           }
          ],
          "scattercarpet": [
           {
            "marker": {
             "colorbar": {
              "outlinewidth": 0,
              "ticks": ""
             }
            },
            "type": "scattercarpet"
           }
          ],
          "scattergeo": [
           {
            "marker": {
             "colorbar": {
              "outlinewidth": 0,
              "ticks": ""
             }
            },
            "type": "scattergeo"
           }
          ],
          "scattergl": [
           {
            "marker": {
             "line": {
              "color": "#283442"
             }
            },
            "type": "scattergl"
           }
          ],
          "scattermapbox": [
           {
            "marker": {
             "colorbar": {
              "outlinewidth": 0,
              "ticks": ""
             }
            },
            "type": "scattermapbox"
           }
          ],
          "scatterpolar": [
           {
            "marker": {
             "colorbar": {
              "outlinewidth": 0,
              "ticks": ""
             }
            },
            "type": "scatterpolar"
           }
          ],
          "scatterpolargl": [
           {
            "marker": {
             "colorbar": {
              "outlinewidth": 0,
              "ticks": ""
             }
            },
            "type": "scatterpolargl"
           }
          ],
          "scatterternary": [
           {
            "marker": {
             "colorbar": {
              "outlinewidth": 0,
              "ticks": ""
             }
            },
            "type": "scatterternary"
           }
          ],
          "surface": [
           {
            "colorbar": {
             "outlinewidth": 0,
             "ticks": ""
            },
            "colorscale": [
             [
              0,
              "#0d0887"
             ],
             [
              0.1111111111111111,
              "#46039f"
             ],
             [
              0.2222222222222222,
              "#7201a8"
             ],
             [
              0.3333333333333333,
              "#9c179e"
             ],
             [
              0.4444444444444444,
              "#bd3786"
             ],
             [
              0.5555555555555556,
              "#d8576b"
             ],
             [
              0.6666666666666666,
              "#ed7953"
             ],
             [
              0.7777777777777778,
              "#fb9f3a"
             ],
             [
              0.8888888888888888,
              "#fdca26"
             ],
             [
              1,
              "#f0f921"
             ]
            ],
            "type": "surface"
           }
          ],
          "table": [
           {
            "cells": {
             "fill": {
              "color": "#506784"
             },
             "line": {
              "color": "rgb(17,17,17)"
             }
            },
            "header": {
             "fill": {
              "color": "#2a3f5f"
             },
             "line": {
              "color": "rgb(17,17,17)"
             }
            },
            "type": "table"
           }
          ]
         },
         "layout": {
          "annotationdefaults": {
           "arrowcolor": "#f2f5fa",
           "arrowhead": 0,
           "arrowwidth": 1
          },
          "autotypenumbers": "strict",
          "coloraxis": {
           "colorbar": {
            "outlinewidth": 0,
            "ticks": ""
           }
          },
          "colorscale": {
           "diverging": [
            [
             0,
             "#8e0152"
            ],
            [
             0.1,
             "#c51b7d"
            ],
            [
             0.2,
             "#de77ae"
            ],
            [
             0.3,
             "#f1b6da"
            ],
            [
             0.4,
             "#fde0ef"
            ],
            [
             0.5,
             "#f7f7f7"
            ],
            [
             0.6,
             "#e6f5d0"
            ],
            [
             0.7,
             "#b8e186"
            ],
            [
             0.8,
             "#7fbc41"
            ],
            [
             0.9,
             "#4d9221"
            ],
            [
             1,
             "#276419"
            ]
           ],
           "sequential": [
            [
             0,
             "#0d0887"
            ],
            [
             0.1111111111111111,
             "#46039f"
            ],
            [
             0.2222222222222222,
             "#7201a8"
            ],
            [
             0.3333333333333333,
             "#9c179e"
            ],
            [
             0.4444444444444444,
             "#bd3786"
            ],
            [
             0.5555555555555556,
             "#d8576b"
            ],
            [
             0.6666666666666666,
             "#ed7953"
            ],
            [
             0.7777777777777778,
             "#fb9f3a"
            ],
            [
             0.8888888888888888,
             "#fdca26"
            ],
            [
             1,
             "#f0f921"
            ]
           ],
           "sequentialminus": [
            [
             0,
             "#0d0887"
            ],
            [
             0.1111111111111111,
             "#46039f"
            ],
            [
             0.2222222222222222,
             "#7201a8"
            ],
            [
             0.3333333333333333,
             "#9c179e"
            ],
            [
             0.4444444444444444,
             "#bd3786"
            ],
            [
             0.5555555555555556,
             "#d8576b"
            ],
            [
             0.6666666666666666,
             "#ed7953"
            ],
            [
             0.7777777777777778,
             "#fb9f3a"
            ],
            [
             0.8888888888888888,
             "#fdca26"
            ],
            [
             1,
             "#f0f921"
            ]
           ]
          },
          "colorway": [
           "#636efa",
           "#EF553B",
           "#00cc96",
           "#ab63fa",
           "#FFA15A",
           "#19d3f3",
           "#FF6692",
           "#B6E880",
           "#FF97FF",
           "#FECB52"
          ],
          "font": {
           "color": "#f2f5fa"
          },
          "geo": {
           "bgcolor": "rgb(17,17,17)",
           "lakecolor": "rgb(17,17,17)",
           "landcolor": "rgb(17,17,17)",
           "showlakes": true,
           "showland": true,
           "subunitcolor": "#506784"
          },
          "hoverlabel": {
           "align": "left"
          },
          "hovermode": "closest",
          "mapbox": {
           "style": "dark"
          },
          "paper_bgcolor": "rgb(17,17,17)",
          "plot_bgcolor": "rgb(17,17,17)",
          "polar": {
           "angularaxis": {
            "gridcolor": "#506784",
            "linecolor": "#506784",
            "ticks": ""
           },
           "bgcolor": "rgb(17,17,17)",
           "radialaxis": {
            "gridcolor": "#506784",
            "linecolor": "#506784",
            "ticks": ""
           }
          },
          "scene": {
           "xaxis": {
            "backgroundcolor": "rgb(17,17,17)",
            "gridcolor": "#506784",
            "gridwidth": 2,
            "linecolor": "#506784",
            "showbackground": true,
            "ticks": "",
            "zerolinecolor": "#C8D4E3"
           },
           "yaxis": {
            "backgroundcolor": "rgb(17,17,17)",
            "gridcolor": "#506784",
            "gridwidth": 2,
            "linecolor": "#506784",
            "showbackground": true,
            "ticks": "",
            "zerolinecolor": "#C8D4E3"
           },
           "zaxis": {
            "backgroundcolor": "rgb(17,17,17)",
            "gridcolor": "#506784",
            "gridwidth": 2,
            "linecolor": "#506784",
            "showbackground": true,
            "ticks": "",
            "zerolinecolor": "#C8D4E3"
           }
          },
          "shapedefaults": {
           "line": {
            "color": "#f2f5fa"
           }
          },
          "sliderdefaults": {
           "bgcolor": "#C8D4E3",
           "bordercolor": "rgb(17,17,17)",
           "borderwidth": 1,
           "tickwidth": 0
          },
          "ternary": {
           "aaxis": {
            "gridcolor": "#506784",
            "linecolor": "#506784",
            "ticks": ""
           },
           "baxis": {
            "gridcolor": "#506784",
            "linecolor": "#506784",
            "ticks": ""
           },
           "bgcolor": "rgb(17,17,17)",
           "caxis": {
            "gridcolor": "#506784",
            "linecolor": "#506784",
            "ticks": ""
           }
          },
          "title": {
           "x": 0.05
          },
          "updatemenudefaults": {
           "bgcolor": "#506784",
           "borderwidth": 0
          },
          "xaxis": {
           "automargin": true,
           "gridcolor": "#283442",
           "linecolor": "#506784",
           "ticks": "",
           "title": {
            "standoff": 15
           },
           "zerolinecolor": "#283442",
           "zerolinewidth": 2
          },
          "yaxis": {
           "automargin": true,
           "gridcolor": "#283442",
           "linecolor": "#506784",
           "ticks": "",
           "title": {
            "standoff": 15
           },
           "zerolinecolor": "#283442",
           "zerolinewidth": 2
          }
         }
        },
        "xaxis": {
         "anchor": "y",
         "domain": [
          0,
          1
         ],
         "title": {
          "text": "x"
         }
        },
        "yaxis": {
         "anchor": "x",
         "domain": [
          0,
          1
         ],
         "title": {
          "text": "y"
         }
        }
       }
      }
     },
     "metadata": {},
     "output_type": "display_data"
    }
   ],
   "source": [
    "features = df.select_dtypes('number')\n",
    "\n",
    "# Scale the features\n",
    "ss = StandardScaler()\n",
    "features_scaled = ss.fit_transform(features)\n",
    "\n",
    "# Range of k values to test\n",
    "k_values = range(1, 11)\n",
    "wcss = []\n",
    "\n",
    "# Run KMeans for each k and calculate WCSS\n",
    "for k in k_values:\n",
    "    kmeans = KMeans(n_clusters=k, random_state=0)\n",
    "    kmeans.fit(features_scaled)\n",
    "    wcss.append(kmeans.inertia_)  # Inertia is the WCSS\n",
    "\n",
    "res = np.array([k_values, wcss]).T\n",
    "\n",
    "# Plot the elbow plot\n",
    "fig = px.line(res, x=res[:,0], y=res[:,1])\n",
    "fig.show()"
   ]
  },
  {
   "cell_type": "code",
   "execution_count": 187,
   "metadata": {},
   "outputs": [
    {
     "data": {
      "text/plain": [
       "np.float64(0.12125846458732488)"
      ]
     },
     "execution_count": 187,
     "metadata": {},
     "output_type": "execute_result"
    }
   ],
   "source": [
    "# Based on the above elbow plot, the ideal number of clusters is 3 (or 4).\n",
    "kmeans = KMeans(n_clusters=5, random_state=0)\n",
    "df['cluster'] = kmeans.fit_predict(features_scaled)\n",
    "silhouette_score(features_scaled, df['cluster'])"
   ]
  },
  {
   "cell_type": "markdown",
   "metadata": {},
   "source": [
    "### Test 3: Kmeans with PCA"
   ]
  },
  {
   "cell_type": "code",
   "execution_count": 188,
   "metadata": {},
   "outputs": [
    {
     "data": {
      "application/vnd.plotly.v1+json": {
       "config": {
        "plotlyServerURL": "https://plot.ly"
       },
       "data": [
        {
         "hovertemplate": "x=%{x}<br>y=%{y}<extra></extra>",
         "legendgroup": "",
         "line": {
          "color": "#636efa",
          "dash": "solid"
         },
         "marker": {
          "symbol": "circle"
         },
         "mode": "lines",
         "name": "",
         "orientation": "v",
         "showlegend": false,
         "type": "scatter",
         "x": [
          1,
          2,
          3,
          4,
          5,
          6,
          7,
          8,
          9,
          10
         ],
         "xaxis": "x",
         "y": [
          2814.726615106959,
          1498.8518430615811,
          1051.0368506104733,
          768.8201889708117,
          647.7564464588554,
          528.878169398535,
          474.9809692346563,
          412.22136347371816,
          367.3954681570051,
          328.73551088973977
         ],
         "yaxis": "y"
        }
       ],
       "layout": {
        "legend": {
         "tracegroupgap": 0
        },
        "margin": {
         "t": 60
        },
        "template": {
         "data": {
          "bar": [
           {
            "error_x": {
             "color": "#f2f5fa"
            },
            "error_y": {
             "color": "#f2f5fa"
            },
            "marker": {
             "line": {
              "color": "rgb(17,17,17)",
              "width": 0.5
             },
             "pattern": {
              "fillmode": "overlay",
              "size": 10,
              "solidity": 0.2
             }
            },
            "type": "bar"
           }
          ],
          "barpolar": [
           {
            "marker": {
             "line": {
              "color": "rgb(17,17,17)",
              "width": 0.5
             },
             "pattern": {
              "fillmode": "overlay",
              "size": 10,
              "solidity": 0.2
             }
            },
            "type": "barpolar"
           }
          ],
          "carpet": [
           {
            "aaxis": {
             "endlinecolor": "#A2B1C6",
             "gridcolor": "#506784",
             "linecolor": "#506784",
             "minorgridcolor": "#506784",
             "startlinecolor": "#A2B1C6"
            },
            "baxis": {
             "endlinecolor": "#A2B1C6",
             "gridcolor": "#506784",
             "linecolor": "#506784",
             "minorgridcolor": "#506784",
             "startlinecolor": "#A2B1C6"
            },
            "type": "carpet"
           }
          ],
          "choropleth": [
           {
            "colorbar": {
             "outlinewidth": 0,
             "ticks": ""
            },
            "type": "choropleth"
           }
          ],
          "contour": [
           {
            "colorbar": {
             "outlinewidth": 0,
             "ticks": ""
            },
            "colorscale": [
             [
              0,
              "#0d0887"
             ],
             [
              0.1111111111111111,
              "#46039f"
             ],
             [
              0.2222222222222222,
              "#7201a8"
             ],
             [
              0.3333333333333333,
              "#9c179e"
             ],
             [
              0.4444444444444444,
              "#bd3786"
             ],
             [
              0.5555555555555556,
              "#d8576b"
             ],
             [
              0.6666666666666666,
              "#ed7953"
             ],
             [
              0.7777777777777778,
              "#fb9f3a"
             ],
             [
              0.8888888888888888,
              "#fdca26"
             ],
             [
              1,
              "#f0f921"
             ]
            ],
            "type": "contour"
           }
          ],
          "contourcarpet": [
           {
            "colorbar": {
             "outlinewidth": 0,
             "ticks": ""
            },
            "type": "contourcarpet"
           }
          ],
          "heatmap": [
           {
            "colorbar": {
             "outlinewidth": 0,
             "ticks": ""
            },
            "colorscale": [
             [
              0,
              "#0d0887"
             ],
             [
              0.1111111111111111,
              "#46039f"
             ],
             [
              0.2222222222222222,
              "#7201a8"
             ],
             [
              0.3333333333333333,
              "#9c179e"
             ],
             [
              0.4444444444444444,
              "#bd3786"
             ],
             [
              0.5555555555555556,
              "#d8576b"
             ],
             [
              0.6666666666666666,
              "#ed7953"
             ],
             [
              0.7777777777777778,
              "#fb9f3a"
             ],
             [
              0.8888888888888888,
              "#fdca26"
             ],
             [
              1,
              "#f0f921"
             ]
            ],
            "type": "heatmap"
           }
          ],
          "heatmapgl": [
           {
            "colorbar": {
             "outlinewidth": 0,
             "ticks": ""
            },
            "colorscale": [
             [
              0,
              "#0d0887"
             ],
             [
              0.1111111111111111,
              "#46039f"
             ],
             [
              0.2222222222222222,
              "#7201a8"
             ],
             [
              0.3333333333333333,
              "#9c179e"
             ],
             [
              0.4444444444444444,
              "#bd3786"
             ],
             [
              0.5555555555555556,
              "#d8576b"
             ],
             [
              0.6666666666666666,
              "#ed7953"
             ],
             [
              0.7777777777777778,
              "#fb9f3a"
             ],
             [
              0.8888888888888888,
              "#fdca26"
             ],
             [
              1,
              "#f0f921"
             ]
            ],
            "type": "heatmapgl"
           }
          ],
          "histogram": [
           {
            "marker": {
             "pattern": {
              "fillmode": "overlay",
              "size": 10,
              "solidity": 0.2
             }
            },
            "type": "histogram"
           }
          ],
          "histogram2d": [
           {
            "colorbar": {
             "outlinewidth": 0,
             "ticks": ""
            },
            "colorscale": [
             [
              0,
              "#0d0887"
             ],
             [
              0.1111111111111111,
              "#46039f"
             ],
             [
              0.2222222222222222,
              "#7201a8"
             ],
             [
              0.3333333333333333,
              "#9c179e"
             ],
             [
              0.4444444444444444,
              "#bd3786"
             ],
             [
              0.5555555555555556,
              "#d8576b"
             ],
             [
              0.6666666666666666,
              "#ed7953"
             ],
             [
              0.7777777777777778,
              "#fb9f3a"
             ],
             [
              0.8888888888888888,
              "#fdca26"
             ],
             [
              1,
              "#f0f921"
             ]
            ],
            "type": "histogram2d"
           }
          ],
          "histogram2dcontour": [
           {
            "colorbar": {
             "outlinewidth": 0,
             "ticks": ""
            },
            "colorscale": [
             [
              0,
              "#0d0887"
             ],
             [
              0.1111111111111111,
              "#46039f"
             ],
             [
              0.2222222222222222,
              "#7201a8"
             ],
             [
              0.3333333333333333,
              "#9c179e"
             ],
             [
              0.4444444444444444,
              "#bd3786"
             ],
             [
              0.5555555555555556,
              "#d8576b"
             ],
             [
              0.6666666666666666,
              "#ed7953"
             ],
             [
              0.7777777777777778,
              "#fb9f3a"
             ],
             [
              0.8888888888888888,
              "#fdca26"
             ],
             [
              1,
              "#f0f921"
             ]
            ],
            "type": "histogram2dcontour"
           }
          ],
          "mesh3d": [
           {
            "colorbar": {
             "outlinewidth": 0,
             "ticks": ""
            },
            "type": "mesh3d"
           }
          ],
          "parcoords": [
           {
            "line": {
             "colorbar": {
              "outlinewidth": 0,
              "ticks": ""
             }
            },
            "type": "parcoords"
           }
          ],
          "pie": [
           {
            "automargin": true,
            "type": "pie"
           }
          ],
          "scatter": [
           {
            "marker": {
             "line": {
              "color": "#283442"
             }
            },
            "type": "scatter"
           }
          ],
          "scatter3d": [
           {
            "line": {
             "colorbar": {
              "outlinewidth": 0,
              "ticks": ""
             }
            },
            "marker": {
             "colorbar": {
              "outlinewidth": 0,
              "ticks": ""
             }
            },
            "type": "scatter3d"
           }
          ],
          "scattercarpet": [
           {
            "marker": {
             "colorbar": {
              "outlinewidth": 0,
              "ticks": ""
             }
            },
            "type": "scattercarpet"
           }
          ],
          "scattergeo": [
           {
            "marker": {
             "colorbar": {
              "outlinewidth": 0,
              "ticks": ""
             }
            },
            "type": "scattergeo"
           }
          ],
          "scattergl": [
           {
            "marker": {
             "line": {
              "color": "#283442"
             }
            },
            "type": "scattergl"
           }
          ],
          "scattermapbox": [
           {
            "marker": {
             "colorbar": {
              "outlinewidth": 0,
              "ticks": ""
             }
            },
            "type": "scattermapbox"
           }
          ],
          "scatterpolar": [
           {
            "marker": {
             "colorbar": {
              "outlinewidth": 0,
              "ticks": ""
             }
            },
            "type": "scatterpolar"
           }
          ],
          "scatterpolargl": [
           {
            "marker": {
             "colorbar": {
              "outlinewidth": 0,
              "ticks": ""
             }
            },
            "type": "scatterpolargl"
           }
          ],
          "scatterternary": [
           {
            "marker": {
             "colorbar": {
              "outlinewidth": 0,
              "ticks": ""
             }
            },
            "type": "scatterternary"
           }
          ],
          "surface": [
           {
            "colorbar": {
             "outlinewidth": 0,
             "ticks": ""
            },
            "colorscale": [
             [
              0,
              "#0d0887"
             ],
             [
              0.1111111111111111,
              "#46039f"
             ],
             [
              0.2222222222222222,
              "#7201a8"
             ],
             [
              0.3333333333333333,
              "#9c179e"
             ],
             [
              0.4444444444444444,
              "#bd3786"
             ],
             [
              0.5555555555555556,
              "#d8576b"
             ],
             [
              0.6666666666666666,
              "#ed7953"
             ],
             [
              0.7777777777777778,
              "#fb9f3a"
             ],
             [
              0.8888888888888888,
              "#fdca26"
             ],
             [
              1,
              "#f0f921"
             ]
            ],
            "type": "surface"
           }
          ],
          "table": [
           {
            "cells": {
             "fill": {
              "color": "#506784"
             },
             "line": {
              "color": "rgb(17,17,17)"
             }
            },
            "header": {
             "fill": {
              "color": "#2a3f5f"
             },
             "line": {
              "color": "rgb(17,17,17)"
             }
            },
            "type": "table"
           }
          ]
         },
         "layout": {
          "annotationdefaults": {
           "arrowcolor": "#f2f5fa",
           "arrowhead": 0,
           "arrowwidth": 1
          },
          "autotypenumbers": "strict",
          "coloraxis": {
           "colorbar": {
            "outlinewidth": 0,
            "ticks": ""
           }
          },
          "colorscale": {
           "diverging": [
            [
             0,
             "#8e0152"
            ],
            [
             0.1,
             "#c51b7d"
            ],
            [
             0.2,
             "#de77ae"
            ],
            [
             0.3,
             "#f1b6da"
            ],
            [
             0.4,
             "#fde0ef"
            ],
            [
             0.5,
             "#f7f7f7"
            ],
            [
             0.6,
             "#e6f5d0"
            ],
            [
             0.7,
             "#b8e186"
            ],
            [
             0.8,
             "#7fbc41"
            ],
            [
             0.9,
             "#4d9221"
            ],
            [
             1,
             "#276419"
            ]
           ],
           "sequential": [
            [
             0,
             "#0d0887"
            ],
            [
             0.1111111111111111,
             "#46039f"
            ],
            [
             0.2222222222222222,
             "#7201a8"
            ],
            [
             0.3333333333333333,
             "#9c179e"
            ],
            [
             0.4444444444444444,
             "#bd3786"
            ],
            [
             0.5555555555555556,
             "#d8576b"
            ],
            [
             0.6666666666666666,
             "#ed7953"
            ],
            [
             0.7777777777777778,
             "#fb9f3a"
            ],
            [
             0.8888888888888888,
             "#fdca26"
            ],
            [
             1,
             "#f0f921"
            ]
           ],
           "sequentialminus": [
            [
             0,
             "#0d0887"
            ],
            [
             0.1111111111111111,
             "#46039f"
            ],
            [
             0.2222222222222222,
             "#7201a8"
            ],
            [
             0.3333333333333333,
             "#9c179e"
            ],
            [
             0.4444444444444444,
             "#bd3786"
            ],
            [
             0.5555555555555556,
             "#d8576b"
            ],
            [
             0.6666666666666666,
             "#ed7953"
            ],
            [
             0.7777777777777778,
             "#fb9f3a"
            ],
            [
             0.8888888888888888,
             "#fdca26"
            ],
            [
             1,
             "#f0f921"
            ]
           ]
          },
          "colorway": [
           "#636efa",
           "#EF553B",
           "#00cc96",
           "#ab63fa",
           "#FFA15A",
           "#19d3f3",
           "#FF6692",
           "#B6E880",
           "#FF97FF",
           "#FECB52"
          ],
          "font": {
           "color": "#f2f5fa"
          },
          "geo": {
           "bgcolor": "rgb(17,17,17)",
           "lakecolor": "rgb(17,17,17)",
           "landcolor": "rgb(17,17,17)",
           "showlakes": true,
           "showland": true,
           "subunitcolor": "#506784"
          },
          "hoverlabel": {
           "align": "left"
          },
          "hovermode": "closest",
          "mapbox": {
           "style": "dark"
          },
          "paper_bgcolor": "rgb(17,17,17)",
          "plot_bgcolor": "rgb(17,17,17)",
          "polar": {
           "angularaxis": {
            "gridcolor": "#506784",
            "linecolor": "#506784",
            "ticks": ""
           },
           "bgcolor": "rgb(17,17,17)",
           "radialaxis": {
            "gridcolor": "#506784",
            "linecolor": "#506784",
            "ticks": ""
           }
          },
          "scene": {
           "xaxis": {
            "backgroundcolor": "rgb(17,17,17)",
            "gridcolor": "#506784",
            "gridwidth": 2,
            "linecolor": "#506784",
            "showbackground": true,
            "ticks": "",
            "zerolinecolor": "#C8D4E3"
           },
           "yaxis": {
            "backgroundcolor": "rgb(17,17,17)",
            "gridcolor": "#506784",
            "gridwidth": 2,
            "linecolor": "#506784",
            "showbackground": true,
            "ticks": "",
            "zerolinecolor": "#C8D4E3"
           },
           "zaxis": {
            "backgroundcolor": "rgb(17,17,17)",
            "gridcolor": "#506784",
            "gridwidth": 2,
            "linecolor": "#506784",
            "showbackground": true,
            "ticks": "",
            "zerolinecolor": "#C8D4E3"
           }
          },
          "shapedefaults": {
           "line": {
            "color": "#f2f5fa"
           }
          },
          "sliderdefaults": {
           "bgcolor": "#C8D4E3",
           "bordercolor": "rgb(17,17,17)",
           "borderwidth": 1,
           "tickwidth": 0
          },
          "ternary": {
           "aaxis": {
            "gridcolor": "#506784",
            "linecolor": "#506784",
            "ticks": ""
           },
           "baxis": {
            "gridcolor": "#506784",
            "linecolor": "#506784",
            "ticks": ""
           },
           "bgcolor": "rgb(17,17,17)",
           "caxis": {
            "gridcolor": "#506784",
            "linecolor": "#506784",
            "ticks": ""
           }
          },
          "title": {
           "x": 0.05
          },
          "updatemenudefaults": {
           "bgcolor": "#506784",
           "borderwidth": 0
          },
          "xaxis": {
           "automargin": true,
           "gridcolor": "#283442",
           "linecolor": "#506784",
           "ticks": "",
           "title": {
            "standoff": 15
           },
           "zerolinecolor": "#283442",
           "zerolinewidth": 2
          },
          "yaxis": {
           "automargin": true,
           "gridcolor": "#283442",
           "linecolor": "#506784",
           "ticks": "",
           "title": {
            "standoff": 15
           },
           "zerolinecolor": "#283442",
           "zerolinewidth": 2
          }
         }
        },
        "xaxis": {
         "anchor": "y",
         "domain": [
          0,
          1
         ],
         "title": {
          "text": "x"
         }
        },
        "yaxis": {
         "anchor": "x",
         "domain": [
          0,
          1
         ],
         "title": {
          "text": "y"
         }
        }
       }
      }
     },
     "metadata": {},
     "output_type": "display_data"
    }
   ],
   "source": [
    "features = df.select_dtypes('number')\n",
    "\n",
    "# Scale the features\n",
    "ss = StandardScaler()\n",
    "features_scaled = ss.fit_transform(features)\n",
    "\n",
    "# Apply dimension reduction (PCA)\n",
    "pca = PCA(n_components=2)\n",
    "features_reduced = pca.fit_transform(features_scaled)\n",
    "\n",
    "# Range of k values to test\n",
    "k_values = range(1, 11)\n",
    "wcss = []\n",
    "\n",
    "# Run KMeans for each k and calculate WCSS\n",
    "for k in k_values:\n",
    "    kmeans = KMeans(n_clusters=k, random_state=0)\n",
    "    kmeans.fit(features_reduced)\n",
    "    wcss.append(kmeans.inertia_)  # Inertia is the WCSS\n",
    "\n",
    "res = np.array([k_values, wcss]).T\n",
    "\n",
    "# Plot the elbow plot\n",
    "fig = px.line(res, x=res[:,0], y=res[:,1])\n",
    "fig.show()"
   ]
  },
  {
   "cell_type": "code",
   "execution_count": 189,
   "metadata": {},
   "outputs": [
    {
     "data": {
      "text/plain": [
       "np.float64(0.39329558513424484)"
      ]
     },
     "execution_count": 189,
     "metadata": {},
     "output_type": "execute_result"
    }
   ],
   "source": [
    "# Based on the above elbow plot, the ideal number of clusters is 3 (or 4).\n",
    "kmeans = KMeans(n_clusters=3, random_state=0)\n",
    "df['cluster'] = kmeans.fit_predict(features_reduced)\n",
    "silhouette_score(features_reduced, df['cluster'])"
   ]
  },
  {
   "cell_type": "code",
   "execution_count": 190,
   "metadata": {},
   "outputs": [
    {
     "data": {
      "text/html": [
       "<div>\n",
       "<style scoped>\n",
       "    .dataframe tbody tr th:only-of-type {\n",
       "        vertical-align: middle;\n",
       "    }\n",
       "\n",
       "    .dataframe tbody tr th {\n",
       "        vertical-align: top;\n",
       "    }\n",
       "\n",
       "    .dataframe thead th {\n",
       "        text-align: right;\n",
       "    }\n",
       "</style>\n",
       "<table border=\"1\" class=\"dataframe\">\n",
       "  <thead>\n",
       "    <tr style=\"text-align: right;\">\n",
       "      <th></th>\n",
       "      <th>0</th>\n",
       "      <th>1</th>\n",
       "      <th>cluster</th>\n",
       "    </tr>\n",
       "  </thead>\n",
       "  <tbody>\n",
       "    <tr>\n",
       "      <th>0</th>\n",
       "      <td>1.061983</td>\n",
       "      <td>-1.224977</td>\n",
       "      <td>1</td>\n",
       "    </tr>\n",
       "    <tr>\n",
       "      <th>1</th>\n",
       "      <td>0.611551</td>\n",
       "      <td>-1.802815</td>\n",
       "      <td>1</td>\n",
       "    </tr>\n",
       "    <tr>\n",
       "      <th>2</th>\n",
       "      <td>0.427081</td>\n",
       "      <td>0.012539</td>\n",
       "      <td>1</td>\n",
       "    </tr>\n",
       "    <tr>\n",
       "      <th>3</th>\n",
       "      <td>0.034066</td>\n",
       "      <td>1.618647</td>\n",
       "      <td>2</td>\n",
       "    </tr>\n",
       "    <tr>\n",
       "      <th>4</th>\n",
       "      <td>0.397550</td>\n",
       "      <td>-0.162549</td>\n",
       "      <td>1</td>\n",
       "    </tr>\n",
       "    <tr>\n",
       "      <th>...</th>\n",
       "      <td>...</td>\n",
       "      <td>...</td>\n",
       "      <td>...</td>\n",
       "    </tr>\n",
       "    <tr>\n",
       "      <th>995</th>\n",
       "      <td>1.019813</td>\n",
       "      <td>-0.114909</td>\n",
       "      <td>1</td>\n",
       "    </tr>\n",
       "    <tr>\n",
       "      <th>996</th>\n",
       "      <td>-0.709358</td>\n",
       "      <td>-0.215477</td>\n",
       "      <td>0</td>\n",
       "    </tr>\n",
       "    <tr>\n",
       "      <th>997</th>\n",
       "      <td>-1.274178</td>\n",
       "      <td>-2.143864</td>\n",
       "      <td>0</td>\n",
       "    </tr>\n",
       "    <tr>\n",
       "      <th>998</th>\n",
       "      <td>-0.151515</td>\n",
       "      <td>-1.231066</td>\n",
       "      <td>1</td>\n",
       "    </tr>\n",
       "    <tr>\n",
       "      <th>999</th>\n",
       "      <td>1.013292</td>\n",
       "      <td>0.199176</td>\n",
       "      <td>2</td>\n",
       "    </tr>\n",
       "  </tbody>\n",
       "</table>\n",
       "<p>1000 rows × 3 columns</p>\n",
       "</div>"
      ],
      "text/plain": [
       "            0         1  cluster\n",
       "0    1.061983 -1.224977        1\n",
       "1    0.611551 -1.802815        1\n",
       "2    0.427081  0.012539        1\n",
       "3    0.034066  1.618647        2\n",
       "4    0.397550 -0.162549        1\n",
       "..        ...       ...      ...\n",
       "995  1.019813 -0.114909        1\n",
       "996 -0.709358 -0.215477        0\n",
       "997 -1.274178 -2.143864        0\n",
       "998 -0.151515 -1.231066        1\n",
       "999  1.013292  0.199176        2\n",
       "\n",
       "[1000 rows x 3 columns]"
      ]
     },
     "execution_count": 190,
     "metadata": {},
     "output_type": "execute_result"
    }
   ],
   "source": [
    "frdf = pd.DataFrame(features_reduced)\n",
    "frdf['cluster'] = kmeans.fit_predict(features_reduced)\n",
    "frdf"
   ]
  },
  {
   "cell_type": "code",
   "execution_count": 191,
   "metadata": {},
   "outputs": [
    {
     "data": {
      "application/vnd.plotly.v1+json": {
       "config": {
        "plotlyServerURL": "https://plot.ly"
       },
       "data": [
        {
         "dimensions": [
          {
           "axis": {
            "matches": true
           },
           "label": "0",
           "values": [
            1.0619831087869476,
            0.6115512954865217,
            0.42708097272977663,
            0.034066447982315055,
            0.39755038188480696,
            0.9459055307619065,
            -1.3385086826312957,
            -0.9232390100646656,
            1.8076475008656878,
            0.33428221717210593,
            -0.2661607260429826,
            -1.5091487011706355,
            1.0180217950001738,
            2.1467234009911125,
            2.0953622946255344,
            0.059585547849691695,
            1.685063380216122,
            1.7251397255624834,
            1.2908874965787231,
            1.4410947354987078,
            2.0103433956057835,
            -1.7170365390225644,
            1.6907955885404191,
            1.6312973869104643,
            -1.599277625840892,
            -1.9131228434918734,
            1.5729772311533405,
            1.0460539225601342,
            2.1704210512387525,
            1.2814040710662258,
            -0.641262644938023,
            0.7816842112559045,
            -1.6246793295961843,
            -1.173089342767867,
            -2.4173475411883203,
            2.2059836282297787,
            -1.2206836728710382,
            -2.1734177141342648,
            0.8337301353888519,
            -1.1907780477366214,
            -1.0085308407270233,
            0.18774313412184643,
            -1.5960123429370878,
            -1.7370293662304443,
            0.0679828079160567,
            -1.475647919735747,
            0.759107995715883,
            1.5579754567254451,
            1.5719767804857685,
            0.6930597834234801,
            -1.8888308368997986,
            0.534409009827075,
            -0.4453119770490558,
            -1.7993848036212146,
            -0.1398726444845974,
            1.8913690100502323,
            -0.6733340529225706,
            1.252033028476402,
            2.0458837585168976,
            1.7728069346630029,
            2.0956397379522533,
            -1.813670326329498,
            1.6075892173043427,
            2.014716603616537,
            2.272152322376697,
            0.9150294908038541,
            1.5501189413715732,
            -1.4456646515363305,
            1.193320744197547,
            -2.3263233442540754,
            1.7351029211360651,
            -1.6471221682823616,
            2.7722659250717028,
            0.0638623222276955,
            -1.969491086271327,
            -0.92426544220996,
            0.31106166402131324,
            1.7540799795375255,
            1.623551183817064,
            -1.4713301657259394,
            -2.1024434247346,
            1.6930605584059248,
            1.286032456439046,
            -1.8385730501838793,
            1.6940527204030522,
            -0.49803424912690974,
            -2.4630110698898267,
            -1.1274241191891328,
            2.1339688968949155,
            2.038216208012906,
            -1.0018943916030247,
            -0.5036729594411061,
            1.2272707397993692,
            1.1466365983783033,
            -0.6242808087805712,
            -0.5683091269451432,
            0.06505622704736612,
            -0.9494511892303221,
            0.9085727785311497,
            0.23283804314654338,
            1.598193627946158,
            -0.8859761338006874,
            -1.1195617301912213,
            1.6123640518935032,
            0.5415827095114067,
            -0.17122926275080608,
            0.5739393577985411,
            -0.8223447760158817,
            -2.109028158426963,
            -1.730310160206586,
            -1.0574070056616385,
            0.9756274898444682,
            1.1048336667286365,
            -1.0718186772574736,
            0.31603985460849054,
            -1.9029974522536741,
            -0.005320714207505637,
            -2.2304961921308206,
            -1.4866824976730437,
            -0.5189301617703419,
            1.3908381957708693,
            -0.3198298606740832,
            -1.617174096902902,
            -0.27339969651822826,
            0.6579256197606251,
            -0.8250117043117958,
            1.3667723920488215,
            -1.7551481740149057,
            0.8876304149948555,
            -0.1596516275616484,
            -1.0172725007859078,
            -1.2514134650932964,
            -2.0652014090574005,
            1.505921422151179,
            -0.7452485325472544,
            -1.7714979911641382,
            -1.7994192520407553,
            0.6063485625304693,
            0.6741069181521366,
            1.1344113595416767,
            -1.807001872358455,
            -1.4878588541981435,
            -0.8644825686629781,
            1.6716151111905644,
            -0.8922630716163471,
            0.7175276161652431,
            -1.224720110003116,
            1.3576928119891931,
            1.2978630807433484,
            -1.6515616220891365,
            0.2499643370466395,
            2.8291942224258526,
            -1.3103989329364039,
            2.461520491793433,
            0.2711665812549027,
            1.00583914947616,
            -0.08947364786199868,
            0.34418469151316766,
            0.14768569770070625,
            -1.6716308354063827,
            1.040829061486046,
            0.9207343297401602,
            -1.4654281174426582,
            -1.9812956656796916,
            -1.6490334772367599,
            -1.3275602986236503,
            -0.3437815636370681,
            1.719980034890943,
            -1.209539051941418,
            -1.2244678013367856,
            0.513920959548499,
            0.7355670582579439,
            -1.859948063837978,
            1.8332683260898712,
            2.206889369318668,
            1.243118400574876,
            0.09607143759353608,
            -0.038003311752247276,
            -1.2521860452140572,
            -0.9132248199148968,
            2.234762369522331,
            0.675071068248606,
            -1.6947041059882049,
            -1.4361287826690987,
            -0.9995090350399705,
            -2.0986433329534298,
            0.7753481744276923,
            0.9860369884347396,
            0.32645536317614793,
            1.6513857909097083,
            1.1085402131561666,
            -2.608742198079248,
            0.8766126573110862,
            -2.413538229330787,
            1.1242701885919695,
            -1.2757416057344801,
            -0.9126696411608708,
            -0.5953240937640437,
            -0.4709735792240843,
            -0.7986813357474267,
            -2.2750032357288092,
            -1.7810911119301853,
            0.6295992293844442,
            -0.5126279965572677,
            -1.7694331471562454,
            1.3823172967164625,
            -2.205160238547393,
            1.012564252849202,
            -1.4334652515004083,
            0.021460219667439325,
            1.5558107002389618,
            0.8549729142241289,
            -0.9058493630345839,
            0.22269710932408382,
            -1.7140019144802139,
            -1.4606229194050715,
            -0.17635094320515998,
            -0.4396719789150937,
            -0.9074494491678835,
            -0.43245681605874997,
            -1.2991872373128281,
            0.46609769037465876,
            -1.7496762468689124,
            1.6038716529600006,
            1.4173197716153014,
            -0.5790385406658249,
            -1.5043562325037125,
            1.3183257394965269,
            -1.0394775648967303,
            0.28941991454699617,
            -0.168967813727551,
            -0.1191385019224854,
            -1.073875260764114,
            1.156849061838137,
            2.146446180181956,
            -1.0684848945725363,
            0.8516693879502885,
            0.3473813583347608,
            -2.113140231030135,
            -0.4448619223208304,
            1.7181356514248949,
            1.3793575749329352,
            0.8785404130626553,
            1.294727726495548,
            1.3414945284413704,
            -1.1593944175503004,
            -0.8409548187837139,
            -1.4551237881445944,
            -2.148530016493367,
            0.8631639620929722,
            -1.0839745432021861,
            0.7703465209894139,
            -0.3441707786298317,
            -2.3332864621720595,
            0.6081230809044993,
            -0.6946256844827001,
            1.075417792901861,
            1.6662964977276462,
            0.019990245414822645,
            1.3533625860578038,
            -1.7005282121596668,
            -1.3837075355162887,
            -1.102810970593796,
            1.0729701250795696,
            -2.4054798759755864,
            -0.30252380330943623,
            1.1666569880988222,
            0.5414566660248218,
            -2.217615641598283,
            -1.7020121494624825,
            1.1047677592536647,
            1.6771100054314998,
            -0.5165935235460961,
            -0.7440030013352501,
            1.0920005108199444,
            1.1971659204954865,
            1.7728968825404767,
            1.4465328791842706,
            0.3909512223089733,
            2.101471303080766,
            -1.489071377420191,
            -0.837940741531818,
            -2.0561279407566255,
            -0.9119017273397859,
            0.6382573532694598,
            -1.1791318442701881,
            1.3599393067182184,
            -1.1389236509896372,
            -0.5878797603993393,
            1.0134642478021074,
            -1.565070687411623,
            0.1926095796873141,
            -1.4652214405930821,
            -0.6629527353562615,
            0.9506246507511493,
            -1.5014813836906682,
            1.6028914812978843,
            -1.1884557397991342,
            -0.70361699534097,
            0.6660888083179918,
            1.3765759580898058,
            0.23294844162438466,
            -1.8440390720680202,
            -2.325431698253035,
            1.69989903272162,
            1.0795485501906394,
            1.8174935339876896,
            -0.41146935986721656,
            0.9432865635197105,
            -1.2217284602659102,
            0.32688986709996504,
            -0.7264880994126662,
            -0.163794697417946,
            -1.4152654304010415,
            -0.4759142787506945,
            0.3263782876242238,
            2.075139038356841,
            1.9709005506690902,
            -0.11938565519878458,
            -1.3030860241770263,
            0.038267355609570494,
            0.819789880894207,
            -1.4576853685771456,
            -1.6785554738764246,
            0.9801872026357898,
            -1.2750458471189812,
            -1.915952990018066,
            -1.5746487502329818,
            0.6348981033823371,
            0.28222763734459444,
            -1.231121001837904,
            -0.7685674414138949,
            2.2679537032852566,
            1.319265833337865,
            0.10937591535749823,
            1.3299531013263282,
            -1.0672166180399392,
            -0.8646805372906028,
            -2.2564689099769124,
            -1.4172866853947623,
            1.3559398052079386,
            0.1468192849388508,
            -0.700530484007168,
            0.4640104415438166,
            1.3846597202971802,
            1.4947469674189071,
            1.522412976926422,
            0.45252358104652546,
            1.8943862646794107,
            0.4156596809958572,
            -1.7230675729631457,
            1.3146216726435225,
            -2.544627031093553,
            0.19566632494760233,
            1.5744921847658118,
            -0.9550560190141423,
            -1.4405263568120468,
            0.8873285649074676,
            0.6280162129075076,
            -0.6263695928372223,
            0.3145706088513542,
            -1.0907688848359687,
            0.5298607234245489,
            0.35539334249972715,
            1.1675126656652575,
            0.2093627928309098,
            1.560363121590918,
            -2.099478102012298,
            0.020480878518547636,
            -0.7437066965841697,
            1.94392785001881,
            1.6359259954102683,
            1.0722914621608857,
            -1.2272266634685804,
            0.8394515723323439,
            -1.305801348721578,
            1.3729550418312397,
            -1.102473136483083,
            -0.44168976238574403,
            1.3049286454409241,
            -1.626799604984092,
            0.19827839257628094,
            -1.3975947020504966,
            0.1656635265956434,
            -0.2993123271686427,
            -0.23152229870748603,
            -0.17070749272325556,
            -0.8862471798201603,
            -1.5204755730992552,
            2.4786249024353406,
            0.5685307661415472,
            1.9746444538631103,
            -0.22839379791149622,
            1.062262308894943,
            -2.145663143317427,
            0.5106368039584186,
            -0.6956120926130906,
            1.5235213314450546,
            -1.075206557127689,
            1.8001447722831436,
            1.213080697054693,
            -0.18806083246423355,
            0.6517936785852749,
            -0.46838268551103657,
            1.5768650594239109,
            -0.40448495373251886,
            1.8105613967860186,
            -0.792152319762489,
            1.5684892483996073,
            -1.0245062800411566,
            2.439531465095772,
            1.187186261815512,
            1.8795941193531587,
            0.9086255372807199,
            -0.0738432431443721,
            -0.1932964036103198,
            0.16803796070842336,
            -1.227502062004655,
            -1.4921156099857094,
            -1.7655591095876657,
            -0.23626326120469915,
            -0.06600931543866773,
            -1.8407838424659075,
            1.0104969272220823,
            -0.7302497551823016,
            -0.47398301903088624,
            1.1861128216368022,
            -1.4287442447121703,
            1.0846988764044025,
            1.3910100505183398,
            1.0131775258778153,
            0.2843791396579001,
            -1.802833095331844,
            -0.6592424833442064,
            2.5052882992343712,
            0.3578740370197004,
            -0.07901268545600049,
            0.10739515613469924,
            0.8728298189990426,
            -1.6076351011735477,
            -2.1910637885991706,
            1.1004080552174784,
            -2.223305646695736,
            -1.1618428395293945,
            -0.6703208981454473,
            -1.5784498995860554,
            -0.9094126257333358,
            2.028719998144706,
            2.1519274447384458,
            0.4343431883113646,
            0.9114713652380114,
            -1.697315998988458,
            -0.254838663773386,
            1.0163771296960176,
            -0.0974154312291402,
            2.2163606816457286,
            -1.110822171335354,
            0.13123545147202542,
            2.0377020305318556,
            2.09457090963431,
            1.0561668243056557,
            0.25059727592633274,
            -2.253078081604536,
            -0.6632016970698811,
            -0.256012362292872,
            0.6790615679396618,
            0.43878405832084216,
            -0.2817905424452368,
            -1.1689983299375184,
            -1.589452589710173,
            -1.781087977699288,
            -1.0791591538687983,
            -0.06488002004307672,
            -0.09934603131025677,
            -1.3243589001194593,
            1.259340141915597,
            0.03053020170669307,
            0.6519692893352681,
            -0.6699303875378658,
            1.1039937874312924,
            -1.8181925125106024,
            -0.10585897462237659,
            -1.2445008368298902,
            1.7623835490504554,
            -2.244034107728535,
            0.7263740599635121,
            -1.0304541547568782,
            -0.11853212914556943,
            2.821053574594024,
            -0.9575084237000382,
            1.4665273509633694,
            -2.2041396084144234,
            1.0782492328114563,
            -1.4762671926387203,
            -1.7114301967332701,
            1.789146834435113,
            -1.7270999328650158,
            -1.4117711548287357,
            -1.0229106599598778,
            -1.724838325271782,
            1.1993755065502354,
            -0.6518511822086505,
            -0.7199181642593325,
            0.47246759355021434,
            -1.9876046166479857,
            0.896452397476372,
            1.4988742816541931,
            -0.23172257974120244,
            -0.06650913044364712,
            1.1942476148662773,
            -1.324945794805586,
            -2.166152259886398,
            -1.1741783005516848,
            0.8675061630810766,
            -0.6045139353974063,
            1.600530836460108,
            1.8724475540868124,
            0.48687965084409646,
            -0.6313571679111337,
            2.0130238569038124,
            1.0566556406300143,
            1.565413687190666,
            1.7711875871190235,
            -1.8808668807495164,
            1.9995947247827366,
            0.3248960370607218,
            -1.5720258168834413,
            2.094615991700435,
            -1.877222173575098,
            1.2881572542037902,
            1.443993967803566,
            -1.9064607809647782,
            1.2362390853569332,
            1.5383626882649368,
            1.3534475851337324,
            0.7820140884169988,
            -1.6461092604164698,
            -0.19147335900510332,
            -0.3717936957106656,
            -2.1675770802629333,
            2.024795209071634,
            1.551538305984641,
            -0.6831793187171394,
            0.38490038156685796,
            1.2624457276413796,
            -0.20941185985943594,
            -0.8326501220886046,
            2.1173440282617078,
            -1.816289035607319,
            -1.3270816285664022,
            1.7587962291384738,
            2.200558927479783,
            1.013352794341265,
            2.249761891844709,
            0.25842119048888834,
            1.8936771029985127,
            -1.0271150568154095,
            0.7431722094393742,
            -0.5041720724210658,
            -0.5460668196997416,
            0.7800709364480354,
            -0.9353275787163746,
            0.32752674797666853,
            0.21632986369946502,
            -1.877186279727965,
            0.9043566215982345,
            -1.8797818635135337,
            0.1497790131287553,
            1.2926193287390175,
            -1.442778287731647,
            1.7489299635223867,
            -1.6616954222597033,
            -0.59090730113843,
            1.8230733040533433,
            1.5800621935335035,
            0.4259743225242581,
            1.9562415746980495,
            -1.5217847192991658,
            -0.13617064525879438,
            1.2233653821198323,
            -1.0245163318250439,
            0.0912153398053619,
            -0.9798783579639948,
            0.17941265642113025,
            1.6994257849048595,
            0.20912271945983973,
            1.7674614791793117,
            -0.9512365918186878,
            1.6722036307900636,
            0.5089997828665598,
            -1.1868631640860612,
            2.1256389222486587,
            -1.211807901711672,
            -1.027208295172522,
            2.0936799098840195,
            0.2563409507704954,
            -0.4102778698919288,
            -0.8455848519859618,
            0.7032108534629202,
            -0.7751905004693561,
            -2.386337628467643,
            1.231646065300882,
            0.06401234047840065,
            0.9368448899944773,
            0.33877985464518523,
            -1.3362870197322831,
            -1.6101760499982767,
            0.8451169537985903,
            2.177023867300768,
            -0.934934773644929,
            0.23771560825246252,
            -1.5761083722322387,
            1.1822171783525772,
            1.5369268065784036,
            -1.4354631122333004,
            0.5330657138533808,
            0.4658360892052963,
            -0.9670927541100057,
            -1.6812430947945276,
            -2.004679022505433,
            2.022790398735172,
            -1.954168887226829,
            0.8500372801951498,
            -2.1970660682456935,
            -1.208271009562958,
            -0.08596491196972478,
            1.8215277941512145,
            1.2605481846012645,
            -2.133694130074477,
            -1.5000690908135375,
            -1.575505931708479,
            -0.880640934670795,
            -1.8508442727937369,
            -0.6229383503082423,
            2.1292492977415196,
            2.363916475040094,
            1.2043621042434134,
            0.48426749361299865,
            -2.260665779574234,
            -1.6849029384714573,
            1.149608531377076,
            -1.0495479490509552,
            -2.1614451980535345,
            1.3762485306181154,
            0.1856799199183816,
            -2.1254129313818813,
            2.2454073701836728,
            1.45143241644105,
            1.0718941478938586,
            -0.7423740059762559,
            0.29163884475273016,
            -1.4332809229227779,
            0.0054467413759953206,
            -0.7376178263786601,
            0.24749126007735311,
            -2.0384049321612645,
            1.9733054916228616,
            0.09651647839487734,
            -0.22439732403524076,
            0.9453956821784432,
            0.07410963061501935,
            1.1666254456661909,
            0.7961697542300377,
            1.9383730489904942,
            -1.5811117830264745,
            -0.7082335744072391,
            -1.1105958641487448,
            0.9611549198836274,
            -1.7847287494740096,
            -0.7271886079390588,
            1.5766865057561452,
            -1.1498778038404496,
            1.635673767541753,
            -1.223724767192444,
            1.3480099448319416,
            -1.249233709520287,
            -1.6868919979419876,
            -1.6517943951468104,
            -1.4577741891809741,
            -2.019220089382026,
            -0.6138880584429596,
            0.8601031585099123,
            -1.298451496151919,
            -0.4353866529042992,
            -1.7470364257331599,
            -1.2487289110523152,
            0.08985875223859693,
            1.638543753445205,
            1.6359369558299304,
            0.04586757435218868,
            1.7398199695464904,
            0.8847196518319105,
            1.242248831329146,
            0.2989221221130934,
            -0.5301357295169834,
            -0.15245729957251117,
            1.795697102303861,
            2.497348708300266,
            0.7711419453495705,
            2.356197636135005,
            -0.9466437483437673,
            -2.252684356814328,
            1.6876326002381241,
            -0.2952185674784095,
            -1.161982181417117,
            0.5302280695276339,
            0.3754126219884835,
            -2.5626454525039466,
            -0.8774898245379456,
            -0.9472162735391774,
            0.39688617499930084,
            0.7309253621054852,
            1.5621854630839875,
            0.7870229661395287,
            -1.370432007766069,
            -1.805887253763828,
            -2.4317289850454147,
            -0.1330125790316496,
            -1.9826102598860587,
            -0.17130058412130716,
            -1.3547318296139226,
            -1.0114162855122313,
            1.0993637345426062,
            1.9960917234944815,
            -1.195927454381034,
            -0.39478919024642967,
            -1.6230727867557104,
            0.6714280303914916,
            -0.1605784100709801,
            -0.6548092350427664,
            -1.1225346018039197,
            1.9253868806089627,
            -0.8130757441052116,
            -1.2948304643479653,
            -0.4151647413124406,
            -0.5573175963035725,
            1.6181940884280634,
            0.24174603795994504,
            0.8890100428262812,
            0.1623156563349369,
            0.03558372879136472,
            0.32415094550355217,
            -0.15745620309632746,
            -1.4036008432528777,
            -1.5031678460106743,
            1.2929015768435383,
            -0.4293735112841298,
            0.07132890976230279,
            1.7294713796066987,
            -0.4798276120791815,
            -1.9439190602384304,
            0.6845345352024103,
            0.6790978921115488,
            -0.802793963876637,
            -0.8351820455264575,
            -1.1039358094447271,
            0.4253834887802925,
            2.1042327531575356,
            0.9833681556238246,
            -1.6583770751810103,
            1.321484661814782,
            1.3428986644319956,
            0.7920694677086808,
            0.3593815008642815,
            1.6296766610451963,
            -1.2936864318190149,
            -1.717539586149497,
            0.2661177090071833,
            -1.3245926617703063,
            -0.8922873222355558,
            -2.2194575844316065,
            0.159726964763516,
            1.4823576789816093,
            -1.8522139716157127,
            -0.9444931968441844,
            0.7077299669651214,
            -1.5123868446582207,
            -1.2070925047298728,
            0.9423483966350847,
            -0.9707036131326418,
            0.08405739697706549,
            0.08889137370844769,
            -1.1239209311495855,
            -0.19010220991382912,
            -0.8417077591557134,
            1.2800561619316524,
            -2.3165718372050685,
            -0.4723289836411413,
            1.8730745035867489,
            0.3215875206794466,
            1.8762905357010418,
            1.3478012215448327,
            0.6254490073468618,
            1.5112180285717605,
            0.28507996177600975,
            1.709995376085529,
            -0.5329702745117326,
            0.16801924721894063,
            1.1701720568267124,
            1.531389951618939,
            0.2460332719092162,
            -1.3336416802629505,
            1.0595787196312882,
            1.799292713823841,
            -1.2158396316031366,
            -1.0216090623630811,
            1.3707523264167505,
            0.7485452859211039,
            -2.1623137227483507,
            -1.5535467504042382,
            1.7309071784289651,
            -0.9206979645013704,
            -0.8016766464456323,
            -1.2410759788149466,
            -0.6973385902469725,
            -0.9738462992883586,
            0.10329734653813216,
            1.1550377514847052,
            -0.6121502814715627,
            -0.7563842350541206,
            1.0290323255628275,
            1.812836507060545,
            -0.06062261230273039,
            2.218556661411069,
            2.4238357107027935,
            -0.455302063553346,
            -0.010326314259979092,
            0.029967186140842258,
            -1.7002394253429836,
            1.264141944681768,
            -0.5331080492237188,
            1.530499316326836,
            -2.0575902727095885,
            -1.595947064879981,
            0.794101535364139,
            2.571899233730525,
            1.5242567005020247,
            0.02169570519009586,
            1.355593578530015,
            -1.3280511046700592,
            1.0568288742948737,
            1.7951649675993249,
            0.04297375529976502,
            -0.610553472260152,
            1.6712000902759367,
            1.3193115811900713,
            0.46637051800339124,
            1.151740290468266,
            1.5577605894808033,
            1.0954647848041337,
            0.33503763409721116,
            1.945327433089192,
            2.3163334870601897,
            1.623896336537515,
            2.1577146323310004,
            -1.2637735824785088,
            -0.6752435392279849,
            1.0000218557038743,
            -0.5557474070536609,
            -1.6813241567607067,
            1.139866296864055,
            -1.2237620535601221,
            -1.701860815741859,
            -2.337172155085478,
            1.043656319820731,
            1.3431655349072116,
            -0.4709494120329887,
            1.9426567742393792,
            1.592505848625514,
            -0.7219482586620312,
            -2.202632046347489,
            -1.1551692627996437,
            1.047117149380657,
            1.2110675368228816,
            -1.129215833161428,
            -0.9772378013989105,
            -1.347966189866747,
            -1.4567614128087578,
            0.9811469322212998,
            0.6385096671500948,
            0.7529325590856674,
            1.5519629365097523,
            2.414123814766606,
            0.9703029418969171,
            -0.8251580149956831,
            0.47633857912355954,
            0.39754581572765535,
            1.6014923875332063,
            1.2931109850355225,
            0.08798801489510052,
            -1.3815934222123012,
            -1.3237819967615478,
            -0.8233361576114783,
            -1.9057780142531437,
            1.9357674998601544,
            0.6853207330848474,
            -2.256142153813628,
            1.10699043942405,
            1.4049221175286184,
            -2.320218262613483,
            1.691033307763439,
            1.3740418154720508,
            0.5325788099194927,
            1.2871270356022115,
            -0.1044272273799163,
            0.3064238368986434,
            1.1871855294135634,
            -0.9323660378603753,
            0.024770919458460935,
            0.1750699549711343,
            0.5165347803804385,
            -0.7715205104280568,
            -0.8129980136318031,
            -1.9581869260655618,
            0.48777004271085556,
            0.7928679462841806,
            -1.2722088851060276,
            1.400578541691087,
            2.3026279152910654,
            0.6683257634871733,
            -2.154123753806986,
            0.32095324962656896,
            1.1359173505297206,
            1.2122663345833562,
            -1.6548489385325547,
            0.19556441130395097,
            -0.16614237592887698,
            -0.7711645252122483,
            2.5577487806486428,
            -1.869131404664616,
            -0.756102738067596,
            -0.08272506541445346,
            1.2289761709286833,
            -0.9141618105046468,
            0.5064137220894502,
            -1.2718793120798106,
            -1.3076512482484555,
            0.16158493990992848,
            0.5079913977028081,
            -0.8325359370077445,
            0.11442454946766079,
            -0.33033461517892826,
            0.6524089917097313,
            -1.2168427273332512,
            -1.529376775538498,
            -1.6733019280471813,
            1.1990542471173773,
            0.9391264633817835,
            0.47323833789921027,
            1.1962477249428214,
            -2.382110225697829,
            -1.4003529866819993,
            -1.7971446682369223,
            1.150930834434492,
            -0.611997427987243,
            -1.0159571472572873,
            -1.2532728730927807,
            -1.4255188732359725,
            2.048146394088738,
            -2.1967118410381037,
            1.8013132857265222,
            -1.7895074647370295,
            -1.2422447813690216,
            0.43755723020788717,
            -0.04893206195432077,
            -0.618451311039592,
            1.0591020591787765,
            0.6402138236816527,
            -1.9811107063095905,
            0.010522144831292232,
            0.4691622012327459,
            -1.5753583076188316,
            -0.04536403008387325,
            -1.650359339928552,
            1.7772879579318548,
            -0.12997299560013237,
            1.027308290132573,
            1.2318682393823135,
            1.2096848240142615,
            -1.4450146978238223,
            0.42179551057568215,
            -1.0733392154290708,
            -1.7894237990516264,
            -2.335415803090754,
            1.6000549985519306,
            -0.3626833408353067,
            -1.592447700342213,
            1.3426212873775045,
            1.055736875332407,
            0.9992570609211765,
            1.035965683772247,
            -1.9574161457974302,
            0.45112073883792647,
            1.6181799075470555,
            -0.0976741259461342,
            1.0198134567779376,
            -0.7093579910637702,
            -1.2741780846385458,
            -0.1515154257473087,
            1.0132919179434974
           ]
          },
          {
           "axis": {
            "matches": true
           },
           "label": "1",
           "values": [
            -1.2249768889278927,
            -1.8028148018117474,
            0.012539057821141437,
            1.6186473929979621,
            -0.1625491605079962,
            -0.9607833717406671,
            -1.2827645326741435,
            0.1728412079988676,
            2.2657151236693887,
            1.8523942598443712,
            -0.6273543398151752,
            2.487504388891684,
            -1.4358615365294065,
            0.9984574721741382,
            0.46208612692208434,
            -0.7973557176376436,
            0.1496407131393315,
            0.7423274407040754,
            -0.43697327406893793,
            -1.5124198495970036,
            -0.02919735550099188,
            0.21531663220449015,
            0.6307521401324828,
            0.007950203668928273,
            1.5412076763449378,
            -2.2292427031217104,
            0.3130392424103126,
            0.057930294486989685,
            -1.3175988061189885,
            0.21608669367351735,
            0.9848970986924482,
            0.5464199232216786,
            -1.3563693739382057,
            -1.0321622496873513,
            0.7637516100391487,
            0.011279195423949962,
            -1.0757390808396512,
            1.1540774034892913,
            -1.2254887273251769,
            -2.0119381425868434,
            -0.03236429153770264,
            -0.7612750496853786,
            -0.9596436074054282,
            0.6983734992106109,
            1.4543517902960612,
            -0.6099767604247318,
            -0.2952812395408078,
            -0.36837674332670933,
            -1.8642368680989543,
            0.6236728411133431,
            -0.07748605418186671,
            -0.6480211096481774,
            0.3681166321520615,
            -0.38093774917173084,
            1.1286276483673545,
            1.2198685685571693,
            0.521470728040155,
            0.7490505129600215,
            0.9765088407745407,
            -1.5326542242166603,
            -0.9856678995671969,
            -1.4479127626478998,
            0.7277104988791703,
            0.017285391669251915,
            -0.4047209237036667,
            -0.10760759226214209,
            -1.0575253825422102,
            -1.114162564188865,
            -1.9318042100344714,
            0.6341817217455793,
            -1.3230494487977809,
            1.781835531376769,
            -0.38718743880525147,
            -1.3047064982722387,
            -1.371674342518179,
            0.03213706737425616,
            2.1993510477246865,
            -0.8068281828604402,
            -0.4825254300913483,
            1.9698775494381637,
            0.9711542907213475,
            -2.0613324361446836,
            -0.9799404991464169,
            -0.4532519167116745,
            -1.172157779455533,
            -1.0087396295194648,
            1.541209381567241,
            -1.0832262541600712,
            -0.4020049898125141,
            1.1060439789736731,
            -1.1529552692830742,
            0.6217786198710067,
            0.508707286145892,
            -0.9032533198997179,
            -0.006932288739411266,
            -1.3394189269541263,
            0.759719697775211,
            1.0512674052616962,
            -0.3030171324122742,
            -1.4570512264521178,
            -0.8394520675569687,
            -1.412963599985259,
            -0.7044239379973803,
            -0.9424244521382764,
            0.08556535204686513,
            0.692438565732887,
            0.6241649714723069,
            1.138318267032986,
            -0.3667146018675248,
            1.249794619412868,
            0.058006124371387316,
            1.7775866576371,
            0.531488963224974,
            0.07489215071217246,
            -0.16698973171331638,
            -0.18331692421031545,
            0.572318486023922,
            1.6478871235017454,
            0.05063033015858125,
            1.8324582125337665,
            0.7887283975190884,
            -0.2790218835659376,
            -1.374550624476872,
            0.0857025995115153,
            2.263719596525409,
            -0.7404727533184217,
            1.0635491885016126,
            -0.5436258514786566,
            2.699725579177213,
            0.5942698803948084,
            1.7687623467264526,
            -0.7761403306914046,
            -0.3345629151799453,
            -1.2963274228986248,
            -0.8200337103248726,
            -1.6003860733825013,
            -0.628593460273358,
            1.2342754071720496,
            -1.5042007142102913,
            -0.8781986461759889,
            -0.2399850745688523,
            -1.086272895008034,
            0.48208271764686517,
            -0.04338929490202558,
            0.46600172090630976,
            1.4837963091740838,
            0.9010382350364591,
            1.2048471571312143,
            -0.7092235446388117,
            -0.243552325172702,
            -0.5305484546047196,
            -0.22275836862293405,
            1.0730577126038616,
            0.8592752417854322,
            0.5273896004624871,
            -0.5023790363796634,
            2.029886954003128,
            1.003999197058048,
            0.8150829908719399,
            -0.619144023087823,
            1.3634812487009,
            1.0687745315300818,
            -0.5252400372296182,
            0.3941300508290877,
            -0.15265906701559936,
            0.4921263100133964,
            -1.5520929733948199,
            -1.3439897727623107,
            -0.3272458852626101,
            1.473877904077039,
            -2.488147144971588,
            -0.5341955961654996,
            0.3021659873074375,
            1.3531565840658029,
            -0.9758219543392768,
            0.6623165478055658,
            -0.2953386586034398,
            -0.6591932125179231,
            -0.8022797905546629,
            0.04942690309525207,
            -0.179568223895142,
            -0.42673633229758906,
            -0.0936860212830996,
            -1.4982510111898348,
            -0.5844809817315896,
            -0.9685420220511675,
            -1.8286826290857205,
            0.2374664848843561,
            0.8697937293646798,
            0.4370022911150096,
            -1.5468660384119524,
            -0.9003338160447759,
            1.3264143393481962,
            1.913640707644418,
            1.0502841889209027,
            -0.320275045365052,
            0.2461994475260642,
            -1.6913015831948592,
            -0.8393311683795981,
            -0.16186314081777478,
            -0.11676294086269318,
            1.0845720310064892,
            0.3520511606393446,
            -0.11306778497522006,
            -0.5716088199549455,
            0.7276036688723128,
            0.4457622827704062,
            -0.12094017039608888,
            0.20251203549942418,
            -0.0744086053941171,
            -0.362317331374206,
            -1.1150867546827936,
            0.1403395130151028,
            0.6970829747048854,
            -0.07718236750603429,
            -0.6866666193528764,
            0.4953710926313756,
            -1.0952963495178378,
            1.2882107297391128,
            0.2957275640860757,
            -0.16856567757729796,
            2.1728717818741887,
            0.4960229410272889,
            0.3920086360831036,
            -0.18605740382014493,
            -0.9814727922146165,
            1.4361515654422692,
            0.4588009774065088,
            -0.46723100300411063,
            0.543893507551422,
            -2.2979395110232583,
            -0.9306743987527464,
            -0.7737723510863894,
            -0.6665893478887165,
            -0.9928762980396831,
            0.20521286118597817,
            2.0637457273555233,
            1.1211871274810852,
            1.1424612242046313,
            -0.073160907900431,
            -0.48458346325158613,
            0.205895009593545,
            0.12051290844542058,
            0.8580012693703645,
            -0.04176277504057478,
            -0.025647892300000957,
            0.26805301386740915,
            -1.2852364527675368,
            0.5084603887974725,
            -0.9308855992814294,
            -0.7617122485843448,
            -0.7638932815866935,
            -0.831980975863527,
            1.0616807975817857,
            -2.121344993361999,
            0.6688791221511727,
            -0.11915607460776768,
            0.20971082756386517,
            0.2589862127937619,
            0.8875956597268286,
            -1.8247213992517328,
            1.3734750930641186,
            1.3399290248824702,
            1.63849970723622,
            0.47243809433432876,
            0.5117438661998388,
            1.3766884318226293,
            -0.9501441309118476,
            -2.1430387148903227,
            -1.1937303986032441,
            2.5601084278078488,
            -0.4803653603421006,
            1.0701854562077746,
            0.7956321543834275,
            -1.0270757323958604,
            -0.0008681109059932864,
            1.5770939929313843,
            1.970317075551845,
            0.3917038772716204,
            1.0015817815488097,
            1.8286177492813007,
            0.6796530661633342,
            0.05660196578752988,
            -0.505668740212633,
            -0.37632726922956783,
            -0.9920545551529958,
            -0.8078158997155035,
            -0.9167091887813619,
            0.1151477113215928,
            0.8525957996611205,
            1.4088418950764945,
            1.8912338990217075,
            0.5243057360074723,
            0.27539912579793285,
            -0.6617765404009619,
            -1.0799757128347884,
            -1.0481772640827258,
            -1.7671351927277295,
            0.274337572507537,
            0.15533164372336014,
            -0.02398857330112535,
            -1.2920955626013342,
            0.8501115464154657,
            0.2812331385509455,
            1.1230641704745297,
            0.706498808569353,
            -2.0055538161469424,
            0.9501395463547782,
            0.8215375649004849,
            -0.806318198614261,
            -1.0795777272843174,
            -0.8172648256128212,
            1.1897919957268424,
            0.18800644859972204,
            0.28431269220383987,
            -0.48481914731788894,
            -0.7287732436494485,
            -0.36097216724661363,
            1.7254919022501778,
            -0.5732967413230137,
            -0.4212565041110602,
            -1.2497482341194177,
            1.0089781975931877,
            0.05103577913045258,
            0.0730480177294772,
            1.210861983272079,
            1.5366153578314488,
            0.024622300600956364,
            0.2318150372587704,
            -1.1600033877343703,
            -0.5500371728492137,
            1.038809003658843,
            -1.0556377083010717,
            -0.12774386603135246,
            -1.2023954062870426,
            0.44099201412995703,
            -0.17522409714768145,
            -0.2676131158747816,
            -1.8101060236690942,
            0.7892668435077421,
            0.6032453358263946,
            1.2511648511617286,
            -0.5399642742372912,
            -1.3458565727597545,
            -0.5457965885794064,
            -0.6671923502852443,
            -0.04107235405659948,
            -1.4929303049355527,
            1.8688455892516573,
            -0.6722984345532902,
            -0.5945774975240616,
            -0.1127043050362671,
            -0.09196293415075786,
            2.267767263775002,
            -0.346339170203363,
            -0.13618645450108213,
            -0.6317320401285071,
            0.8731611394223658,
            1.358549520825689,
            0.6341331483207424,
            -0.9429429371312087,
            -1.0330119445650914,
            -1.0194114850694966,
            1.1380748416278264,
            -1.295151785417007,
            -0.6526536346576175,
            1.8201678216627835,
            -1.0488764275381488,
            1.250951341102394,
            0.3636207895414941,
            -0.8055127668161648,
            0.05131930440075373,
            0.6612714174462286,
            0.013211611582230312,
            0.8514493881202381,
            -0.5782653887180018,
            0.06198734674041668,
            -0.5533375850195495,
            -0.37068270615235416,
            -0.21828586907689923,
            1.6901724913704828,
            -0.26538956198153263,
            -0.29405449078501095,
            -0.6750721720557132,
            0.3084581845104703,
            1.8386221063908161,
            0.7706307322839435,
            -0.018744600672258256,
            -1.7765541434233778,
            0.6292928391350102,
            1.1799317517752588,
            -0.3339152573664021,
            0.23816451163039623,
            0.7485899434421035,
            1.2626443452351588,
            1.3196468544430635,
            -0.1555867809182293,
            0.26981174248650347,
            -0.49757131473073096,
            -0.28143546377221007,
            -0.007679513549216344,
            -0.1793566145308712,
            -1.4535841068107207,
            -0.14845375375206207,
            0.6168874778051406,
            -0.36706048307005806,
            -0.8166454584797117,
            -0.012314396760407914,
            2.110119699279318,
            -0.041978619179051636,
            -0.7899191374643325,
            1.8342693759178899,
            -1.1749086145036314,
            1.6288437369919395,
            1.4617331037032353,
            0.6451119893492957,
            0.7800720310334908,
            0.424951699506275,
            0.887628264199723,
            1.0831817722264432,
            0.23768899164707014,
            0.06524574889629609,
            -0.3287642313659147,
            -0.24454360690505714,
            -0.5962113447119046,
            -0.007038254572958257,
            1.597814334723937,
            1.0823533196414485,
            -0.6267435173964526,
            -0.065196653633769,
            -1.3849354474174296,
            -0.17928437554773263,
            0.33402745753457014,
            1.9729563676663608,
            0.7183316127885183,
            -0.7231154570671735,
            0.8291296063704019,
            -0.46200638626499085,
            1.213178757205081,
            -0.7280459710543485,
            -0.0866068611399232,
            -1.1856427893822707,
            -1.507344768002198,
            0.15609912889094163,
            -0.015946439587724834,
            0.5376768587970524,
            0.21194307728937775,
            -0.8348645637794477,
            0.6917170651575397,
            1.08310648797955,
            -1.6188727191213375,
            -0.3671492002320498,
            -0.44021984179806567,
            -0.08966059294263211,
            -2.1860918561169598,
            1.478590051626309,
            -1.0831544855608835,
            1.4087805297449092,
            -0.004967166830845657,
            0.8862536788636466,
            -0.300189132752415,
            1.7640826405055567,
            1.181095917774586,
            -0.002337870015687394,
            -0.06055960228957796,
            0.08968658278477447,
            0.2265703761515181,
            1.1919889165902307,
            0.13697741605544142,
            -1.2182984090676559,
            0.8438850606783781,
            0.9440111488645822,
            0.840490393470639,
            -0.6027294550755471,
            -0.41067637398726925,
            -1.6184201086910455,
            -1.6025575137584807,
            -0.21773945296888333,
            -0.8840423735031259,
            -0.9227690381357601,
            -0.7026126922392218,
            -0.6536219154603504,
            0.5625823266850821,
            -0.5262909457551085,
            2.337386179546732,
            -0.2807516707125355,
            -1.9443168695557531,
            0.60091919404185,
            -1.304557137587889,
            -0.9265189354566252,
            -0.5649228863709603,
            0.6168920026245078,
            0.08617958570026184,
            -0.7115562948162539,
            0.7790220726036289,
            -0.4099728642759358,
            -0.5705081649860506,
            1.2399487677561174,
            -0.49587231313854396,
            0.6274493485420676,
            0.5912392582193122,
            0.5146222170911467,
            -1.5020257707010012,
            -2.279863101152524,
            -0.5674426140461784,
            -0.250539245841316,
            -0.5238972342435368,
            0.34772324746782723,
            0.4730616322023138,
            -0.34508642756973923,
            -0.8938832216233992,
            -0.8166094792139481,
            -1.069115757302352,
            1.7700316399307217,
            -1.049029429415104,
            -2.0693159308844775,
            -0.8333825416306032,
            0.8544646986361857,
            1.2313685727328538,
            1.5522631126040292,
            0.1775950899450482,
            0.442422069721648,
            1.1156252952361243,
            -1.198430072361891,
            -0.7659020009300294,
            -0.16470685886757902,
            -0.689362483981434,
            -0.5340471630002451,
            -1.3885894106274366,
            -1.8658869975880734,
            0.8527261387391648,
            -1.0467640124739923,
            -0.8246154510031628,
            -0.9041357156859271,
            -0.0044723365875726446,
            2.009089327790949,
            -0.34845621599518584,
            0.9056401780728027,
            -1.5079710457305262,
            0.41117721664153045,
            0.8350836902869034,
            1.911544232579011,
            2.5486233691472067,
            -0.2824795347193782,
            -0.2915834456628208,
            0.38880936706949354,
            0.341203449718382,
            -1.7274758539759159,
            1.3441326199675934,
            0.4194864905691882,
            -0.08433171811972888,
            0.652293361977064,
            1.6192087031445461,
            2.1713491706231625,
            0.6307116588550601,
            -1.0474399353913155,
            0.73804490395726,
            -0.6236402301580061,
            -0.9953330857298229,
            0.46218060485991286,
            0.04434530815457078,
            -2.5865501585809296,
            -1.815577265862601,
            -0.05059134414867708,
            1.3582744246659932,
            -0.2416852366329566,
            -1.92000159462072,
            1.6161259889892605,
            -1.0585544134143403,
            -0.5813330764341643,
            0.33868150549815124,
            -2.6181444053310066,
            -0.8548557274661654,
            0.19540436539015096,
            1.9439578397004944,
            -1.053293974251531,
            -0.001675721419934705,
            0.8792135735290254,
            -1.49614013132271,
            -1.0717444770316713,
            0.09933053601877208,
            -2.374137513885248,
            0.5142005677172456,
            -1.7536778007981768,
            1.5755195145499095,
            -0.7882236262795216,
            -1.4547002272566685,
            1.1159532207528482,
            0.5300823844333193,
            -0.9731437207442372,
            0.6386588003184885,
            -0.8669975299990873,
            0.9479866699805889,
            -1.1655979215042989,
            0.4166521512423287,
            0.3296426783841055,
            0.6849985674093817,
            0.6802400132486224,
            1.1773791191401581,
            -1.4091512243163622,
            -0.42582734349292145,
            -1.5585201572904226,
            -0.5732408831141532,
            -0.033784483765284375,
            -2.5794074506396574,
            0.09318967751841356,
            -1.6923188053181706,
            0.14809425132101353,
            1.0135521853789646,
            -1.6494996943772948,
            -0.5792049511188647,
            -0.8389079041340431,
            1.5550690306136692,
            -0.4685855706242452,
            0.41906478342137143,
            1.75462151763315,
            0.6118331173061511,
            -0.30266353688849307,
            0.07779456445336434,
            1.411796545758163,
            -0.4467148477443379,
            -1.0413084169069435,
            -1.0514887790589837,
            0.6652659483787069,
            0.5161303362872611,
            -2.393127505906324,
            -0.4015887935238102,
            -0.5519397814246024,
            1.7814745443260251,
            -1.1541025686642896,
            0.11624137931226283,
            -0.30334271701196447,
            0.671573029579337,
            0.5190149890381641,
            -1.5593125296565664,
            -0.19025701608268303,
            1.0449370118624242,
            -0.4988461980587012,
            0.35286788642857897,
            0.877073157359649,
            -0.641475082444817,
            -0.3575702246911299,
            -0.4056232566363914,
            -1.101658930583866,
            0.9288376850058362,
            0.6906474004448041,
            -0.10064928805641207,
            0.2554596699750677,
            -2.4772055285542645,
            0.547680132022252,
            -0.9658015802995714,
            -1.6207354672214116,
            -1.3414529519623835,
            -0.47036403250555936,
            -0.005005107465364057,
            -1.1153415675854677,
            -0.017468682358607754,
            0.5136541433443164,
            -1.6432120915531654,
            -0.312970757005044,
            2.2848219932099627,
            1.6874765741826825,
            0.2843397840866829,
            1.8955413119802873,
            -1.5038465762082582,
            0.49585584833343754,
            -2.3705373128849097,
            1.0449264348385316,
            -0.7793932592633784,
            1.7345588475271054,
            1.3337953855915627,
            -0.41818950417366,
            1.9688098379479846,
            1.3132682278856076,
            0.23768487827580587,
            1.1435981229980265,
            0.10755986141848808,
            2.089841871976673,
            -0.1216880634527197,
            -1.76819698460422,
            -1.064575402581902,
            -0.39022382186632526,
            -0.16964771945634657,
            1.3001029833271385,
            -1.5511597390712817,
            -0.6481676845878109,
            1.2135370843794862,
            -0.9992035525771553,
            2.408301599441188,
            -0.5516834725266132,
            -0.4527004210695026,
            0.4159719411682536,
            -1.2809661101624397,
            2.4732370396898453,
            -0.6158809069850848,
            1.4200614423653326,
            -1.2194647290221565,
            0.7785694614490193,
            2.006997234039685,
            1.6210080489725511,
            -0.7074211895964466,
            -1.3786170050353177,
            -0.4230978432336783,
            -0.24794883349628338,
            0.1418411289912052,
            -1.3230932007119136,
            -1.0047285806692527,
            0.4001867999140837,
            -1.2754945120403198,
            -0.2788322585557725,
            -0.3590054664294331,
            -1.7790290108593783,
            -0.9361719204196254,
            0.059983776831178205,
            0.5693944738996755,
            0.48503681250606645,
            -1.3611004571131486,
            0.48554095619589865,
            -0.7275261836491325,
            0.18650388609134014,
            -0.13036559932520764,
            -0.08288075283092128,
            0.11488221994047108,
            -1.208102804737067,
            -1.3083246062267286,
            -0.7090319205561398,
            -1.3288577750817188,
            0.12171929652338707,
            1.377410839949384,
            -1.2177675132783743,
            0.6915516040383745,
            0.48677447192318657,
            0.8537732258425207,
            -0.927114359409595,
            -0.209250844261177,
            0.8608708190156825,
            -1.1475304564403879,
            -0.6977248353111505,
            -0.29563352908483026,
            -0.09339704569253365,
            -0.14284856543213245,
            0.08178649034745714,
            0.15450796632579744,
            1.0594789731159593,
            0.39339615413520057,
            2.468426631922656,
            -0.534433843973191,
            1.0509573963568515,
            -0.03779799908942781,
            -0.8325435931031363,
            0.27869896499098873,
            -1.4843393597918388,
            -0.9146588898787713,
            1.0459445640710592,
            1.5918274656031504,
            -1.5850681668815942,
            -1.0720341299357963,
            -1.1799453570853937,
            1.165818111035618,
            -0.4540283843189047,
            0.31716190245149123,
            0.9401398397070362,
            1.4931911539814895,
            1.117058441235386,
            0.6604796155506891,
            -1.0346311679866549,
            -0.15575756001203095,
            -0.8267994794349393,
            -1.3879126672484532,
            1.8457390335424182,
            1.4107077233850944,
            -0.35168429695296544,
            0.5530480977978186,
            1.7818585690793554,
            -0.8543732849543519,
            -1.2286984874661855,
            -0.6924790512653664,
            -0.38621707714758724,
            1.9669470687446708,
            0.8560475496791605,
            0.4950233644664018,
            -0.36119969541207847,
            -0.6977581670307385,
            0.3153063576670581,
            -0.5599906138846048,
            0.4510612794003812,
            1.1569581204470476,
            -0.4221838461315334,
            -1.04695900474631,
            0.9923592714472753,
            0.12032141779786276,
            -1.6492599788159719,
            0.10705572703511336,
            0.6830183382196732,
            1.33073374158505,
            1.3907415919148836,
            0.49326100637536596,
            2.1291189919065263,
            -0.47568793764639483,
            -0.9102387448450149,
            0.21704413746853443,
            1.1050165258357647,
            -0.351134924478713,
            0.4848386609864409,
            -0.6817902602894326,
            0.3843701492499281,
            -0.44143198132298195,
            -0.18832482015708066,
            -0.0251636207762059,
            -0.16054592685762578,
            -1.2890818883620423,
            0.8977380165181372,
            0.19009752914796646,
            0.4873554106870111,
            0.4639464707346795,
            -0.872969047956051,
            -0.34472235398909534,
            -0.4928192393957127,
            -0.13971387655397005,
            0.02749063214022839,
            1.5650335632606232,
            0.5705053146458327,
            1.8060246627676992,
            -0.4184771051951394,
            -1.5376487788859954,
            -1.0419934757809795,
            1.6720527345902154,
            -0.25640426204448924,
            -0.8414073285138505,
            -0.44798426020757515,
            1.002554028903814,
            2.0781894238262737,
            0.13711580666931628,
            0.05327306914074637,
            0.31381574595835277,
            0.4229734063010076,
            0.7001832748022697,
            1.3717573406128472,
            0.11184081080966816,
            1.2328101497056076,
            -0.3608105184882049,
            -0.6702596745570727,
            0.2679118807062465,
            -1.7360635171803316,
            1.751836813038174,
            1.6752870549013132,
            -1.9105131473875392,
            -0.4105659697681092,
            0.053248403465684935,
            -0.6021225868562331,
            1.5438342077552345,
            0.7999780336395127,
            -1.1048593752672324,
            -0.4848291842310412,
            0.6122122471045238,
            -0.5689525267459998,
            -0.13657177218774771,
            -0.1680126773471681,
            -0.5211210481525729,
            0.2300001246295562,
            -1.0501551583959796,
            -1.7724876306650388,
            0.5737236913254008,
            -0.10127552487866825,
            0.6922323926057086,
            0.2616650870634707,
            2.67355365015168,
            -0.6620364815198635,
            0.03301878636361103,
            -0.31648803139735343,
            0.3099841080956065,
            0.6462371422489666,
            -0.5342220651104126,
            -1.1315665306764702,
            -0.7464712001966971,
            0.35054272914683127,
            -0.4840794203357589,
            -0.15121200070587487,
            1.3553285804011261,
            0.13202114926127462,
            -1.5528243917278504,
            1.690473304155756,
            0.5827469563022701,
            0.11968118598039096,
            -0.6259990235335071,
            -0.5833032283404969,
            1.5861928925468247,
            -1.3063533719854725,
            -1.1104673395913134,
            0.9956619932781763,
            -1.9781821816230318,
            1.5554986878568116,
            -0.8222403339268679,
            0.8206265264409364,
            -1.7598107388691053,
            0.8927540526482677,
            -1.5748711646740445,
            0.04134772626965219,
            -0.14448271756035083,
            1.3000539499583494,
            -0.14242444949146232,
            0.14536855151979194,
            -0.21669946936778958,
            0.09673643455594708,
            -0.9581868021301896,
            -1.6627383391845827,
            0.37927039701786114,
            -1.1200537723207686,
            0.21314462761403732,
            1.298946495340789,
            1.7470356963108613,
            1.653288000146855,
            -0.6923843216261966,
            -0.21767838577848342,
            -1.368231283505789,
            -0.3352765490936329,
            1.035857118753769,
            -0.5491006903441829,
            -0.5610139295888354,
            1.5419163081181229,
            0.6016240369566918,
            -0.0052763864792036205,
            -0.06194485947953489,
            -1.4110952665563044,
            1.0922743177202683,
            -0.7681750312013843,
            1.5890619740560734,
            -1.0923550847037697,
            1.0077933170487858,
            -1.1078766147271675,
            0.001095519856271954,
            0.4932013796709493,
            -1.4801582346235957,
            -1.4024814978816498,
            0.32581647691452215,
            -0.9979217738073394,
            -0.42724645195359934,
            0.7587924952747428,
            0.6392441679077515,
            1.327614382651482,
            0.8700074653235365,
            0.7984080075714424,
            -1.3527434739646464,
            1.638167512018395,
            1.5152390053313771,
            -0.5764076552488749,
            -0.3776132643080032,
            -1.7300333804240537,
            -0.5880099824448792,
            0.27468331130781337,
            -0.7319080017606788,
            0.8667235253048984,
            0.1715420466767495,
            -0.9519280701729756,
            0.23585814652730844,
            0.6242715317264207,
            1.8433803024362942,
            -1.1140481142646539,
            -0.9786505636100219,
            2.037107063116436,
            -0.9087883916679868,
            0.815148518328411,
            1.3443505176371433,
            -0.5975856523489499,
            -0.2799517318342466,
            0.19226337941276772,
            -0.002959967657848261,
            -0.2472947788534806,
            1.6701427453127424,
            0.4732689632462992,
            1.666339348243008,
            0.4181223170168914,
            0.2880327325827421,
            0.7101753394716178,
            1.4859850397277985,
            0.5382435762737985,
            0.10972530697855631,
            -0.5322870911423879,
            0.5906093698855328,
            -0.8434749524497785,
            -1.7629621475785615,
            0.4547066530111254,
            0.07589149253560343,
            1.2232780359463467,
            0.33643781080429397,
            1.2191485588377224,
            -1.9634486081423559,
            -2.302212138959957,
            0.5389290684692909,
            1.0319196164565252,
            -0.7567934125297346,
            1.221035395465434,
            -2.162028287873197,
            0.9655678647519015,
            1.9917970677327836,
            -0.11490901539359355,
            -0.2154769355113809,
            -2.1438638920560775,
            -1.2310658756159505,
            0.19917646924904434
           ]
          }
         ],
         "hovertemplate": "%{xaxis.title.text}=%{x}<br>%{yaxis.title.text}=%{y}<br>cluster=%{marker.color}<extra></extra>",
         "legendgroup": "",
         "marker": {
          "color": [
           1,
           1,
           1,
           2,
           1,
           1,
           0,
           0,
           2,
           2,
           0,
           0,
           1,
           2,
           2,
           1,
           1,
           2,
           1,
           1,
           1,
           0,
           2,
           1,
           0,
           0,
           2,
           1,
           1,
           2,
           0,
           2,
           0,
           0,
           0,
           1,
           0,
           0,
           1,
           0,
           0,
           1,
           0,
           0,
           2,
           0,
           1,
           1,
           1,
           2,
           0,
           1,
           0,
           0,
           2,
           2,
           0,
           2,
           2,
           1,
           1,
           0,
           2,
           1,
           1,
           1,
           1,
           0,
           1,
           0,
           1,
           0,
           1,
           1,
           0,
           0,
           2,
           1,
           1,
           0,
           0,
           1,
           1,
           0,
           1,
           0,
           0,
           0,
           1,
           2,
           0,
           0,
           2,
           1,
           0,
           0,
           2,
           0,
           1,
           1,
           1,
           0,
           0,
           1,
           1,
           2,
           2,
           0,
           0,
           0,
           0,
           2,
           2,
           0,
           1,
           0,
           2,
           0,
           0,
           2,
           2,
           0,
           0,
           0,
           2,
           0,
           2,
           0,
           2,
           2,
           0,
           0,
           0,
           1,
           0,
           0,
           0,
           2,
           1,
           1,
           0,
           0,
           0,
           1,
           0,
           2,
           0,
           2,
           1,
           0,
           1,
           1,
           0,
           2,
           2,
           1,
           2,
           2,
           2,
           0,
           2,
           2,
           0,
           0,
           0,
           0,
           1,
           1,
           0,
           0,
           1,
           1,
           0,
           2,
           1,
           2,
           1,
           1,
           0,
           0,
           1,
           1,
           0,
           0,
           0,
           0,
           1,
           2,
           2,
           2,
           1,
           0,
           2,
           0,
           2,
           0,
           0,
           0,
           0,
           0,
           0,
           0,
           2,
           0,
           0,
           2,
           0,
           1,
           0,
           1,
           1,
           1,
           0,
           2,
           0,
           0,
           2,
           0,
           0,
           0,
           0,
           2,
           0,
           2,
           1,
           0,
           0,
           2,
           0,
           2,
           1,
           1,
           0,
           1,
           1,
           0,
           2,
           2,
           0,
           0,
           1,
           1,
           1,
           2,
           1,
           0,
           0,
           0,
           0,
           1,
           0,
           1,
           0,
           0,
           1,
           0,
           1,
           1,
           2,
           2,
           0,
           0,
           0,
           2,
           0,
           0,
           2,
           1,
           0,
           0,
           2,
           1,
           2,
           0,
           1,
           1,
           2,
           2,
           2,
           2,
           0,
           0,
           0,
           0,
           1,
           0,
           1,
           0,
           0,
           2,
           0,
           2,
           0,
           0,
           1,
           0,
           1,
           0,
           0,
           2,
           1,
           1,
           0,
           0,
           2,
           2,
           1,
           2,
           2,
           0,
           1,
           0,
           2,
           0,
           0,
           1,
           1,
           1,
           2,
           0,
           1,
           1,
           0,
           0,
           1,
           0,
           0,
           0,
           2,
           1,
           0,
           0,
           1,
           1,
           1,
           2,
           0,
           0,
           0,
           0,
           2,
           2,
           0,
           1,
           1,
           1,
           1,
           1,
           2,
           1,
           0,
           1,
           0,
           2,
           1,
           0,
           0,
           2,
           2,
           0,
           1,
           0,
           1,
           2,
           1,
           1,
           2,
           0,
           2,
           0,
           1,
           1,
           2,
           0,
           2,
           0,
           1,
           0,
           0,
           1,
           0,
           1,
           0,
           1,
           0,
           2,
           2,
           0,
           0,
           2,
           2,
           1,
           0,
           2,
           0,
           2,
           0,
           2,
           0,
           1,
           1,
           0,
           1,
           0,
           2,
           0,
           1,
           0,
           2,
           0,
           1,
           2,
           1,
           2,
           2,
           2,
           2,
           0,
           0,
           0,
           0,
           0,
           0,
           1,
           0,
           0,
           2,
           0,
           1,
           1,
           1,
           1,
           0,
           2,
           2,
           1,
           2,
           1,
           2,
           0,
           0,
           1,
           0,
           0,
           0,
           0,
           0,
           1,
           2,
           2,
           1,
           0,
           0,
           1,
           1,
           2,
           0,
           2,
           1,
           2,
           1,
           2,
           0,
           0,
           0,
           1,
           2,
           2,
           0,
           0,
           0,
           0,
           2,
           1,
           0,
           1,
           1,
           1,
           0,
           1,
           0,
           1,
           0,
           1,
           0,
           1,
           0,
           2,
           1,
           0,
           1,
           0,
           1,
           0,
           0,
           1,
           0,
           0,
           0,
           0,
           2,
           0,
           0,
           1,
           0,
           1,
           1,
           0,
           2,
           1,
           0,
           0,
           0,
           2,
           0,
           1,
           1,
           2,
           0,
           2,
           2,
           2,
           2,
           0,
           1,
           1,
           0,
           1,
           0,
           1,
           2,
           0,
           1,
           1,
           1,
           2,
           0,
           2,
           1,
           0,
           2,
           2,
           2,
           1,
           1,
           0,
           0,
           1,
           0,
           0,
           1,
           2,
           2,
           2,
           2,
           1,
           0,
           1,
           0,
           0,
           1,
           0,
           1,
           1,
           0,
           1,
           0,
           2,
           1,
           0,
           2,
           0,
           0,
           1,
           2,
           1,
           1,
           0,
           1,
           1,
           0,
           1,
           0,
           1,
           2,
           1,
           1,
           0,
           2,
           1,
           0,
           1,
           0,
           0,
           2,
           2,
           0,
           0,
           2,
           0,
           0,
           1,
           1,
           1,
           1,
           0,
           0,
           2,
           2,
           0,
           1,
           0,
           2,
           1,
           0,
           2,
           2,
           0,
           0,
           0,
           1,
           0,
           1,
           0,
           0,
           1,
           1,
           1,
           0,
           0,
           0,
           0,
           0,
           0,
           1,
           1,
           2,
           1,
           0,
           0,
           1,
           0,
           0,
           1,
           2,
           0,
           1,
           2,
           1,
           0,
           1,
           0,
           1,
           0,
           1,
           0,
           1,
           2,
           1,
           1,
           2,
           2,
           2,
           2,
           0,
           0,
           0,
           2,
           0,
           2,
           2,
           0,
           2,
           0,
           2,
           0,
           0,
           0,
           0,
           0,
           0,
           1,
           0,
           2,
           0,
           0,
           2,
           1,
           2,
           1,
           1,
           2,
           1,
           2,
           0,
           2,
           1,
           2,
           2,
           2,
           0,
           0,
           1,
           0,
           0,
           1,
           1,
           0,
           0,
           0,
           1,
           1,
           1,
           1,
           0,
           0,
           0,
           2,
           0,
           0,
           0,
           0,
           1,
           1,
           0,
           0,
           0,
           1,
           2,
           0,
           0,
           2,
           0,
           0,
           0,
           0,
           1,
           1,
           1,
           1,
           1,
           2,
           0,
           0,
           0,
           2,
           0,
           2,
           1,
           0,
           0,
           1,
           1,
           0,
           0,
           0,
           1,
           1,
           2,
           0,
           2,
           2,
           2,
           2,
           2,
           0,
           0,
           1,
           0,
           2,
           0,
           1,
           2,
           0,
           0,
           1,
           0,
           0,
           2,
           0,
           2,
           1,
           0,
           0,
           0,
           2,
           0,
           0,
           1,
           2,
           1,
           1,
           1,
           2,
           2,
           2,
           0,
           2,
           1,
           1,
           2,
           0,
           1,
           2,
           0,
           0,
           1,
           1,
           0,
           0,
           1,
           0,
           0,
           0,
           0,
           0,
           1,
           1,
           0,
           0,
           2,
           2,
           2,
           1,
           1,
           0,
           2,
           1,
           0,
           1,
           0,
           2,
           0,
           0,
           2,
           2,
           2,
           2,
           1,
           0,
           1,
           1,
           2,
           0,
           2,
           2,
           1,
           1,
           1,
           1,
           2,
           2,
           1,
           1,
           2,
           0,
           0,
           1,
           0,
           0,
           1,
           0,
           0,
           0,
           2,
           2,
           2,
           1,
           1,
           0,
           0,
           0,
           1,
           1,
           0,
           0,
           0,
           0,
           2,
           2,
           1,
           2,
           2,
           1,
           0,
           1,
           2,
           1,
           1,
           2,
           0,
           0,
           0,
           0,
           1,
           2,
           0,
           1,
           1,
           0,
           1,
           1,
           1,
           1,
           1,
           1,
           2,
           0,
           2,
           2,
           2,
           2,
           0,
           0,
           1,
           1,
           0,
           1,
           1,
           2,
           0,
           1,
           1,
           1,
           0,
           1,
           2,
           0,
           2,
           0,
           0,
           2,
           1,
           0,
           2,
           0,
           0,
           2,
           2,
           0,
           2,
           2,
           1,
           0,
           0,
           0,
           1,
           1,
           1,
           2,
           0,
           0,
           0,
           1,
           0,
           0,
           0,
           0,
           1,
           0,
           1,
           0,
           0,
           1,
           1,
           0,
           1,
           1,
           0,
           2,
           2,
           0,
           2,
           0,
           2,
           2,
           1,
           1,
           2,
           0,
           1,
           0,
           0,
           0,
           2,
           2,
           0,
           1,
           2,
           2,
           1,
           0,
           1,
           2,
           2,
           1,
           0,
           0,
           1,
           2
          ],
          "coloraxis": "coloraxis",
          "symbol": "circle"
         },
         "name": "",
         "showlegend": false,
         "type": "splom"
        }
       ],
       "layout": {
        "coloraxis": {
         "colorbar": {
          "title": {
           "text": "cluster"
          }
         },
         "colorscale": [
          [
           0,
           "#0d0887"
          ],
          [
           0.1111111111111111,
           "#46039f"
          ],
          [
           0.2222222222222222,
           "#7201a8"
          ],
          [
           0.3333333333333333,
           "#9c179e"
          ],
          [
           0.4444444444444444,
           "#bd3786"
          ],
          [
           0.5555555555555556,
           "#d8576b"
          ],
          [
           0.6666666666666666,
           "#ed7953"
          ],
          [
           0.7777777777777778,
           "#fb9f3a"
          ],
          [
           0.8888888888888888,
           "#fdca26"
          ],
          [
           1,
           "#f0f921"
          ]
         ]
        },
        "dragmode": "select",
        "legend": {
         "tracegroupgap": 0
        },
        "margin": {
         "t": 60
        },
        "template": {
         "data": {
          "bar": [
           {
            "error_x": {
             "color": "#f2f5fa"
            },
            "error_y": {
             "color": "#f2f5fa"
            },
            "marker": {
             "line": {
              "color": "rgb(17,17,17)",
              "width": 0.5
             },
             "pattern": {
              "fillmode": "overlay",
              "size": 10,
              "solidity": 0.2
             }
            },
            "type": "bar"
           }
          ],
          "barpolar": [
           {
            "marker": {
             "line": {
              "color": "rgb(17,17,17)",
              "width": 0.5
             },
             "pattern": {
              "fillmode": "overlay",
              "size": 10,
              "solidity": 0.2
             }
            },
            "type": "barpolar"
           }
          ],
          "carpet": [
           {
            "aaxis": {
             "endlinecolor": "#A2B1C6",
             "gridcolor": "#506784",
             "linecolor": "#506784",
             "minorgridcolor": "#506784",
             "startlinecolor": "#A2B1C6"
            },
            "baxis": {
             "endlinecolor": "#A2B1C6",
             "gridcolor": "#506784",
             "linecolor": "#506784",
             "minorgridcolor": "#506784",
             "startlinecolor": "#A2B1C6"
            },
            "type": "carpet"
           }
          ],
          "choropleth": [
           {
            "colorbar": {
             "outlinewidth": 0,
             "ticks": ""
            },
            "type": "choropleth"
           }
          ],
          "contour": [
           {
            "colorbar": {
             "outlinewidth": 0,
             "ticks": ""
            },
            "colorscale": [
             [
              0,
              "#0d0887"
             ],
             [
              0.1111111111111111,
              "#46039f"
             ],
             [
              0.2222222222222222,
              "#7201a8"
             ],
             [
              0.3333333333333333,
              "#9c179e"
             ],
             [
              0.4444444444444444,
              "#bd3786"
             ],
             [
              0.5555555555555556,
              "#d8576b"
             ],
             [
              0.6666666666666666,
              "#ed7953"
             ],
             [
              0.7777777777777778,
              "#fb9f3a"
             ],
             [
              0.8888888888888888,
              "#fdca26"
             ],
             [
              1,
              "#f0f921"
             ]
            ],
            "type": "contour"
           }
          ],
          "contourcarpet": [
           {
            "colorbar": {
             "outlinewidth": 0,
             "ticks": ""
            },
            "type": "contourcarpet"
           }
          ],
          "heatmap": [
           {
            "colorbar": {
             "outlinewidth": 0,
             "ticks": ""
            },
            "colorscale": [
             [
              0,
              "#0d0887"
             ],
             [
              0.1111111111111111,
              "#46039f"
             ],
             [
              0.2222222222222222,
              "#7201a8"
             ],
             [
              0.3333333333333333,
              "#9c179e"
             ],
             [
              0.4444444444444444,
              "#bd3786"
             ],
             [
              0.5555555555555556,
              "#d8576b"
             ],
             [
              0.6666666666666666,
              "#ed7953"
             ],
             [
              0.7777777777777778,
              "#fb9f3a"
             ],
             [
              0.8888888888888888,
              "#fdca26"
             ],
             [
              1,
              "#f0f921"
             ]
            ],
            "type": "heatmap"
           }
          ],
          "heatmapgl": [
           {
            "colorbar": {
             "outlinewidth": 0,
             "ticks": ""
            },
            "colorscale": [
             [
              0,
              "#0d0887"
             ],
             [
              0.1111111111111111,
              "#46039f"
             ],
             [
              0.2222222222222222,
              "#7201a8"
             ],
             [
              0.3333333333333333,
              "#9c179e"
             ],
             [
              0.4444444444444444,
              "#bd3786"
             ],
             [
              0.5555555555555556,
              "#d8576b"
             ],
             [
              0.6666666666666666,
              "#ed7953"
             ],
             [
              0.7777777777777778,
              "#fb9f3a"
             ],
             [
              0.8888888888888888,
              "#fdca26"
             ],
             [
              1,
              "#f0f921"
             ]
            ],
            "type": "heatmapgl"
           }
          ],
          "histogram": [
           {
            "marker": {
             "pattern": {
              "fillmode": "overlay",
              "size": 10,
              "solidity": 0.2
             }
            },
            "type": "histogram"
           }
          ],
          "histogram2d": [
           {
            "colorbar": {
             "outlinewidth": 0,
             "ticks": ""
            },
            "colorscale": [
             [
              0,
              "#0d0887"
             ],
             [
              0.1111111111111111,
              "#46039f"
             ],
             [
              0.2222222222222222,
              "#7201a8"
             ],
             [
              0.3333333333333333,
              "#9c179e"
             ],
             [
              0.4444444444444444,
              "#bd3786"
             ],
             [
              0.5555555555555556,
              "#d8576b"
             ],
             [
              0.6666666666666666,
              "#ed7953"
             ],
             [
              0.7777777777777778,
              "#fb9f3a"
             ],
             [
              0.8888888888888888,
              "#fdca26"
             ],
             [
              1,
              "#f0f921"
             ]
            ],
            "type": "histogram2d"
           }
          ],
          "histogram2dcontour": [
           {
            "colorbar": {
             "outlinewidth": 0,
             "ticks": ""
            },
            "colorscale": [
             [
              0,
              "#0d0887"
             ],
             [
              0.1111111111111111,
              "#46039f"
             ],
             [
              0.2222222222222222,
              "#7201a8"
             ],
             [
              0.3333333333333333,
              "#9c179e"
             ],
             [
              0.4444444444444444,
              "#bd3786"
             ],
             [
              0.5555555555555556,
              "#d8576b"
             ],
             [
              0.6666666666666666,
              "#ed7953"
             ],
             [
              0.7777777777777778,
              "#fb9f3a"
             ],
             [
              0.8888888888888888,
              "#fdca26"
             ],
             [
              1,
              "#f0f921"
             ]
            ],
            "type": "histogram2dcontour"
           }
          ],
          "mesh3d": [
           {
            "colorbar": {
             "outlinewidth": 0,
             "ticks": ""
            },
            "type": "mesh3d"
           }
          ],
          "parcoords": [
           {
            "line": {
             "colorbar": {
              "outlinewidth": 0,
              "ticks": ""
             }
            },
            "type": "parcoords"
           }
          ],
          "pie": [
           {
            "automargin": true,
            "type": "pie"
           }
          ],
          "scatter": [
           {
            "marker": {
             "line": {
              "color": "#283442"
             }
            },
            "type": "scatter"
           }
          ],
          "scatter3d": [
           {
            "line": {
             "colorbar": {
              "outlinewidth": 0,
              "ticks": ""
             }
            },
            "marker": {
             "colorbar": {
              "outlinewidth": 0,
              "ticks": ""
             }
            },
            "type": "scatter3d"
           }
          ],
          "scattercarpet": [
           {
            "marker": {
             "colorbar": {
              "outlinewidth": 0,
              "ticks": ""
             }
            },
            "type": "scattercarpet"
           }
          ],
          "scattergeo": [
           {
            "marker": {
             "colorbar": {
              "outlinewidth": 0,
              "ticks": ""
             }
            },
            "type": "scattergeo"
           }
          ],
          "scattergl": [
           {
            "marker": {
             "line": {
              "color": "#283442"
             }
            },
            "type": "scattergl"
           }
          ],
          "scattermapbox": [
           {
            "marker": {
             "colorbar": {
              "outlinewidth": 0,
              "ticks": ""
             }
            },
            "type": "scattermapbox"
           }
          ],
          "scatterpolar": [
           {
            "marker": {
             "colorbar": {
              "outlinewidth": 0,
              "ticks": ""
             }
            },
            "type": "scatterpolar"
           }
          ],
          "scatterpolargl": [
           {
            "marker": {
             "colorbar": {
              "outlinewidth": 0,
              "ticks": ""
             }
            },
            "type": "scatterpolargl"
           }
          ],
          "scatterternary": [
           {
            "marker": {
             "colorbar": {
              "outlinewidth": 0,
              "ticks": ""
             }
            },
            "type": "scatterternary"
           }
          ],
          "surface": [
           {
            "colorbar": {
             "outlinewidth": 0,
             "ticks": ""
            },
            "colorscale": [
             [
              0,
              "#0d0887"
             ],
             [
              0.1111111111111111,
              "#46039f"
             ],
             [
              0.2222222222222222,
              "#7201a8"
             ],
             [
              0.3333333333333333,
              "#9c179e"
             ],
             [
              0.4444444444444444,
              "#bd3786"
             ],
             [
              0.5555555555555556,
              "#d8576b"
             ],
             [
              0.6666666666666666,
              "#ed7953"
             ],
             [
              0.7777777777777778,
              "#fb9f3a"
             ],
             [
              0.8888888888888888,
              "#fdca26"
             ],
             [
              1,
              "#f0f921"
             ]
            ],
            "type": "surface"
           }
          ],
          "table": [
           {
            "cells": {
             "fill": {
              "color": "#506784"
             },
             "line": {
              "color": "rgb(17,17,17)"
             }
            },
            "header": {
             "fill": {
              "color": "#2a3f5f"
             },
             "line": {
              "color": "rgb(17,17,17)"
             }
            },
            "type": "table"
           }
          ]
         },
         "layout": {
          "annotationdefaults": {
           "arrowcolor": "#f2f5fa",
           "arrowhead": 0,
           "arrowwidth": 1
          },
          "autotypenumbers": "strict",
          "coloraxis": {
           "colorbar": {
            "outlinewidth": 0,
            "ticks": ""
           }
          },
          "colorscale": {
           "diverging": [
            [
             0,
             "#8e0152"
            ],
            [
             0.1,
             "#c51b7d"
            ],
            [
             0.2,
             "#de77ae"
            ],
            [
             0.3,
             "#f1b6da"
            ],
            [
             0.4,
             "#fde0ef"
            ],
            [
             0.5,
             "#f7f7f7"
            ],
            [
             0.6,
             "#e6f5d0"
            ],
            [
             0.7,
             "#b8e186"
            ],
            [
             0.8,
             "#7fbc41"
            ],
            [
             0.9,
             "#4d9221"
            ],
            [
             1,
             "#276419"
            ]
           ],
           "sequential": [
            [
             0,
             "#0d0887"
            ],
            [
             0.1111111111111111,
             "#46039f"
            ],
            [
             0.2222222222222222,
             "#7201a8"
            ],
            [
             0.3333333333333333,
             "#9c179e"
            ],
            [
             0.4444444444444444,
             "#bd3786"
            ],
            [
             0.5555555555555556,
             "#d8576b"
            ],
            [
             0.6666666666666666,
             "#ed7953"
            ],
            [
             0.7777777777777778,
             "#fb9f3a"
            ],
            [
             0.8888888888888888,
             "#fdca26"
            ],
            [
             1,
             "#f0f921"
            ]
           ],
           "sequentialminus": [
            [
             0,
             "#0d0887"
            ],
            [
             0.1111111111111111,
             "#46039f"
            ],
            [
             0.2222222222222222,
             "#7201a8"
            ],
            [
             0.3333333333333333,
             "#9c179e"
            ],
            [
             0.4444444444444444,
             "#bd3786"
            ],
            [
             0.5555555555555556,
             "#d8576b"
            ],
            [
             0.6666666666666666,
             "#ed7953"
            ],
            [
             0.7777777777777778,
             "#fb9f3a"
            ],
            [
             0.8888888888888888,
             "#fdca26"
            ],
            [
             1,
             "#f0f921"
            ]
           ]
          },
          "colorway": [
           "#636efa",
           "#EF553B",
           "#00cc96",
           "#ab63fa",
           "#FFA15A",
           "#19d3f3",
           "#FF6692",
           "#B6E880",
           "#FF97FF",
           "#FECB52"
          ],
          "font": {
           "color": "#f2f5fa"
          },
          "geo": {
           "bgcolor": "rgb(17,17,17)",
           "lakecolor": "rgb(17,17,17)",
           "landcolor": "rgb(17,17,17)",
           "showlakes": true,
           "showland": true,
           "subunitcolor": "#506784"
          },
          "hoverlabel": {
           "align": "left"
          },
          "hovermode": "closest",
          "mapbox": {
           "style": "dark"
          },
          "paper_bgcolor": "rgb(17,17,17)",
          "plot_bgcolor": "rgb(17,17,17)",
          "polar": {
           "angularaxis": {
            "gridcolor": "#506784",
            "linecolor": "#506784",
            "ticks": ""
           },
           "bgcolor": "rgb(17,17,17)",
           "radialaxis": {
            "gridcolor": "#506784",
            "linecolor": "#506784",
            "ticks": ""
           }
          },
          "scene": {
           "xaxis": {
            "backgroundcolor": "rgb(17,17,17)",
            "gridcolor": "#506784",
            "gridwidth": 2,
            "linecolor": "#506784",
            "showbackground": true,
            "ticks": "",
            "zerolinecolor": "#C8D4E3"
           },
           "yaxis": {
            "backgroundcolor": "rgb(17,17,17)",
            "gridcolor": "#506784",
            "gridwidth": 2,
            "linecolor": "#506784",
            "showbackground": true,
            "ticks": "",
            "zerolinecolor": "#C8D4E3"
           },
           "zaxis": {
            "backgroundcolor": "rgb(17,17,17)",
            "gridcolor": "#506784",
            "gridwidth": 2,
            "linecolor": "#506784",
            "showbackground": true,
            "ticks": "",
            "zerolinecolor": "#C8D4E3"
           }
          },
          "shapedefaults": {
           "line": {
            "color": "#f2f5fa"
           }
          },
          "sliderdefaults": {
           "bgcolor": "#C8D4E3",
           "bordercolor": "rgb(17,17,17)",
           "borderwidth": 1,
           "tickwidth": 0
          },
          "ternary": {
           "aaxis": {
            "gridcolor": "#506784",
            "linecolor": "#506784",
            "ticks": ""
           },
           "baxis": {
            "gridcolor": "#506784",
            "linecolor": "#506784",
            "ticks": ""
           },
           "bgcolor": "rgb(17,17,17)",
           "caxis": {
            "gridcolor": "#506784",
            "linecolor": "#506784",
            "ticks": ""
           }
          },
          "title": {
           "x": 0.05
          },
          "updatemenudefaults": {
           "bgcolor": "#506784",
           "borderwidth": 0
          },
          "xaxis": {
           "automargin": true,
           "gridcolor": "#283442",
           "linecolor": "#506784",
           "ticks": "",
           "title": {
            "standoff": 15
           },
           "zerolinecolor": "#283442",
           "zerolinewidth": 2
          },
          "yaxis": {
           "automargin": true,
           "gridcolor": "#283442",
           "linecolor": "#506784",
           "ticks": "",
           "title": {
            "standoff": 15
           },
           "zerolinecolor": "#283442",
           "zerolinewidth": 2
          }
         }
        }
       }
      }
     },
     "metadata": {},
     "output_type": "display_data"
    }
   ],
   "source": [
    "fig = px.scatter_matrix(frdf, dimensions=[0, 1], color='cluster')\n",
    "fig.show()"
   ]
  },
  {
   "cell_type": "code",
   "execution_count": 192,
   "metadata": {},
   "outputs": [
    {
     "name": "stdout",
     "output_type": "stream",
     "text": [
      "Mean based summary: numerical features\n"
     ]
    },
    {
     "data": {
      "text/html": [
       "<div>\n",
       "<style scoped>\n",
       "    .dataframe tbody tr th:only-of-type {\n",
       "        vertical-align: middle;\n",
       "    }\n",
       "\n",
       "    .dataframe tbody tr th {\n",
       "        vertical-align: top;\n",
       "    }\n",
       "\n",
       "    .dataframe thead th {\n",
       "        text-align: right;\n",
       "    }\n",
       "</style>\n",
       "<table border=\"1\" class=\"dataframe\">\n",
       "  <thead>\n",
       "    <tr style=\"text-align: right;\">\n",
       "      <th></th>\n",
       "      <th>age</th>\n",
       "      <th>income</th>\n",
       "      <th>spending_score</th>\n",
       "      <th>membership_years</th>\n",
       "      <th>purchase_frequency</th>\n",
       "      <th>last_purchase_amount</th>\n",
       "    </tr>\n",
       "    <tr>\n",
       "      <th>cluster</th>\n",
       "      <th></th>\n",
       "      <th></th>\n",
       "      <th></th>\n",
       "      <th></th>\n",
       "      <th></th>\n",
       "      <th></th>\n",
       "    </tr>\n",
       "  </thead>\n",
       "  <tbody>\n",
       "    <tr>\n",
       "      <th>0</th>\n",
       "      <td>45.0</td>\n",
       "      <td>86525.0</td>\n",
       "      <td>53.0</td>\n",
       "      <td>7.0</td>\n",
       "      <td>37.0</td>\n",
       "      <td>479.0</td>\n",
       "    </tr>\n",
       "    <tr>\n",
       "      <th>1</th>\n",
       "      <td>37.0</td>\n",
       "      <td>103324.0</td>\n",
       "      <td>50.0</td>\n",
       "      <td>4.0</td>\n",
       "      <td>19.0</td>\n",
       "      <td>334.0</td>\n",
       "    </tr>\n",
       "    <tr>\n",
       "      <th>2</th>\n",
       "      <td>51.0</td>\n",
       "      <td>73114.0</td>\n",
       "      <td>47.0</td>\n",
       "      <td>4.0</td>\n",
       "      <td>19.0</td>\n",
       "      <td>716.0</td>\n",
       "    </tr>\n",
       "  </tbody>\n",
       "</table>\n",
       "</div>"
      ],
      "text/plain": [
       "          age    income  spending_score  membership_years  purchase_frequency  \\\n",
       "cluster                                                                         \n",
       "0        45.0   86525.0            53.0               7.0                37.0   \n",
       "1        37.0  103324.0            50.0               4.0                19.0   \n",
       "2        51.0   73114.0            47.0               4.0                19.0   \n",
       "\n",
       "         last_purchase_amount  \n",
       "cluster                        \n",
       "0                       479.0  \n",
       "1                       334.0  \n",
       "2                       716.0  "
      ]
     },
     "metadata": {},
     "output_type": "display_data"
    },
    {
     "name": "stdout",
     "output_type": "stream",
     "text": [
      "Median based summary: numerical features\n"
     ]
    },
    {
     "data": {
      "text/html": [
       "<div>\n",
       "<style scoped>\n",
       "    .dataframe tbody tr th:only-of-type {\n",
       "        vertical-align: middle;\n",
       "    }\n",
       "\n",
       "    .dataframe tbody tr th {\n",
       "        vertical-align: top;\n",
       "    }\n",
       "\n",
       "    .dataframe thead th {\n",
       "        text-align: right;\n",
       "    }\n",
       "</style>\n",
       "<table border=\"1\" class=\"dataframe\">\n",
       "  <thead>\n",
       "    <tr style=\"text-align: right;\">\n",
       "      <th></th>\n",
       "      <th>age</th>\n",
       "      <th>income</th>\n",
       "      <th>spending_score</th>\n",
       "      <th>membership_years</th>\n",
       "      <th>purchase_frequency</th>\n",
       "      <th>last_purchase_amount</th>\n",
       "    </tr>\n",
       "    <tr>\n",
       "      <th>cluster</th>\n",
       "      <th></th>\n",
       "      <th></th>\n",
       "      <th></th>\n",
       "      <th></th>\n",
       "      <th></th>\n",
       "      <th></th>\n",
       "    </tr>\n",
       "  </thead>\n",
       "  <tbody>\n",
       "    <tr>\n",
       "      <th>0</th>\n",
       "      <td>45.0</td>\n",
       "      <td>84764.0</td>\n",
       "      <td>55.0</td>\n",
       "      <td>8.0</td>\n",
       "      <td>38.0</td>\n",
       "      <td>492.0</td>\n",
       "    </tr>\n",
       "    <tr>\n",
       "      <th>1</th>\n",
       "      <td>33.0</td>\n",
       "      <td>105600.0</td>\n",
       "      <td>48.0</td>\n",
       "      <td>4.0</td>\n",
       "      <td>18.0</td>\n",
       "      <td>284.0</td>\n",
       "    </tr>\n",
       "    <tr>\n",
       "      <th>2</th>\n",
       "      <td>54.0</td>\n",
       "      <td>67704.0</td>\n",
       "      <td>46.0</td>\n",
       "      <td>4.0</td>\n",
       "      <td>17.0</td>\n",
       "      <td>762.0</td>\n",
       "    </tr>\n",
       "  </tbody>\n",
       "</table>\n",
       "</div>"
      ],
      "text/plain": [
       "          age    income  spending_score  membership_years  purchase_frequency  \\\n",
       "cluster                                                                         \n",
       "0        45.0   84764.0            55.0               8.0                38.0   \n",
       "1        33.0  105600.0            48.0               4.0                18.0   \n",
       "2        54.0   67704.0            46.0               4.0                17.0   \n",
       "\n",
       "         last_purchase_amount  \n",
       "cluster                        \n",
       "0                       492.0  \n",
       "1                       284.0  \n",
       "2                       762.0  "
      ]
     },
     "metadata": {},
     "output_type": "display_data"
    },
    {
     "name": "stdout",
     "output_type": "stream",
     "text": [
      "Mode based summary: categorical features\n"
     ]
    },
    {
     "data": {
      "text/html": [
       "<div>\n",
       "<style scoped>\n",
       "    .dataframe tbody tr th:only-of-type {\n",
       "        vertical-align: middle;\n",
       "    }\n",
       "\n",
       "    .dataframe tbody tr th {\n",
       "        vertical-align: top;\n",
       "    }\n",
       "\n",
       "    .dataframe thead th {\n",
       "        text-align: right;\n",
       "    }\n",
       "</style>\n",
       "<table border=\"1\" class=\"dataframe\">\n",
       "  <thead>\n",
       "    <tr style=\"text-align: right;\">\n",
       "      <th></th>\n",
       "      <th>gender</th>\n",
       "      <th>preferred_category</th>\n",
       "      <th>age_range</th>\n",
       "      <th>income_level</th>\n",
       "      <th>spending_score_category</th>\n",
       "      <th>purchase_frequency_category</th>\n",
       "      <th>membership_score</th>\n",
       "    </tr>\n",
       "    <tr>\n",
       "      <th>cluster</th>\n",
       "      <th></th>\n",
       "      <th></th>\n",
       "      <th></th>\n",
       "      <th></th>\n",
       "      <th></th>\n",
       "      <th></th>\n",
       "      <th></th>\n",
       "    </tr>\n",
       "  </thead>\n",
       "  <tbody>\n",
       "    <tr>\n",
       "      <th>0</th>\n",
       "      <td>Male</td>\n",
       "      <td>Home &amp; Garden</td>\n",
       "      <td>(40, 50]</td>\n",
       "      <td>Medium</td>\n",
       "      <td>Premium</td>\n",
       "      <td>High</td>\n",
       "      <td>Gold</td>\n",
       "    </tr>\n",
       "    <tr>\n",
       "      <th>1</th>\n",
       "      <td>Female</td>\n",
       "      <td>Electronics</td>\n",
       "      <td>(20, 30]</td>\n",
       "      <td>Medium</td>\n",
       "      <td>Medium</td>\n",
       "      <td>Low</td>\n",
       "      <td>Bronze</td>\n",
       "    </tr>\n",
       "    <tr>\n",
       "      <th>2</th>\n",
       "      <td>Other</td>\n",
       "      <td>Sports</td>\n",
       "      <td>(60, 70]</td>\n",
       "      <td>Medium</td>\n",
       "      <td>Medium</td>\n",
       "      <td>Low</td>\n",
       "      <td>Bronze</td>\n",
       "    </tr>\n",
       "  </tbody>\n",
       "</table>\n",
       "</div>"
      ],
      "text/plain": [
       "         gender preferred_category age_range income_level  \\\n",
       "cluster                                                     \n",
       "0          Male      Home & Garden  (40, 50]       Medium   \n",
       "1        Female        Electronics  (20, 30]       Medium   \n",
       "2         Other             Sports  (60, 70]       Medium   \n",
       "\n",
       "        spending_score_category purchase_frequency_category membership_score  \n",
       "cluster                                                                       \n",
       "0                       Premium                        High             Gold  \n",
       "1                        Medium                         Low           Bronze  \n",
       "2                        Medium                         Low           Bronze  "
      ]
     },
     "metadata": {},
     "output_type": "display_data"
    }
   ],
   "source": [
    "print(\"Mean based summary: numerical features\")\n",
    "display(df.groupby('cluster')[['age', 'income', 'spending_score', 'membership_years', 'purchase_frequency', 'last_purchase_amount']].mean().round(0))\n",
    "print(\"Median based summary: numerical features\")\n",
    "display(df.groupby('cluster')[['age', 'income', 'spending_score', 'membership_years', 'purchase_frequency', 'last_purchase_amount']].median().round(0))\n",
    "print(\"Mode based summary: categorical features\")\n",
    "display(df.groupby('cluster')[['gender', 'preferred_category', 'age_range', 'income_level', 'spending_score_category', 'purchase_frequency_category', 'membership_score']].agg(pd.Series.mode))"
   ]
  },
  {
   "cell_type": "code",
   "execution_count": 193,
   "metadata": {},
   "outputs": [
    {
     "data": {
      "application/vnd.plotly.v1+json": {
       "config": {
        "plotlyServerURL": "https://plot.ly"
       },
       "data": [
        {
         "dimensions": [
          {
           "axis": {
            "matches": true
           },
           "label": "spending_score",
           "values": [
            90,
            60,
            30,
            74,
            21,
            24,
            68,
            94,
            29,
            55,
            16,
            91,
            81,
            46,
            17,
            17,
            29,
            22,
            90,
            70,
            13,
            74,
            68,
            87,
            78,
            60,
            10,
            19,
            78,
            30,
            16,
            69,
            2,
            89,
            54,
            37,
            78,
            89,
            43,
            14,
            31,
            70,
            6,
            79,
            45,
            28,
            40,
            94,
            65,
            96,
            83,
            83,
            73,
            84,
            55,
            50,
            7,
            48,
            12,
            1,
            14,
            87,
            49,
            31,
            36,
            69,
            75,
            52,
            88,
            32,
            60,
            30,
            21,
            63,
            56,
            68,
            4,
            20,
            27,
            54,
            90,
            60,
            94,
            77,
            43,
            24,
            3,
            20,
            8,
            80,
            16,
            67,
            83,
            7,
            97,
            46,
            31,
            99,
            45,
            58,
            1,
            70,
            50,
            4,
            7,
            37,
            59,
            72,
            90,
            86,
            33,
            85,
            33,
            4,
            11,
            89,
            44,
            36,
            75,
            12,
            50,
            66,
            29,
            94,
            58,
            60,
            90,
            70,
            64,
            25,
            70,
            78,
            85,
            91,
            85,
            25,
            49,
            66,
            33,
            84,
            85,
            13,
            73,
            49,
            29,
            17,
            2,
            91,
            89,
            29,
            86,
            20,
            61,
            43,
            58,
            77,
            59,
            36,
            70,
            28,
            18,
            75,
            72,
            37,
            10,
            19,
            61,
            82,
            95,
            60,
            13,
            25,
            96,
            89,
            86,
            62,
            30,
            75,
            57,
            30,
            83,
            36,
            95,
            8,
            91,
            84,
            32,
            14,
            62,
            68,
            80,
            48,
            10,
            95,
            79,
            5,
            66,
            76,
            30,
            47,
            28,
            16,
            41,
            53,
            78,
            18,
            75,
            62,
            24,
            24,
            89,
            20,
            29,
            43,
            93,
            27,
            19,
            24,
            82,
            90,
            51,
            3,
            12,
            12,
            18,
            48,
            71,
            27,
            90,
            40,
            44,
            41,
            22,
            45,
            21,
            79,
            22,
            19,
            41,
            33,
            50,
            74,
            6,
            84,
            19,
            31,
            28,
            57,
            98,
            52,
            27,
            70,
            25,
            98,
            69,
            55,
            19,
            74,
            59,
            82,
            96,
            18,
            68,
            75,
            77,
            68,
            42,
            29,
            100,
            75,
            14,
            6,
            74,
            68,
            88,
            43,
            38,
            24,
            63,
            96,
            46,
            9,
            27,
            27,
            20,
            66,
            69,
            69,
            70,
            61,
            32,
            63,
            72,
            43,
            79,
            23,
            47,
            40,
            5,
            38,
            2,
            39,
            33,
            93,
            50,
            82,
            81,
            14,
            44,
            45,
            45,
            38,
            47,
            55,
            27,
            47,
            84,
            45,
            67,
            43,
            4,
            16,
            44,
            15,
            69,
            100,
            11,
            55,
            79,
            60,
            88,
            70,
            14,
            27,
            83,
            96,
            88,
            70,
            92,
            28,
            45,
            69,
            91,
            42,
            27,
            14,
            36,
            58,
            38,
            44,
            16,
            57,
            100,
            57,
            68,
            88,
            34,
            18,
            19,
            91,
            98,
            32,
            51,
            66,
            42,
            84,
            91,
            74,
            20,
            99,
            93,
            71,
            91,
            69,
            11,
            36,
            100,
            87,
            95,
            75,
            56,
            45,
            4,
            1,
            73,
            57,
            49,
            6,
            99,
            89,
            57,
            60,
            79,
            83,
            40,
            21,
            11,
            14,
            3,
            90,
            96,
            66,
            29,
            39,
            12,
            42,
            78,
            54,
            59,
            12,
            96,
            34,
            9,
            6,
            53,
            62,
            11,
            48,
            40,
            57,
            56,
            46,
            30,
            46,
            100,
            90,
            11,
            24,
            29,
            74,
            80,
            52,
            90,
            66,
            76,
            87,
            44,
            25,
            74,
            71,
            50,
            45,
            79,
            30,
            68,
            29,
            83,
            72,
            1,
            13,
            65,
            33,
            83,
            31,
            82,
            46,
            47,
            69,
            96,
            94,
            100,
            86,
            18,
            87,
            48,
            14,
            1,
            73,
            84,
            92,
            59,
            27,
            42,
            56,
            12,
            23,
            19,
            24,
            19,
            62,
            17,
            52,
            55,
            44,
            85,
            71,
            64,
            67,
            19,
            38,
            70,
            100,
            71,
            24,
            45,
            76,
            48,
            56,
            61,
            16,
            73,
            2,
            52,
            40,
            96,
            79,
            91,
            85,
            64,
            7,
            71,
            49,
            10,
            40,
            8,
            95,
            9,
            85,
            64,
            1,
            100,
            96,
            4,
            13,
            19,
            64,
            37,
            75,
            39,
            63,
            44,
            38,
            74,
            44,
            3,
            49,
            70,
            53,
            11,
            88,
            16,
            70,
            22,
            3,
            80,
            37,
            23,
            42,
            32,
            85,
            83,
            100,
            18,
            78,
            100,
            53,
            83,
            84,
            17,
            61,
            92,
            46,
            10,
            18,
            85,
            56,
            75,
            58,
            43,
            69,
            40,
            95,
            6,
            30,
            62,
            96,
            92,
            59,
            17,
            99,
            56,
            50,
            92,
            23,
            6,
            79,
            80,
            69,
            33,
            22,
            21,
            4,
            41,
            42,
            100,
            2,
            57,
            58,
            95,
            76,
            33,
            64,
            33,
            25,
            69,
            45,
            88,
            34,
            29,
            28,
            72,
            39,
            73,
            5,
            98,
            55,
            51,
            13,
            39,
            92,
            40,
            26,
            99,
            37,
            50,
            8,
            22,
            63,
            83,
            76,
            37,
            41,
            14,
            50,
            15,
            20,
            6,
            95,
            70,
            28,
            28,
            38,
            2,
            83,
            10,
            78,
            11,
            49,
            96,
            32,
            36,
            34,
            35,
            97,
            70,
            45,
            44,
            79,
            38,
            14,
            50,
            40,
            70,
            47,
            26,
            62,
            53,
            29,
            79,
            36,
            27,
            76,
            36,
            14,
            12,
            39,
            99,
            60,
            6,
            98,
            95,
            27,
            54,
            8,
            64,
            78,
            22,
            15,
            38,
            50,
            93,
            28,
            80,
            76,
            79,
            4,
            99,
            28,
            64,
            8,
            34,
            92,
            61,
            14,
            23,
            68,
            42,
            100,
            40,
            67,
            12,
            37,
            26,
            54,
            71,
            23,
            76,
            77,
            21,
            58,
            66,
            99,
            27,
            28,
            3,
            39,
            2,
            39,
            77,
            77,
            12,
            85,
            6,
            7,
            10,
            76,
            74,
            52,
            27,
            18,
            24,
            38,
            81,
            20,
            93,
            99,
            40,
            69,
            30,
            68,
            60,
            10,
            4,
            77,
            11,
            61,
            78,
            36,
            29,
            63,
            1,
            42,
            12,
            96,
            87,
            84,
            1,
            80,
            61,
            18,
            3,
            78,
            42,
            19,
            21,
            25,
            93,
            83,
            56,
            2,
            10,
            32,
            42,
            74,
            22,
            61,
            65,
            71,
            77,
            66,
            89,
            38,
            26,
            58,
            11,
            17,
            54,
            3,
            27,
            40,
            33,
            96,
            72,
            47,
            3,
            92,
            6,
            43,
            35,
            27,
            50,
            73,
            9,
            2,
            87,
            71,
            87,
            32,
            2,
            69,
            72,
            31,
            54,
            57,
            16,
            41,
            58,
            72,
            33,
            17,
            26,
            22,
            71,
            98,
            75,
            29,
            4,
            80,
            9,
            96,
            64,
            23,
            28,
            62,
            30,
            97,
            47,
            31,
            87,
            19,
            25,
            88,
            75,
            84,
            35,
            67,
            75,
            56,
            2,
            3,
            3,
            64,
            73,
            28,
            26,
            57,
            72,
            83,
            47,
            6,
            86,
            18,
            54,
            70,
            99,
            68,
            27,
            61,
            68,
            63,
            93,
            22,
            100,
            70,
            70,
            70,
            38,
            2,
            92,
            77,
            19,
            5,
            92,
            25,
            3,
            34,
            96,
            57,
            32,
            1,
            46,
            39,
            23,
            87,
            77,
            100,
            19,
            27,
            49,
            68,
            93,
            9,
            100,
            72,
            83,
            23,
            83,
            74,
            82,
            84,
            73,
            51,
            73,
            56,
            22,
            41,
            11,
            43,
            43,
            8,
            6,
            32,
            84,
            53,
            2,
            17,
            76,
            23,
            84,
            3,
            64,
            69,
            100,
            76,
            81,
            80,
            40,
            34,
            37,
            38,
            7,
            54,
            43,
            20,
            89,
            68,
            69,
            37,
            59,
            76,
            96,
            71,
            1,
            91,
            4,
            92,
            80,
            16,
            79,
            28,
            14,
            79,
            34,
            84,
            26,
            12,
            71,
            48,
            100,
            11,
            32,
            79,
            76,
            27,
            66,
            2,
            1,
            78,
            93,
            36,
            41,
            97,
            57,
            42,
            25,
            57,
            76,
            40,
            63,
            7
           ]
          },
          {
           "axis": {
            "matches": true
           },
           "label": "purchase_frequency",
           "values": [
            24,
            42,
            28,
            5,
            25,
            30,
            43,
            27,
            7,
            2,
            24,
            49,
            27,
            3,
            8,
            26,
            13,
            31,
            21,
            17,
            4,
            47,
            16,
            9,
            39,
            39,
            4,
            27,
            1,
            20,
            27,
            18,
            47,
            37,
            48,
            6,
            38,
            50,
            29,
            41,
            48,
            34,
            45,
            50,
            31,
            42,
            8,
            3,
            10,
            18,
            35,
            36,
            16,
            38,
            41,
            13,
            20,
            24,
            1,
            7,
            7,
            36,
            6,
            19,
            2,
            29,
            7,
            41,
            16,
            49,
            18,
            50,
            5,
            9,
            42,
            28,
            36,
            10,
            14,
            40,
            39,
            17,
            15,
            35,
            14,
            31,
            48,
            31,
            4,
            8,
            47,
            28,
            11,
            13,
            19,
            21,
            20,
            26,
            32,
            50,
            5,
            38,
            32,
            1,
            45,
            27,
            30,
            21,
            44,
            38,
            34,
            20,
            20,
            36,
            21,
            42,
            31,
            44,
            46,
            49,
            21,
            23,
            37,
            17,
            23,
            29,
            18,
            45,
            17,
            26,
            28,
            28,
            49,
            18,
            29,
            37,
            46,
            21,
            23,
            26,
            40,
            45,
            24,
            10,
            25,
            12,
            29,
            6,
            19,
            42,
            22,
            1,
            40,
            2,
            32,
            25,
            37,
            26,
            24,
            49,
            15,
            17,
            41,
            42,
            47,
            36,
            16,
            2,
            33,
            39,
            43,
            34,
            38,
            9,
            16,
            24,
            35,
            27,
            39,
            35,
            6,
            25,
            49,
            42,
            27,
            41,
            24,
            16,
            35,
            16,
            27,
            50,
            27,
            42,
            13,
            35,
            26,
            21,
            15,
            22,
            49,
            44,
            9,
            27,
            42,
            19,
            40,
            10,
            39,
            3,
            11,
            41,
            28,
            49,
            45,
            46,
            45,
            16,
            24,
            29,
            37,
            26,
            45,
            2,
            14,
            28,
            34,
            16,
            35,
            25,
            45,
            24,
            31,
            24,
            22,
            31,
            14,
            23,
            41,
            27,
            5,
            18,
            30,
            19,
            15,
            32,
            25,
            35,
            42,
            10,
            30,
            37,
            21,
            44,
            22,
            22,
            28,
            10,
            35,
            19,
            41,
            47,
            28,
            8,
            44,
            8,
            12,
            41,
            48,
            49,
            10,
            15,
            17,
            48,
            20,
            28,
            11,
            14,
            30,
            14,
            42,
            26,
            46,
            36,
            26,
            43,
            22,
            41,
            27,
            19,
            41,
            22,
            47,
            35,
            18,
            48,
            9,
            37,
            31,
            23,
            19,
            25,
            42,
            47,
            13,
            27,
            12,
            46,
            8,
            29,
            22,
            30,
            33,
            50,
            17,
            49,
            10,
            12,
            5,
            40,
            38,
            22,
            49,
            38,
            32,
            42,
            49,
            44,
            23,
            42,
            37,
            38,
            1,
            9,
            31,
            16,
            38,
            33,
            50,
            34,
            9,
            25,
            27,
            33,
            9,
            11,
            20,
            30,
            19,
            13,
            48,
            2,
            47,
            25,
            6,
            30,
            41,
            21,
            25,
            27,
            37,
            38,
            37,
            12,
            23,
            32,
            12,
            39,
            37,
            26,
            3,
            16,
            31,
            28,
            29,
            42,
            9,
            32,
            19,
            6,
            37,
            22,
            38,
            41,
            20,
            28,
            9,
            33,
            47,
            2,
            19,
            8,
            12,
            11,
            44,
            27,
            31,
            3,
            38,
            9,
            21,
            7,
            26,
            16,
            20,
            16,
            6,
            29,
            10,
            37,
            2,
            14,
            10,
            9,
            36,
            24,
            2,
            31,
            42,
            48,
            39,
            12,
            45,
            5,
            36,
            14,
            11,
            46,
            19,
            3,
            22,
            42,
            39,
            28,
            9,
            20,
            20,
            35,
            12,
            36,
            46,
            33,
            43,
            35,
            46,
            37,
            33,
            2,
            7,
            27,
            28,
            32,
            17,
            32,
            8,
            5,
            49,
            2,
            5,
            14,
            20,
            24,
            50,
            14,
            20,
            2,
            50,
            44,
            32,
            39,
            47,
            41,
            34,
            44,
            35,
            28,
            47,
            22,
            21,
            24,
            37,
            36,
            33,
            17,
            42,
            9,
            38,
            8,
            5,
            35,
            24,
            49,
            16,
            48,
            45,
            11,
            43,
            50,
            40,
            42,
            2,
            20,
            34,
            31,
            41,
            8,
            6,
            13,
            37,
            30,
            41,
            45,
            41,
            15,
            22,
            3,
            11,
            21,
            48,
            6,
            9,
            13,
            16,
            40,
            8,
            34,
            48,
            9,
            50,
            28,
            11,
            45,
            27,
            16,
            3,
            18,
            44,
            24,
            23,
            49,
            4,
            1,
            46,
            32,
            19,
            18,
            24,
            6,
            48,
            45,
            17,
            5,
            14,
            3,
            22,
            14,
            30,
            28,
            28,
            43,
            8,
            31,
            47,
            31,
            30,
            27,
            49,
            5,
            24,
            48,
            6,
            44,
            26,
            5,
            1,
            31,
            9,
            35,
            12,
            12,
            27,
            49,
            37,
            6,
            14,
            22,
            14,
            40,
            15,
            37,
            47,
            10,
            32,
            34,
            3,
            29,
            21,
            30,
            28,
            26,
            47,
            18,
            47,
            12,
            27,
            46,
            47,
            30,
            5,
            31,
            40,
            43,
            5,
            5,
            35,
            24,
            1,
            39,
            50,
            48,
            6,
            47,
            27,
            44,
            36,
            15,
            10,
            23,
            46,
            48,
            38,
            31,
            49,
            23,
            4,
            4,
            2,
            38,
            46,
            42,
            5,
            28,
            50,
            2,
            36,
            50,
            4,
            6,
            26,
            27,
            46,
            41,
            14,
            35,
            9,
            42,
            8,
            34,
            11,
            11,
            27,
            7,
            32,
            6,
            47,
            25,
            36,
            29,
            44,
            31,
            17,
            33,
            4,
            39,
            17,
            33,
            38,
            45,
            27,
            49,
            22,
            2,
            37,
            18,
            49,
            48,
            36,
            11,
            11,
            46,
            1,
            23,
            22,
            28,
            21,
            8,
            6,
            1,
            19,
            2,
            32,
            50,
            12,
            47,
            35,
            39,
            22,
            49,
            31,
            41,
            26,
            28,
            20,
            36,
            35,
            46,
            48,
            37,
            50,
            30,
            38,
            42,
            28,
            7,
            39,
            17,
            49,
            30,
            11,
            29,
            33,
            8,
            29,
            40,
            25,
            14,
            10,
            42,
            17,
            28,
            36,
            5,
            30,
            35,
            43,
            3,
            17,
            29,
            19,
            21,
            46,
            40,
            44,
            29,
            27,
            32,
            43,
            4,
            17,
            46,
            10,
            8,
            19,
            27,
            13,
            50,
            46,
            44,
            43,
            28,
            43,
            5,
            12,
            50,
            31,
            39,
            43,
            28,
            15,
            30,
            38,
            9,
            35,
            22,
            24,
            27,
            43,
            22,
            13,
            32,
            3,
            7,
            26,
            3,
            42,
            8,
            49,
            36,
            32,
            15,
            1,
            42,
            11,
            6,
            30,
            25,
            28,
            40,
            49,
            40,
            17,
            35,
            28,
            32,
            23,
            28,
            50,
            6,
            22,
            19,
            24,
            9,
            24,
            3,
            2,
            17,
            24,
            13,
            40,
            17,
            33,
            3,
            49,
            35,
            33,
            3,
            9,
            33,
            24,
            31,
            15,
            12,
            39,
            18,
            15,
            9,
            49,
            14,
            8,
            18,
            22,
            16,
            4,
            15,
            6,
            46,
            23,
            6,
            22,
            46,
            25,
            46,
            43,
            48,
            17,
            24,
            33,
            19,
            16,
            44,
            40,
            31,
            31,
            28,
            32,
            26,
            45,
            41,
            18,
            22,
            21,
            12,
            5,
            6,
            23,
            28,
            28,
            19,
            10,
            31,
            39,
            48,
            29,
            40,
            2,
            26,
            49,
            7,
            7,
            46,
            3,
            6,
            3,
            5,
            26,
            41,
            13,
            30,
            12,
            30,
            19,
            30,
            22,
            47,
            32,
            22,
            38,
            19,
            2,
            28,
            47,
            27,
            2,
            28,
            42,
            3,
            17,
            25,
            5,
            44,
            26,
            11,
            24,
            38,
            26,
            50,
            50,
            24,
            37,
            25,
            1,
            21,
            25,
            34,
            38,
            37,
            8,
            32,
            17,
            9,
            50,
            45,
            36,
            8,
            22,
            40,
            32,
            44,
            4,
            42,
            12,
            45,
            33,
            44,
            5,
            14,
            25,
            42,
            40,
            33,
            21,
            44,
            5,
            41,
            12,
            13,
            19,
            16,
            17,
            42,
            49,
            28,
            38,
            49,
            9,
            9,
            47,
            14,
            32,
            31,
            26,
            50,
            27,
            19,
            40,
            1,
            23,
            42,
            44,
            31
           ]
          }
         ],
         "hovertemplate": "%{xaxis.title.text}=%{x}<br>%{yaxis.title.text}=%{y}<br>cluster=%{marker.color}<extra></extra>",
         "legendgroup": "",
         "marker": {
          "color": [
           3,
           3,
           2,
           1,
           2,
           3,
           0,
           1,
           4,
           1,
           1,
           0,
           3,
           4,
           4,
           2,
           4,
           4,
           4,
           3,
           3,
           1,
           3,
           4,
           0,
           0,
           4,
           4,
           4,
           3,
           1,
           2,
           0,
           0,
           0,
           3,
           0,
           0,
           3,
           0,
           0,
           2,
           0,
           0,
           2,
           0,
           2,
           4,
           3,
           2,
           0,
           3,
           1,
           0,
           2,
           4,
           1,
           4,
           4,
           3,
           4,
           0,
           4,
           4,
           3,
           3,
           3,
           1,
           3,
           0,
           3,
           0,
           4,
           1,
           0,
           1,
           2,
           4,
           3,
           0,
           0,
           3,
           4,
           0,
           3,
           1,
           0,
           0,
           4,
           4,
           0,
           1,
           4,
           4,
           1,
           1,
           2,
           1,
           3,
           3,
           2,
           1,
           0,
           2,
           3,
           2,
           3,
           1,
           0,
           0,
           0,
           4,
           4,
           0,
           2,
           0,
           2,
           0,
           1,
           2,
           4,
           1,
           0,
           1,
           2,
           1,
           4,
           1,
           2,
           2,
           1,
           1,
           0,
           4,
           1,
           0,
           0,
           2,
           3,
           3,
           0,
           0,
           1,
           3,
           1,
           2,
           1,
           2,
           3,
           0,
           2,
           4,
           1,
           4,
           2,
           3,
           2,
           2,
           2,
           0,
           2,
           2,
           0,
           0,
           0,
           1,
           1,
           4,
           0,
           1,
           3,
           3,
           0,
           4,
           4,
           3,
           2,
           2,
           1,
           0,
           4,
           3,
           0,
           1,
           0,
           0,
           3,
           2,
           2,
           3,
           3,
           0,
           4,
           0,
           4,
           0,
           1,
           1,
           1,
           1,
           0,
           0,
           2,
           1,
           0,
           3,
           0,
           2,
           0,
           1,
           4,
           3,
           1,
           3,
           0,
           0,
           2,
           1,
           1,
           2,
           1,
           2,
           0,
           2,
           4,
           1,
           1,
           4,
           0,
           2,
           3,
           2,
           0,
           4,
           4,
           1,
           2,
           2,
           0,
           1,
           4,
           3,
           3,
           4,
           3,
           0,
           1,
           0,
           0,
           2,
           1,
           3,
           1,
           0,
           3,
           1,
           3,
           3,
           2,
           4,
           0,
           0,
           1,
           2,
           0,
           1,
           4,
           3,
           0,
           1,
           2,
           4,
           1,
           2,
           3,
           3,
           4,
           4,
           2,
           4,
           0,
           1,
           0,
           0,
           2,
           0,
           3,
           0,
           1,
           2,
           0,
           2,
           0,
           0,
           3,
           0,
           3,
           0,
           1,
           2,
           4,
           2,
           0,
           0,
           4,
           4,
           3,
           2,
           2,
           0,
           2,
           1,
           2,
           0,
           1,
           3,
           3,
           4,
           1,
           0,
           2,
           2,
           0,
           0,
           3,
           0,
           0,
           1,
           2,
           3,
           1,
           0,
           3,
           4,
           2,
           4,
           0,
           1,
           0,
           0,
           4,
           2,
           1,
           3,
           4,
           4,
           4,
           3,
           4,
           2,
           0,
           2,
           0,
           2,
           3,
           1,
           0,
           2,
           2,
           1,
           3,
           0,
           3,
           2,
           3,
           3,
           4,
           0,
           2,
           1,
           3,
           4,
           3,
           1,
           3,
           0,
           2,
           0,
           1,
           2,
           1,
           2,
           0,
           2,
           1,
           2,
           1,
           0,
           0,
           4,
           2,
           3,
           1,
           4,
           0,
           2,
           1,
           4,
           1,
           3,
           3,
           1,
           3,
           1,
           3,
           1,
           3,
           1,
           4,
           0,
           4,
           4,
           4,
           2,
           2,
           1,
           1,
           1,
           0,
           0,
           2,
           1,
           0,
           2,
           0,
           1,
           4,
           0,
           3,
           2,
           3,
           3,
           0,
           1,
           4,
           2,
           1,
           2,
           2,
           0,
           0,
           3,
           0,
           0,
           2,
           0,
           1,
           4,
           4,
           2,
           3,
           0,
           1,
           3,
           1,
           4,
           0,
           1,
           3,
           4,
           3,
           2,
           0,
           1,
           1,
           2,
           3,
           2,
           1,
           0,
           1,
           0,
           2,
           2,
           0,
           3,
           3,
           2,
           1,
           3,
           0,
           2,
           0,
           4,
           0,
           2,
           1,
           1,
           4,
           0,
           3,
           0,
           2,
           0,
           0,
           3,
           0,
           1,
           1,
           0,
           2,
           1,
           1,
           3,
           0,
           2,
           4,
           1,
           2,
           3,
           1,
           0,
           0,
           2,
           1,
           3,
           3,
           2,
           2,
           4,
           2,
           3,
           4,
           0,
           3,
           2,
           0,
           3,
           0,
           3,
           4,
           0,
           3,
           3,
           2,
           2,
           1,
           1,
           1,
           0,
           3,
           2,
           2,
           2,
           3,
           1,
           1,
           4,
           0,
           0,
           4,
           4,
           4,
           4,
           2,
           3,
           0,
           3,
           1,
           2,
           2,
           1,
           3,
           2,
           0,
           3,
           0,
           1,
           4,
           1,
           3,
           0,
           1,
           4,
           2,
           2,
           4,
           1,
           1,
           2,
           1,
           3,
           0,
           1,
           4,
           2,
           3,
           1,
           4,
           3,
           0,
           4,
           1,
           1,
           4,
           2,
           1,
           1,
           3,
           1,
           0,
           3,
           3,
           2,
           3,
           0,
           0,
           3,
           4,
           0,
           3,
           1,
           2,
           2,
           0,
           2,
           1,
           0,
           0,
           0,
           3,
           0,
           3,
           0,
           0,
           1,
           3,
           3,
           0,
           0,
           0,
           0,
           0,
           1,
           3,
           3,
           2,
           3,
           0,
           0,
           2,
           0,
           0,
           2,
           2,
           0,
           3,
           2,
           3,
           1,
           3,
           0,
           1,
           0,
           1,
           0,
           4,
           2,
           1,
           2,
           2,
           4,
           3,
           4,
           0,
           1,
           1,
           4,
           0,
           1,
           3,
           0,
           2,
           0,
           4,
           0,
           0,
           0,
           0,
           0,
           1,
           2,
           1,
           1,
           1,
           0,
           2,
           3,
           4,
           3,
           4,
           3,
           3,
           2,
           1,
           1,
           4,
           4,
           2,
           4,
           1,
           0,
           3,
           2,
           1,
           3,
           2,
           0,
           1,
           1,
           2,
           3,
           4,
           3,
           1,
           1,
           0,
           2,
           0,
           2,
           1,
           0,
           3,
           3,
           1,
           1,
           0,
           3,
           1,
           1,
           0,
           3,
           1,
           0,
           1,
           1,
           3,
           3,
           2,
           2,
           2,
           1,
           2,
           1,
           1,
           4,
           1,
           2,
           3,
           1,
           0,
           3,
           3,
           1,
           1,
           1,
           3,
           4,
           2,
           0,
           2,
           4,
           2,
           2,
           3,
           0,
           0,
           3,
           0,
           1,
           0,
           1,
           4,
           0,
           0,
           3,
           0,
           0,
           2,
           1,
           2,
           1,
           0,
           1,
           1,
           3,
           0,
           1,
           4,
           2,
           4,
           3,
           2,
           2,
           3,
           4,
           2,
           2,
           3,
           3,
           1,
           0,
           2,
           4,
           0,
           1,
           3,
           3,
           0,
           0,
           4,
           1,
           1,
           1,
           1,
           1,
           3,
           2,
           1,
           1,
           3,
           4,
           2,
           4,
           3,
           1,
           2,
           1,
           0,
           3,
           0,
           2,
           0,
           0,
           3,
           4,
           4,
           2,
           4,
           0,
           3,
           4,
           2,
           1,
           4,
           4,
           3,
           2,
           4,
           2,
           2,
           4,
           3,
           4,
           3,
           0,
           1,
           2,
           1,
           0,
           3,
           1,
           1,
           0,
           2,
           3,
           2,
           4,
           4,
           2,
           0,
           1,
           3,
           3,
           1,
           1,
           0,
           0,
           2,
           2,
           2,
           4,
           4,
           2,
           1,
           3,
           2,
           3,
           3,
           2,
           0,
           0,
           0,
           0,
           3,
           2,
           0,
           2,
           2,
           0,
           4,
           2,
           1,
           2,
           2,
           3,
           2,
           1,
           1,
           2,
           2,
           1,
           1,
           1,
           3,
           3,
           0,
           4,
           4,
           4,
           0,
           2,
           2,
           3,
           0,
           1,
           1,
           1,
           4,
           0,
           1,
           1,
           3,
           0,
           2,
           0,
           0,
           2,
           3,
           1,
           1,
           1,
           2,
           0,
           0,
           0,
           4,
           3,
           2,
           2,
           0,
           1,
           0,
           2,
           1,
           0,
           1,
           1,
           4,
           0,
           3,
           1,
           1,
           3,
           1,
           1,
           4,
           3,
           0,
           2,
           2,
           0,
           1,
           0,
           4,
           1,
           3,
           4,
           4,
           1,
           3,
           1,
           0,
           0,
           3,
           1,
           1,
           3,
           3,
           3,
           3,
           0,
           3,
           4,
           2,
           2,
           1,
           0,
           3,
           3
          ],
          "coloraxis": "coloraxis",
          "symbol": "circle"
         },
         "name": "",
         "showlegend": false,
         "type": "splom"
        }
       ],
       "layout": {
        "coloraxis": {
         "colorbar": {
          "title": {
           "text": "cluster"
          }
         },
         "colorscale": [
          [
           0,
           "#0d0887"
          ],
          [
           0.1111111111111111,
           "#46039f"
          ],
          [
           0.2222222222222222,
           "#7201a8"
          ],
          [
           0.3333333333333333,
           "#9c179e"
          ],
          [
           0.4444444444444444,
           "#bd3786"
          ],
          [
           0.5555555555555556,
           "#d8576b"
          ],
          [
           0.6666666666666666,
           "#ed7953"
          ],
          [
           0.7777777777777778,
           "#fb9f3a"
          ],
          [
           0.8888888888888888,
           "#fdca26"
          ],
          [
           1,
           "#f0f921"
          ]
         ]
        },
        "dragmode": "select",
        "legend": {
         "tracegroupgap": 0
        },
        "margin": {
         "t": 60
        },
        "template": {
         "data": {
          "bar": [
           {
            "error_x": {
             "color": "#f2f5fa"
            },
            "error_y": {
             "color": "#f2f5fa"
            },
            "marker": {
             "line": {
              "color": "rgb(17,17,17)",
              "width": 0.5
             },
             "pattern": {
              "fillmode": "overlay",
              "size": 10,
              "solidity": 0.2
             }
            },
            "type": "bar"
           }
          ],
          "barpolar": [
           {
            "marker": {
             "line": {
              "color": "rgb(17,17,17)",
              "width": 0.5
             },
             "pattern": {
              "fillmode": "overlay",
              "size": 10,
              "solidity": 0.2
             }
            },
            "type": "barpolar"
           }
          ],
          "carpet": [
           {
            "aaxis": {
             "endlinecolor": "#A2B1C6",
             "gridcolor": "#506784",
             "linecolor": "#506784",
             "minorgridcolor": "#506784",
             "startlinecolor": "#A2B1C6"
            },
            "baxis": {
             "endlinecolor": "#A2B1C6",
             "gridcolor": "#506784",
             "linecolor": "#506784",
             "minorgridcolor": "#506784",
             "startlinecolor": "#A2B1C6"
            },
            "type": "carpet"
           }
          ],
          "choropleth": [
           {
            "colorbar": {
             "outlinewidth": 0,
             "ticks": ""
            },
            "type": "choropleth"
           }
          ],
          "contour": [
           {
            "colorbar": {
             "outlinewidth": 0,
             "ticks": ""
            },
            "colorscale": [
             [
              0,
              "#0d0887"
             ],
             [
              0.1111111111111111,
              "#46039f"
             ],
             [
              0.2222222222222222,
              "#7201a8"
             ],
             [
              0.3333333333333333,
              "#9c179e"
             ],
             [
              0.4444444444444444,
              "#bd3786"
             ],
             [
              0.5555555555555556,
              "#d8576b"
             ],
             [
              0.6666666666666666,
              "#ed7953"
             ],
             [
              0.7777777777777778,
              "#fb9f3a"
             ],
             [
              0.8888888888888888,
              "#fdca26"
             ],
             [
              1,
              "#f0f921"
             ]
            ],
            "type": "contour"
           }
          ],
          "contourcarpet": [
           {
            "colorbar": {
             "outlinewidth": 0,
             "ticks": ""
            },
            "type": "contourcarpet"
           }
          ],
          "heatmap": [
           {
            "colorbar": {
             "outlinewidth": 0,
             "ticks": ""
            },
            "colorscale": [
             [
              0,
              "#0d0887"
             ],
             [
              0.1111111111111111,
              "#46039f"
             ],
             [
              0.2222222222222222,
              "#7201a8"
             ],
             [
              0.3333333333333333,
              "#9c179e"
             ],
             [
              0.4444444444444444,
              "#bd3786"
             ],
             [
              0.5555555555555556,
              "#d8576b"
             ],
             [
              0.6666666666666666,
              "#ed7953"
             ],
             [
              0.7777777777777778,
              "#fb9f3a"
             ],
             [
              0.8888888888888888,
              "#fdca26"
             ],
             [
              1,
              "#f0f921"
             ]
            ],
            "type": "heatmap"
           }
          ],
          "heatmapgl": [
           {
            "colorbar": {
             "outlinewidth": 0,
             "ticks": ""
            },
            "colorscale": [
             [
              0,
              "#0d0887"
             ],
             [
              0.1111111111111111,
              "#46039f"
             ],
             [
              0.2222222222222222,
              "#7201a8"
             ],
             [
              0.3333333333333333,
              "#9c179e"
             ],
             [
              0.4444444444444444,
              "#bd3786"
             ],
             [
              0.5555555555555556,
              "#d8576b"
             ],
             [
              0.6666666666666666,
              "#ed7953"
             ],
             [
              0.7777777777777778,
              "#fb9f3a"
             ],
             [
              0.8888888888888888,
              "#fdca26"
             ],
             [
              1,
              "#f0f921"
             ]
            ],
            "type": "heatmapgl"
           }
          ],
          "histogram": [
           {
            "marker": {
             "pattern": {
              "fillmode": "overlay",
              "size": 10,
              "solidity": 0.2
             }
            },
            "type": "histogram"
           }
          ],
          "histogram2d": [
           {
            "colorbar": {
             "outlinewidth": 0,
             "ticks": ""
            },
            "colorscale": [
             [
              0,
              "#0d0887"
             ],
             [
              0.1111111111111111,
              "#46039f"
             ],
             [
              0.2222222222222222,
              "#7201a8"
             ],
             [
              0.3333333333333333,
              "#9c179e"
             ],
             [
              0.4444444444444444,
              "#bd3786"
             ],
             [
              0.5555555555555556,
              "#d8576b"
             ],
             [
              0.6666666666666666,
              "#ed7953"
             ],
             [
              0.7777777777777778,
              "#fb9f3a"
             ],
             [
              0.8888888888888888,
              "#fdca26"
             ],
             [
              1,
              "#f0f921"
             ]
            ],
            "type": "histogram2d"
           }
          ],
          "histogram2dcontour": [
           {
            "colorbar": {
             "outlinewidth": 0,
             "ticks": ""
            },
            "colorscale": [
             [
              0,
              "#0d0887"
             ],
             [
              0.1111111111111111,
              "#46039f"
             ],
             [
              0.2222222222222222,
              "#7201a8"
             ],
             [
              0.3333333333333333,
              "#9c179e"
             ],
             [
              0.4444444444444444,
              "#bd3786"
             ],
             [
              0.5555555555555556,
              "#d8576b"
             ],
             [
              0.6666666666666666,
              "#ed7953"
             ],
             [
              0.7777777777777778,
              "#fb9f3a"
             ],
             [
              0.8888888888888888,
              "#fdca26"
             ],
             [
              1,
              "#f0f921"
             ]
            ],
            "type": "histogram2dcontour"
           }
          ],
          "mesh3d": [
           {
            "colorbar": {
             "outlinewidth": 0,
             "ticks": ""
            },
            "type": "mesh3d"
           }
          ],
          "parcoords": [
           {
            "line": {
             "colorbar": {
              "outlinewidth": 0,
              "ticks": ""
             }
            },
            "type": "parcoords"
           }
          ],
          "pie": [
           {
            "automargin": true,
            "type": "pie"
           }
          ],
          "scatter": [
           {
            "marker": {
             "line": {
              "color": "#283442"
             }
            },
            "type": "scatter"
           }
          ],
          "scatter3d": [
           {
            "line": {
             "colorbar": {
              "outlinewidth": 0,
              "ticks": ""
             }
            },
            "marker": {
             "colorbar": {
              "outlinewidth": 0,
              "ticks": ""
             }
            },
            "type": "scatter3d"
           }
          ],
          "scattercarpet": [
           {
            "marker": {
             "colorbar": {
              "outlinewidth": 0,
              "ticks": ""
             }
            },
            "type": "scattercarpet"
           }
          ],
          "scattergeo": [
           {
            "marker": {
             "colorbar": {
              "outlinewidth": 0,
              "ticks": ""
             }
            },
            "type": "scattergeo"
           }
          ],
          "scattergl": [
           {
            "marker": {
             "line": {
              "color": "#283442"
             }
            },
            "type": "scattergl"
           }
          ],
          "scattermapbox": [
           {
            "marker": {
             "colorbar": {
              "outlinewidth": 0,
              "ticks": ""
             }
            },
            "type": "scattermapbox"
           }
          ],
          "scatterpolar": [
           {
            "marker": {
             "colorbar": {
              "outlinewidth": 0,
              "ticks": ""
             }
            },
            "type": "scatterpolar"
           }
          ],
          "scatterpolargl": [
           {
            "marker": {
             "colorbar": {
              "outlinewidth": 0,
              "ticks": ""
             }
            },
            "type": "scatterpolargl"
           }
          ],
          "scatterternary": [
           {
            "marker": {
             "colorbar": {
              "outlinewidth": 0,
              "ticks": ""
             }
            },
            "type": "scatterternary"
           }
          ],
          "surface": [
           {
            "colorbar": {
             "outlinewidth": 0,
             "ticks": ""
            },
            "colorscale": [
             [
              0,
              "#0d0887"
             ],
             [
              0.1111111111111111,
              "#46039f"
             ],
             [
              0.2222222222222222,
              "#7201a8"
             ],
             [
              0.3333333333333333,
              "#9c179e"
             ],
             [
              0.4444444444444444,
              "#bd3786"
             ],
             [
              0.5555555555555556,
              "#d8576b"
             ],
             [
              0.6666666666666666,
              "#ed7953"
             ],
             [
              0.7777777777777778,
              "#fb9f3a"
             ],
             [
              0.8888888888888888,
              "#fdca26"
             ],
             [
              1,
              "#f0f921"
             ]
            ],
            "type": "surface"
           }
          ],
          "table": [
           {
            "cells": {
             "fill": {
              "color": "#506784"
             },
             "line": {
              "color": "rgb(17,17,17)"
             }
            },
            "header": {
             "fill": {
              "color": "#2a3f5f"
             },
             "line": {
              "color": "rgb(17,17,17)"
             }
            },
            "type": "table"
           }
          ]
         },
         "layout": {
          "annotationdefaults": {
           "arrowcolor": "#f2f5fa",
           "arrowhead": 0,
           "arrowwidth": 1
          },
          "autotypenumbers": "strict",
          "coloraxis": {
           "colorbar": {
            "outlinewidth": 0,
            "ticks": ""
           }
          },
          "colorscale": {
           "diverging": [
            [
             0,
             "#8e0152"
            ],
            [
             0.1,
             "#c51b7d"
            ],
            [
             0.2,
             "#de77ae"
            ],
            [
             0.3,
             "#f1b6da"
            ],
            [
             0.4,
             "#fde0ef"
            ],
            [
             0.5,
             "#f7f7f7"
            ],
            [
             0.6,
             "#e6f5d0"
            ],
            [
             0.7,
             "#b8e186"
            ],
            [
             0.8,
             "#7fbc41"
            ],
            [
             0.9,
             "#4d9221"
            ],
            [
             1,
             "#276419"
            ]
           ],
           "sequential": [
            [
             0,
             "#0d0887"
            ],
            [
             0.1111111111111111,
             "#46039f"
            ],
            [
             0.2222222222222222,
             "#7201a8"
            ],
            [
             0.3333333333333333,
             "#9c179e"
            ],
            [
             0.4444444444444444,
             "#bd3786"
            ],
            [
             0.5555555555555556,
             "#d8576b"
            ],
            [
             0.6666666666666666,
             "#ed7953"
            ],
            [
             0.7777777777777778,
             "#fb9f3a"
            ],
            [
             0.8888888888888888,
             "#fdca26"
            ],
            [
             1,
             "#f0f921"
            ]
           ],
           "sequentialminus": [
            [
             0,
             "#0d0887"
            ],
            [
             0.1111111111111111,
             "#46039f"
            ],
            [
             0.2222222222222222,
             "#7201a8"
            ],
            [
             0.3333333333333333,
             "#9c179e"
            ],
            [
             0.4444444444444444,
             "#bd3786"
            ],
            [
             0.5555555555555556,
             "#d8576b"
            ],
            [
             0.6666666666666666,
             "#ed7953"
            ],
            [
             0.7777777777777778,
             "#fb9f3a"
            ],
            [
             0.8888888888888888,
             "#fdca26"
            ],
            [
             1,
             "#f0f921"
            ]
           ]
          },
          "colorway": [
           "#636efa",
           "#EF553B",
           "#00cc96",
           "#ab63fa",
           "#FFA15A",
           "#19d3f3",
           "#FF6692",
           "#B6E880",
           "#FF97FF",
           "#FECB52"
          ],
          "font": {
           "color": "#f2f5fa"
          },
          "geo": {
           "bgcolor": "rgb(17,17,17)",
           "lakecolor": "rgb(17,17,17)",
           "landcolor": "rgb(17,17,17)",
           "showlakes": true,
           "showland": true,
           "subunitcolor": "#506784"
          },
          "hoverlabel": {
           "align": "left"
          },
          "hovermode": "closest",
          "mapbox": {
           "style": "dark"
          },
          "paper_bgcolor": "rgb(17,17,17)",
          "plot_bgcolor": "rgb(17,17,17)",
          "polar": {
           "angularaxis": {
            "gridcolor": "#506784",
            "linecolor": "#506784",
            "ticks": ""
           },
           "bgcolor": "rgb(17,17,17)",
           "radialaxis": {
            "gridcolor": "#506784",
            "linecolor": "#506784",
            "ticks": ""
           }
          },
          "scene": {
           "xaxis": {
            "backgroundcolor": "rgb(17,17,17)",
            "gridcolor": "#506784",
            "gridwidth": 2,
            "linecolor": "#506784",
            "showbackground": true,
            "ticks": "",
            "zerolinecolor": "#C8D4E3"
           },
           "yaxis": {
            "backgroundcolor": "rgb(17,17,17)",
            "gridcolor": "#506784",
            "gridwidth": 2,
            "linecolor": "#506784",
            "showbackground": true,
            "ticks": "",
            "zerolinecolor": "#C8D4E3"
           },
           "zaxis": {
            "backgroundcolor": "rgb(17,17,17)",
            "gridcolor": "#506784",
            "gridwidth": 2,
            "linecolor": "#506784",
            "showbackground": true,
            "ticks": "",
            "zerolinecolor": "#C8D4E3"
           }
          },
          "shapedefaults": {
           "line": {
            "color": "#f2f5fa"
           }
          },
          "sliderdefaults": {
           "bgcolor": "#C8D4E3",
           "bordercolor": "rgb(17,17,17)",
           "borderwidth": 1,
           "tickwidth": 0
          },
          "ternary": {
           "aaxis": {
            "gridcolor": "#506784",
            "linecolor": "#506784",
            "ticks": ""
           },
           "baxis": {
            "gridcolor": "#506784",
            "linecolor": "#506784",
            "ticks": ""
           },
           "bgcolor": "rgb(17,17,17)",
           "caxis": {
            "gridcolor": "#506784",
            "linecolor": "#506784",
            "ticks": ""
           }
          },
          "title": {
           "x": 0.05
          },
          "updatemenudefaults": {
           "bgcolor": "#506784",
           "borderwidth": 0
          },
          "xaxis": {
           "automargin": true,
           "gridcolor": "#283442",
           "linecolor": "#506784",
           "ticks": "",
           "title": {
            "standoff": 15
           },
           "zerolinecolor": "#283442",
           "zerolinewidth": 2
          },
          "yaxis": {
           "automargin": true,
           "gridcolor": "#283442",
           "linecolor": "#506784",
           "ticks": "",
           "title": {
            "standoff": 15
           },
           "zerolinecolor": "#283442",
           "zerolinewidth": 2
          }
         }
        }
       }
      }
     },
     "metadata": {},
     "output_type": "display_data"
    }
   ],
   "source": [
    "fig = px.scatter_matrix(features, dimensions=['spending_score', 'purchase_frequency'], color='cluster')\n",
    "fig.show()"
   ]
  },
  {
   "cell_type": "code",
   "execution_count": 194,
   "metadata": {},
   "outputs": [],
   "source": [
    "df.to_csv('../data/clean/clustered.csv', index=True)"
   ]
  }
 ],
 "metadata": {
  "kernelspec": {
   "display_name": "cust-seg-venv",
   "language": "python",
   "name": "python3"
  },
  "language_info": {
   "codemirror_mode": {
    "name": "ipython",
    "version": 3
   },
   "file_extension": ".py",
   "mimetype": "text/x-python",
   "name": "python",
   "nbconvert_exporter": "python",
   "pygments_lexer": "ipython3",
   "version": "3.9.6"
  }
 },
 "nbformat": 4,
 "nbformat_minor": 2
}
