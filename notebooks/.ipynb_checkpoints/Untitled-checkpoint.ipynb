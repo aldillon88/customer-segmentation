{
 "cells": [
  {
   "cell_type": "code",
   "execution_count": 1,
   "id": "93b5f2d2-6d4d-4009-b93b-e69914d3a0a9",
   "metadata": {},
   "outputs": [],
   "source": [
    "import numpy as np"
   ]
  },
  {
   "cell_type": "code",
   "execution_count": 10,
   "id": "de961d3f-6d96-431b-92ee-b0c49e55a22e",
   "metadata": {},
   "outputs": [
    {
     "data": {
      "text/plain": [
       "np.float64(0.1)"
      ]
     },
     "execution_count": 10,
     "metadata": {},
     "output_type": "execute_result"
    }
   ],
   "source": [
    "xdat = np.array([1, 2, 3, 4, 5])\n",
    "ydat = np.array([0.1, 0.2, 0.3, 0.4, 0.5])\n",
    "\n",
    "xbar = np.sum(xdat) / len(xdat)\n",
    "ybar = np.sum(ydat) / len(ydat)\n",
    "\n",
    "numerator = np.sum((xdat - xbar) * ydat)\n",
    "denominator = np.sum((xdat - xbar) ** 2)\n",
    "\n",
    "m = numerator / denominator\n",
    "m"
   ]
  },
  {
   "cell_type": "code",
   "execution_count": 20,
   "id": "c77b79de-c409-4da3-a719-4921826adef5",
   "metadata": {},
   "outputs": [
    {
     "data": {
      "text/plain": [
       "array([2., 5., 8.])"
      ]
     },
     "execution_count": 20,
     "metadata": {},
     "output_type": "execute_result"
    }
   ],
   "source": [
    "a = np.array([1, 4, 7])\n",
    "b = np.array([2, 5, 8])\n",
    "c = np.array([3, 6, 9])\n",
    "\n",
    "(a + b + c) / 3"
   ]
  },
  {
   "cell_type": "code",
   "execution_count": 22,
   "id": "95846a23-4b0c-4024-a5c6-6b725658d39e",
   "metadata": {},
   "outputs": [
    {
     "data": {
      "text/plain": [
       "array([6., 6., 6.])"
      ]
     },
     "execution_count": 22,
     "metadata": {},
     "output_type": "execute_result"
    }
   ],
   "source": [
    "a = np.array([1, 2, 3])\n",
    "b = np.array([3, 4, 5])\n",
    "c = np.array([5, 3, 1])\n",
    "\n",
    "2 * (a + b + c) / 3"
   ]
  },
  {
   "cell_type": "code",
   "execution_count": 28,
   "id": "acc8afb8-d3ac-4713-a252-c6d6039634a0",
   "metadata": {},
   "outputs": [
    {
     "data": {
      "text/plain": [
       "array([4., 5., 6.])"
      ]
     },
     "execution_count": 28,
     "metadata": {},
     "output_type": "execute_result"
    }
   ],
   "source": [
    "v = np.array([1, 2, 3])\n",
    "a = np.array([1, 2, 3]) + v\n",
    "b = np.array([3, 4, 5]) + v\n",
    "c = np.array([5, 3, 1]) + v\n",
    "\n",
    "(a + b + c) / 3"
   ]
  },
  {
   "cell_type": "code",
   "execution_count": 29,
   "id": "a43ae35c-70bf-4e3a-927a-6e858c0646b6",
   "metadata": {},
   "outputs": [
    {
     "data": {
      "text/plain": [
       "array([2, 4, 6, 4, 6, 8])"
      ]
     },
     "execution_count": 29,
     "metadata": {},
     "output_type": "execute_result"
    }
   ],
   "source": [
    "np.append(a, b)"
   ]
  },
  {
   "cell_type": "code",
   "execution_count": 37,
   "id": "eb95e1b3-4f67-4e91-a18b-5db8af743961",
   "metadata": {},
   "outputs": [
    {
     "data": {
      "text/plain": [
       "np.float64(5.0)"
      ]
     },
     "execution_count": 37,
     "metadata": {},
     "output_type": "execute_result"
    }
   ],
   "source": [
    "a = np.array([[1, 2, 3], [4, 5, 6], [7, 8, 9]])\n",
    "b = np.reshape(a, -1)\n",
    "np.mean(b)"
   ]
  },
  {
   "cell_type": "code",
   "execution_count": 59,
   "id": "06e712c6-9169-42e2-9576-1d0a20d5aee8",
   "metadata": {},
   "outputs": [
    {
     "data": {
      "text/plain": [
       "np.float64(0.5)"
      ]
     },
     "execution_count": 59,
     "metadata": {},
     "output_type": "execute_result"
    }
   ],
   "source": [
    "def variance(x_array):\n",
    "    i_var_array = np.array([])\n",
    "    x_mean = np.mean(x_array)\n",
    "    for i in x_array:\n",
    "        i_var = (i - x_mean) ** 2\n",
    "        i_var_array = np.append(i_var_array, i_var)\n",
    "\n",
    "    i_var_sum = np.sum(i_var_array)\n",
    "\n",
    "    return i_var_sum / len(x_array)\n",
    "\n",
    "data = np.array([1, 2, 3, 2])\n",
    "variance_val = variance(data)\n",
    "variance_val"
   ]
  },
  {
   "cell_type": "code",
   "execution_count": 63,
   "id": "9bda30ff-58ba-4fe2-8f09-013a22bd7b7e",
   "metadata": {},
   "outputs": [
    {
     "data": {
      "text/plain": [
       "np.float64(2.0)"
      ]
     },
     "execution_count": 63,
     "metadata": {},
     "output_type": "execute_result"
    }
   ],
   "source": [
    "data_1 = data * 2\n",
    "variance(data_1)"
   ]
  },
  {
   "cell_type": "code",
   "execution_count": 67,
   "id": "68d6ac30-0aa6-40c6-b0bd-b6e9b97de5ef",
   "metadata": {},
   "outputs": [
    {
     "data": {
      "text/plain": [
       "np.float64(3.0)"
      ]
     },
     "execution_count": 67,
     "metadata": {},
     "output_type": "execute_result"
    }
   ],
   "source": [
    "data = np.array([[1,2],[5,4]])\n",
    "data_mean = np.mean(data)\n",
    "cov"
   ]
  },
  {
   "cell_type": "code",
   "execution_count": 72,
   "id": "3956da43-22e4-4573-ad43-d46814c168f0",
   "metadata": {},
   "outputs": [
    {
     "name": "stdout",
     "output_type": "stream",
     "text": [
      "The mean of arr is: 1.3333333333333333\n",
      "The mean of arr is: 2.6666666666666665\n"
     ]
    }
   ],
   "source": [
    "arr = np.array([-1, 2, 3])\n",
    "arr2 = arr * 2\n",
    "print(f\"The mean of arr is: {np.mean(arr)}\")\n",
    "print(f\"The mean of arr is: {np.mean(arr2)}\")"
   ]
  },
  {
   "cell_type": "code",
   "execution_count": 103,
   "id": "3e5ea8b1-de8d-4c8f-b786-e343d78ee09f",
   "metadata": {},
   "outputs": [
    {
     "name": "stdout",
     "output_type": "stream",
     "text": [
      "[[0 1 2]\n",
      " [3 4 5]\n",
      " [6 7 8]]\n",
      "[[0. 0. 0.]\n",
      " [0. 0. 0.]\n",
      " [0. 0. 0.]]\n",
      "[1 2 3]\n"
     ]
    }
   ],
   "source": [
    "a = np.arange(9).reshape(3, 3)\n",
    "print(a)\n",
    "b = np.zeros(np.shape(a))\n",
    "print(b)\n",
    "v = np.arange(1, 4)\n",
    "print(v)"
   ]
  },
  {
   "cell_type": "code",
   "execution_count": 104,
   "id": "ca44f6fc-1e0c-44a8-a8d7-f59ac98191ca",
   "metadata": {},
   "outputs": [
    {
     "name": "stdout",
     "output_type": "stream",
     "text": [
      "[[1. 0. 0.]\n",
      " [0. 2. 0.]\n",
      " [0. 0. 3.]]\n"
     ]
    }
   ],
   "source": [
    "for i in range(3):\n",
    "    b[i, i] = v[i]\n",
    "\n",
    "print(b)"
   ]
  },
  {
   "cell_type": "code",
   "execution_count": 111,
   "id": "a40d2259-5ca2-483a-a98f-56b013b9dfb5",
   "metadata": {},
   "outputs": [
    {
     "data": {
      "text/plain": [
       "(2, 2)"
      ]
     },
     "execution_count": 111,
     "metadata": {},
     "output_type": "execute_result"
    }
   ],
   "source": [
    "A = np.array([[3, 5],\n",
    "              [1, 2]])\n",
    "A_exp = np.array([[2, -5],\n",
    "                  [-1, 3]])\n",
    "\n",
    "A_inv = np.linalg.inv(A)\n",
    "np.shape(A_inv)"
   ]
  },
  {
   "cell_type": "code",
   "execution_count": 119,
   "id": "f656a8f9-4f85-4e9d-aed6-6d5d8a095b06",
   "metadata": {},
   "outputs": [
    {
     "data": {
      "text/plain": [
       "array([0.5, 1.5, 1. ])"
      ]
     },
     "execution_count": 119,
     "metadata": {},
     "output_type": "execute_result"
    }
   ],
   "source": [
    "X = np.array([[0., 1., 1.], \n",
    "              [1., 2., 1.]])\n",
    "\n",
    "np.mean(X, axis=0, keepdims=True)[0]"
   ]
  },
  {
   "cell_type": "code",
   "execution_count": 144,
   "id": "3963b465-dd4f-4c16-b3fc-0e7eebbe781c",
   "metadata": {},
   "outputs": [
    {
     "name": "stdout",
     "output_type": "stream",
     "text": [
      "Covariance: [[0.25 0.25]\n",
      " [0.25 0.25]]\n"
     ]
    }
   ],
   "source": [
    "# Example data\n",
    "x = [0, 1, 0, 1]\n",
    "y = [1, 2, 1, 2]\n",
    "\n",
    "# Calculate covariance\n",
    "cov_xy = np.cov(x, y, bias=True)#[0, 1]\n",
    "print(\"Covariance:\", cov_xy)"
   ]
  },
  {
   "cell_type": "code",
   "execution_count": 173,
   "id": "6f73421f-521c-4d14-a5a5-6272f262d5b3",
   "metadata": {},
   "outputs": [
    {
     "data": {
      "text/plain": [
       "np.float64(1.5)"
      ]
     },
     "execution_count": 173,
     "metadata": {},
     "output_type": "execute_result"
    }
   ],
   "source": [
    "X = np.array([[0., 1.], \n",
    "              [1., 2.],\n",
    "             [0., 1.], \n",
    "             [1., 2.]])\n",
    "\n",
    "xmean, ymean = np.mean(X, axis=0)\n",
    "np.cov(X, bias=True)\n",
    "np.mean(X[1], axis=0)"
   ]
  },
  {
   "cell_type": "code",
   "execution_count": 133,
   "id": "329fddba-058e-4f65-91c9-6519c6ce38e9",
   "metadata": {},
   "outputs": [
    {
     "name": "stdout",
     "output_type": "stream",
     "text": [
      "0.5\n",
      "1.5\n"
     ]
    }
   ],
   "source": [
    "print(xmean)\n",
    "print(ymean)"
   ]
  },
  {
   "cell_type": "code",
   "execution_count": 174,
   "id": "b1c16959-86dd-4a59-838d-c073f0df4434",
   "metadata": {},
   "outputs": [
    {
     "data": {
      "text/plain": [
       "array([[0., 1.],\n",
       "       [1., 2.],\n",
       "       [0., 1.],\n",
       "       [1., 2.]])"
      ]
     },
     "execution_count": 174,
     "metadata": {},
     "output_type": "execute_result"
    }
   ],
   "source": [
    "X.reshape(-1, 2)"
   ]
  },
  {
   "cell_type": "code",
   "execution_count": 232,
   "id": "f8dfcc5b-c0b5-4565-a8cc-70c5e0c2fe04",
   "metadata": {},
   "outputs": [
    {
     "data": {
      "text/plain": [
       "array([0.5, 1.5])"
      ]
     },
     "execution_count": 232,
     "metadata": {},
     "output_type": "execute_result"
    }
   ],
   "source": [
    "X = np.array([[0., 1.], \n",
    "              [1., 2.],\n",
    "             [0., 1.], \n",
    "             [1., 2.]])\n",
    "\n",
    "means = np.zeros(X.shape[1])\n",
    "\n",
    "for i in range(len(means)):\n",
    "    mean = np.mean(X[i], axis=0)\n",
    "    means[i] = mean\n",
    "\n",
    "means"
   ]
  },
  {
   "cell_type": "code",
   "execution_count": 290,
   "id": "0a1dc24e-55a5-4ab2-8831-95c97cec02eb",
   "metadata": {},
   "outputs": [
    {
     "data": {
      "text/plain": [
       "array([[0.25, 0.25],\n",
       "       [0.25, 0.25]])"
      ]
     },
     "execution_count": 290,
     "metadata": {},
     "output_type": "execute_result"
    }
   ],
   "source": [
    "def cov_naive(X):\n",
    "    \n",
    "    N, D = X.shape\n",
    "    \n",
    "    # Establish mean values for each dimension.\n",
    "    means = np.zeros(D)\n",
    "    for i in range(len(means)):\n",
    "        mean = np.mean(X[:, i], axis=0)\n",
    "        means[i] = mean\n",
    "\n",
    "    # Center the data by subtracting the mean from each sample in each dimension.\n",
    "    centered_data = np.zeros(X.shape)\n",
    "    for i in range(N):\n",
    "        for j in range(D):\n",
    "            array_minus_mean = np.array(X[:,j]) - means[j]\n",
    "            centered_data[:,j] = array_minus_mean\n",
    "\n",
    "    # Calculate the covariance matrix\n",
    "    covariance = np.zeros((D, D))\n",
    "    for i in range(D):\n",
    "        for j in range(D):\n",
    "            covariance[i, j] = sum(centered_data[:, i] * centered_data[:, j]) / N\n",
    "\n",
    "    return covariance\n",
    "    \n",
    "\n",
    "X = np.array([[0., 1.], \n",
    "              [1., 2.],\n",
    "             [0., 1.], \n",
    "             [1., 2.]])\n",
    "\n",
    "Y = np.array([[0., 1.], \n",
    "              [2., 3.]])\n",
    "\n",
    "Z = np.arange(9).reshape(3, 3)\n",
    "\n",
    "cov_naive(X)"
   ]
  },
  {
   "cell_type": "code",
   "execution_count": 368,
   "id": "0340ddc0-2b8c-4e3a-9420-aecc18895268",
   "metadata": {},
   "outputs": [
    {
     "data": {
      "text/plain": [
       "array([[0.25, 0.25],\n",
       "       [0.25, 0.25]])"
      ]
     },
     "execution_count": 368,
     "metadata": {},
     "output_type": "execute_result"
    }
   ],
   "source": [
    "def cov(X):\n",
    "    centered = X - np.mean(X, axis=0)\n",
    "    cov_matrix = (centered.T @ centered) / X.shape[0]\n",
    "    return cov_matrix\n",
    "\n",
    "z = np.array([[1., 2.],\n",
    "       [5., 4.]])\n",
    "\n",
    "cov(X)"
   ]
  },
  {
   "cell_type": "code",
   "execution_count": 358,
   "id": "4f7bb365-9538-4a86-b57c-a7e077908a37",
   "metadata": {},
   "outputs": [
    {
     "name": "stdout",
     "output_type": "stream",
     "text": [
      "[[4. 2.]\n",
      " [2. 1.]]\n",
      "[[1. 2.]\n",
      " [5. 4.]]\n",
      "[[-2. -1.]\n",
      " [ 2.  1.]]\n",
      "[[ 2.5 -2.5]\n",
      " [-2.5  2.5]]\n"
     ]
    },
    {
     "data": {
      "text/plain": [
       "array([[ 2.5, -2.5],\n",
       "       [-2.5,  2.5]])"
      ]
     },
     "execution_count": 358,
     "metadata": {},
     "output_type": "execute_result"
    }
   ],
   "source": [
    "z = np.array([[1., 2.],\n",
    "       [5., 4.]])\n",
    "\n",
    "print(cov_naive(z))\n",
    "cov(z)"
   ]
  },
  {
   "cell_type": "code",
   "execution_count": 378,
   "id": "99fb0eb6-dcbe-4fcb-b069-e9a90ee0b8d1",
   "metadata": {},
   "outputs": [
    {
     "data": {
      "text/plain": [
       "4"
      ]
     },
     "execution_count": 378,
     "metadata": {},
     "output_type": "execute_result"
    }
   ],
   "source": [
    "x = np.array([1, 2])\n",
    "y = np.array([2, 1])\n",
    "\n",
    "np.sum(x * y)\n",
    "np.dot(x, y)\n",
    "1 * 2 + 2 * 1"
   ]
  },
  {
   "cell_type": "code",
   "execution_count": 405,
   "id": "884b424f-d2e4-4959-baa2-1c796ab4a95c",
   "metadata": {},
   "outputs": [
    {
     "data": {
      "text/plain": [
       "np.float64(2.9996955989856287)"
      ]
     },
     "execution_count": 405,
     "metadata": {},
     "output_type": "execute_result"
    }
   ],
   "source": [
    "np.arccos(-7 / (5 * (np.sqrt(2))))"
   ]
  },
  {
   "cell_type": "code",
   "execution_count": 395,
   "id": "513ef146-db22-46af-b267-5d7174fef156",
   "metadata": {},
   "outputs": [
    {
     "data": {
      "text/plain": [
       "-0.141421356237619"
      ]
     },
     "execution_count": 395,
     "metadata": {},
     "output_type": "execute_result"
    }
   ],
   "source": [
    "-1 / (5 * 1.41421356237)"
   ]
  },
  {
   "cell_type": "code",
   "execution_count": 386,
   "id": "fc2560a4-9ec1-4054-b299-5721d8d4814d",
   "metadata": {},
   "outputs": [
    {
     "data": {
      "text/plain": [
       "np.float64(3.3166247903554)"
      ]
     },
     "execution_count": 386,
     "metadata": {},
     "output_type": "execute_result"
    }
   ],
   "source": [
    "x = np.array([1, -1, 3])\n",
    "np.sqrt(np.sum(x**2))"
   ]
  },
  {
   "cell_type": "code",
   "execution_count": 413,
   "id": "e95be303-3e90-48e9-a492-9f22a0007148",
   "metadata": {},
   "outputs": [
    {
     "data": {
      "text/plain": [
       "array([[5, 4],\n",
       "       [4, 5]])"
      ]
     },
     "execution_count": 413,
     "metadata": {},
     "output_type": "execute_result"
    }
   ],
   "source": [
    "A = np.array([[2, 1], [1, 2]])\n",
    "np.inner(A, A)\n",
    "np.dot(A, A)\n",
    "np.matmul(A, A)"
   ]
  }
 ],
 "metadata": {
  "kernelspec": {
   "display_name": "cust-seg-venv",
   "language": "python",
   "name": "cust-seg-venv"
  },
  "language_info": {
   "codemirror_mode": {
    "name": "ipython",
    "version": 3
   },
   "file_extension": ".py",
   "mimetype": "text/x-python",
   "name": "python",
   "nbconvert_exporter": "python",
   "pygments_lexer": "ipython3",
   "version": "3.9.6"
  }
 },
 "nbformat": 4,
 "nbformat_minor": 5
}
